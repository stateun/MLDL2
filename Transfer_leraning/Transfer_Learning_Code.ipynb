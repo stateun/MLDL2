{
 "cells": [
  {
   "cell_type": "markdown",
   "metadata": {
    "id": "aapcoDMjfHJ3"
   },
   "source": [
    "# MLDL2 Homework 3"
   ]
  },
  {
   "cell_type": "code",
   "execution_count": null,
   "metadata": {
    "id": "iEQH-ClaRNoO"
   },
   "outputs": [],
   "source": [
    "import os\n",
    "os.environ[\"OMP_NUM_THREADS\"]= '4'\n",
    "os.environ[\"OMP_THREAD_LIMIT\"] = '4'\n",
    "os.environ[\"MKL_NUM_THREADS\"] = '4'\n",
    "os.environ[\"NUMEXPR_NUM_THREADS\"] = '4'\n",
    "os.environ[\"OMP_NUM_THREADS\"] = '4'\n",
    "os.environ[\"PAPERLESS_AVX2_AVAILABLE\"]=\"false\"\n",
    "os.environ[\"OCR_THREADS\"] = '4'\n",
    "\n",
    "import matplotlib.pyplot as plt\n",
    "import numpy as np\n",
    "import pandas as pd\n",
    "import torch.nn.functional as F\n",
    "import time\n",
    "import os\n",
    "import math\n",
    "from tqdm import tqdm\n",
    "from collections import OrderedDict\n",
    "\n",
    "from copy import deepcopy\n",
    "from datetime import datetime\n",
    "\n",
    "import logging\n",
    "import argparse\n",
    "import torch\n",
    "import torch.nn as nn\n",
    "import torch.optim as optim\n",
    "import torchvision\n",
    "from torchvision import transforms, datasets\n",
    "import torch.nn.functional as F\n",
    "from torchvision.datasets import ImageFolder\n",
    "from torch.utils.data import Dataset\n",
    "from shutil import copyfile\n",
    "\n",
    "import random\n",
    "random.seed(42)\n",
    "\n",
    "\n",
    "import warnings\n",
    "warnings.filterwarnings(action='ignore')"
   ]
  },
  {
   "cell_type": "markdown",
   "metadata": {
    "id": "3F8MLeXVFxTe"
   },
   "source": [
    "# 1. Load the CIFAR-10, CIFAR-100 Datasets"
   ]
  },
  {
   "cell_type": "code",
   "execution_count": null,
   "metadata": {
    "id": "dD388jzIJk8T"
   },
   "outputs": [],
   "source": [
    "BATCH_SIZE = 256\n",
    "\n",
    "cifar10_transform = transforms.Compose([\n",
    "    transforms.Resize((224, 224)),\n",
    "    transforms.ToTensor(),\n",
    "    transforms.Normalize((0.491, 0.482, 0.447), (0.247, 0.244, 0.262))\n",
    "])\n",
    "\n",
    "cifar100_transform = transforms.Compose([\n",
    "    transforms.Resize((224, 224)),\n",
    "    transforms.ToTensor(),\n",
    "    transforms.Normalize((0.507, 0.487, 0.441), (0.267, 0.256, 0.276))\n",
    "])\n",
    "\n",
    "data_dir = \"./data/\"\n",
    "os.makedirs(data_dir, exist_ok=True)\n",
    "\n",
    "cifar10_train_dataset = datasets.CIFAR10(\n",
    "    root=data_dir,\n",
    "    train=True,\n",
    "    download=not os.path.exists(os.path.join(data_dir, 'cifar-10-batches-py')),\n",
    "    transform=cifar10_transform\n",
    ")\n",
    "\n",
    "cifar100_train_dataset = datasets.CIFAR100(\n",
    "    root=data_dir,\n",
    "    train=True,\n",
    "    download=not os.path.exists(os.path.join(data_dir, 'cifar-100-python')),\n",
    "    transform=cifar100_transform\n",
    ")\n",
    "\n",
    "# Create DataLoaders\n",
    "cifar10_train_loader = torch.utils.data.DataLoader(\n",
    "    dataset=cifar10_train_dataset,\n",
    "    batch_size=BATCH_SIZE,\n",
    "    shuffle=True\n",
    ")\n",
    "\n",
    "cifar100_train_loader = torch.utils.data.DataLoader(\n",
    "    dataset=cifar100_train_dataset,\n",
    "    batch_size=BATCH_SIZE,\n",
    "    shuffle=True\n",
    ")"
   ]
  },
  {
   "cell_type": "markdown",
   "metadata": {
    "id": "Cb8rXf3pdLD1"
   },
   "source": [
    "# 2. Load the Caltech UCSD Birds-200 Dataset"
   ]
  },
  {
   "cell_type": "code",
   "execution_count": null,
   "metadata": {
    "id": "B4lHZVtDLWFg"
   },
   "outputs": [],
   "source": [
    "class CUB_Dataset(Dataset):\n",
    "    def __init__(self,img_file, label_file, batch_size, transform=None):\n",
    "        self.img = np.load(img_file)\n",
    "        self.labels = np.load(label_file)\n",
    "        self.transform = transform\n",
    "        self.batch_size = batch_size\n",
    "\n",
    "    def __len__(self):\n",
    "        return len(self.img)\n",
    "\n",
    "    def __getitem__(self, idx):\n",
    "        image = self.img[idx]\n",
    "        if self.transform:\n",
    "            image = self.transform(image)\n",
    "        label = self.labels[idx]\n",
    "\n",
    "        return image,label\n",
    "\n",
    "cub_bird_transform = transforms.Compose([\n",
    "        transforms.ToTensor(),\n",
    "        transforms.Normalize((0.485, 0.456, 0.406), (0.229, 0.224, 0.225))\n",
    "    ])\n",
    "\n",
    "cub_train_dataset = CUB_Dataset(img_file=\"./CUB_train_images.npy\",\n",
    "                                        label_file=\"./CUB_train_labels.npy\", batch_size = 64, transform=cub_bird_transform)\n",
    "\n",
    "cub_train_loader = torch.utils.data.DataLoader(cub_train_dataset, batch_size= 64, shuffle=True)\n",
    "\n",
    "cub_val_dataset = CUB_Dataset(img_file=\"./CUB_val_images.npy\",\n",
    "                                        label_file=\"./CUB_val_labels.npy\", batch_size = 64, transform=cub_bird_transform)\n",
    "cub_val_loader = torch.utils.data.DataLoader(cub_val_dataset, batch_size = 64, shuffle=False)"
   ]
  },
  {
   "cell_type": "code",
   "execution_count": null,
   "metadata": {
    "id": "gCycWrVfb1B9"
   },
   "outputs": [],
   "source": [
    "# Number of samples in the dataset\n",
    "\n",
    "print(\"cifar10 train dataset size : \", len(cifar10_train_dataset))\n",
    "print(\"cifar100 train dataset size : \", len(cifar100_train_dataset))\n",
    "print(\"caltech bird train dataset size : \", len(cub_train_dataset))\n",
    "print(\"caltech bird validation dataset size : \", len(cub_val_dataset))"
   ]
  },
  {
   "cell_type": "markdown",
   "metadata": {
    "id": "iYNOefV_w_6s"
   },
   "source": [
    "## CIFAR-10 Visualiztion"
   ]
  },
  {
   "cell_type": "code",
   "execution_count": null,
   "metadata": {
    "id": "fkXd-znsFKVZ"
   },
   "outputs": [],
   "source": [
    "# Plot the training images and labels\n",
    "\n",
    "cifar10_denormalize = transforms.Normalize(mean=[-0.491/0.247, -0.482/0.244, -0.447/0.262], std=[1/0.247, 1/0.244, 1/0.262])\n",
    "to_pil_image = transforms.functional.to_pil_image\n",
    "\n",
    "images, labels = next(iter(cifar10_train_loader))\n",
    "\n",
    "fig, ax = plt.subplots(1, 4, figsize=(16, 4))\n",
    "ax[0].imshow(to_pil_image(cifar10_denormalize(images[0])))\n",
    "ax[1].imshow(to_pil_image(cifar10_denormalize(images[1])))\n",
    "ax[2].imshow(to_pil_image(cifar10_denormalize(images[2])))\n",
    "ax[3].imshow(to_pil_image(cifar10_denormalize(images[3])))\n",
    "plt.show()\n",
    "\n",
    "print(labels[:4])"
   ]
  },
  {
   "cell_type": "markdown",
   "metadata": {
    "id": "IdFSjYvuxOpG"
   },
   "source": [
    "## CIFAR-100 Visualiztion"
   ]
  },
  {
   "cell_type": "code",
   "execution_count": null,
   "metadata": {
    "id": "HMfOkh5fuzFh"
   },
   "outputs": [],
   "source": [
    "# Plot the training images and labels\n",
    "\n",
    "cifar100_denormalize = transforms.Normalize(mean=[-0.507/0.267, -0.487/0.256, -0.441/0.276], std=[1/0.267, 1/0.256, 1/0.276])\n",
    "to_pil_image = transforms.functional.to_pil_image\n",
    "\n",
    "images, labels = next(iter(cifar100_train_loader))\n",
    "\n",
    "fig, ax = plt.subplots(1, 4, figsize=(16, 4))\n",
    "ax[0].imshow(to_pil_image(cifar100_denormalize(images[0])))\n",
    "ax[1].imshow(to_pil_image(cifar100_denormalize(images[1])))\n",
    "ax[2].imshow(to_pil_image(cifar100_denormalize(images[2])))\n",
    "ax[3].imshow(to_pil_image(cifar100_denormalize(images[3])))\n",
    "plt.show()\n",
    "\n",
    "print(labels[:4])"
   ]
  },
  {
   "cell_type": "markdown",
   "metadata": {
    "id": "-84rp9ATxQ7g"
   },
   "source": [
    "## Caltech UCSD Birds-200 Visualiztion"
   ]
  },
  {
   "cell_type": "code",
   "execution_count": null,
   "metadata": {
    "id": "UcDGiKEvuy1K"
   },
   "outputs": [],
   "source": [
    "# Plot the training images and labels\n",
    "\n",
    "cub_denormalize = transforms.Normalize(mean=[-0.485/0.229, -0.456/0.224, -0.406/0.225], std=[1/0.229, 1/0.224, 1/0.225])\n",
    "to_pil_image = transforms.functional.to_pil_image\n",
    "\n",
    "images, labels = next(iter(cub_train_loader))\n",
    "\n",
    "fig, ax = plt.subplots(1, 4, figsize=(16, 4))\n",
    "ax[0].imshow(to_pil_image(cub_denormalize(images[0])))\n",
    "ax[1].imshow(to_pil_image(cub_denormalize(images[1])))\n",
    "ax[2].imshow(to_pil_image(cub_denormalize(images[2])))\n",
    "ax[3].imshow(to_pil_image(cub_denormalize(images[3])))\n",
    "plt.show()\n",
    "\n",
    "print(labels[:4])"
   ]
  },
  {
   "cell_type": "markdown",
   "metadata": {
    "id": "mwiWInhUeLcH"
   },
   "source": [
    "# 3. Define the Model Architecture"
   ]
  },
  {
   "cell_type": "markdown",
   "metadata": {
    "id": "pUvBbX-ieUdA"
   },
   "source": [
    "Here we define the model. Below is very simple model with CNN. You can customize your own model and note that you are not limited to use any methods. **But you are not allowed to use pretrained weight**"
   ]
  },
  {
   "cell_type": "code",
   "execution_count": null,
   "metadata": {},
   "outputs": [],
   "source": [
    "concat = lambda x: np.concatenate(x, axis=0)\n",
    "to_np = lambda x: x.data.to(\"cpu\").numpy()\n",
    "\n",
    "device = torch.device(\"cuda:0\" if torch.cuda.is_available() else \"cpu\")"
   ]
  },
  {
   "cell_type": "code",
   "execution_count": null,
   "metadata": {},
   "outputs": [],
   "source": [
    "class RunningParams:\n",
    "    def __init__(self, training_type=None, version=18, seed=None):\n",
    "        # Use the global training_type if not specified\n",
    "        if training_type is None:\n",
    "            training_type = 'CUB'\n",
    "\n",
    "        # # The seed is fixed to ensure reproducibility.\n",
    "        if seed is not None:\n",
    "            self.set_seed(seed)\n",
    "\n",
    "        self.set_active_training(training_type)\n",
    "\n",
    "        self.TRANSFORMER_ARCH = True\n",
    "        self.VisionTransformer = False\n",
    "        self.resnet = version\n",
    "\n",
    "        self.k_value = 1\n",
    "\n",
    "        # Retrieving NNs and sample positive and negative pairs\n",
    "        # Set it when you extract the NNs. data_dir is the folder containing query images for KNN retrieval\n",
    "        # Set it when you run train/test\n",
    "        self.set = 'train'\n",
    "        self.PRODUCT_OF_EXPERTS = True\n",
    "\n",
    "        self.parent_dir = '/home/stateun/'\n",
    "        self.prj_dir = '/home/stateun/MLDL2/'\n",
    "        self.model_dir = f'{self.prj_dir}/pretrained_models'\n",
    "\n",
    "        # General\n",
    "        self.conv_layer = 4\n",
    "\n",
    "        self.feat_map_size = {self.conv_layer: 49}  # 7x7\n",
    "        if self.resnet == 50:\n",
    "            self.conv_layer_size = {4: 2048}\n",
    "        elif self.resnet == 34:\n",
    "            self.conv_layer_size = {4: 512}\n",
    "        elif self.resnet == 18:\n",
    "            self.conv_layer_size = {4: 512}\n",
    "        else:\n",
    "            print('Not supported architecture! Exiting...')\n",
    "            exit(-1)\n",
    "\n",
    "        # Visualization\n",
    "        self.VISUALIZE_COMPARATOR_CORRECTNESS = False\n",
    "        self.VISUALIZE_COMPARATOR_HEATMAPS = False\n",
    "\n",
    "        # Set training-specific parameters\n",
    "        self.set_training_params()\n",
    "\n",
    "    def set_seed(self, seed):\n",
    "        \"\"\"\n",
    "        Set the random seed for reproducibility.\n",
    "        \"\"\"\n",
    "        random.seed(seed)\n",
    "        np.random.seed(seed)\n",
    "        torch.manual_seed(seed)\n",
    "        torch.backends.cudnn.deterministic = True\n",
    "        torch.backends.cudnn.benchmark = False\n",
    "        print(f\"Seed set to: {seed}\")\n",
    "\n",
    "    def set_active_training(self, training_type):\n",
    "        # Set all training modes to False\n",
    "        self.CUB_TRAINING = False\n",
    "\n",
    "        # Activate the chosen training mode\n",
    "        if training_type == 'CUB':\n",
    "            self.CUB_TRAINING = True\n",
    "        else:\n",
    "            raise ValueError(\"Invalid training type. Please choose 'CUB', 'CIFAR-10', or 'CIFAR-100'.\")\n",
    "\n",
    "    def set_training_params(self):\n",
    "        # Set parameters specific to the active training mode\n",
    "        if self.CUB_TRAINING:\n",
    "            # Set parameters for CUB training\n",
    "            self.train_path = 'MLDL2'\n",
    "            self.test_path = 'datasets/CUB/test0'\n",
    "            self.combined_path = 'datasets/CUB/combined'\n",
    "            self.batch_size = 64\n",
    "            self.epochs = 100\n",
    "\n",
    "            self.learning_rate = 1e-3\n",
    "\n",
    "            self.RN50_INAT = True\n",
    "            self.NTSNET = False\n",
    "\n",
    "            # Determine if you want to use 1st, 2nd or 3rd NNs (in each class) to pair with your input to train AdvNet.\n",
    "            self.negative_order = 1\n",
    "\n",
    "            if self.set == 'test':\n",
    "                self.data_dir = f'{self.parent_dir}/{self.test_path}'  # CUB test folder\n",
    "            else:\n",
    "                self.data_dir = f'{self.parent_dir}/datasets/CUB/advnet/{self.set}'  # CUB train folder\n",
    "\n",
    "            self.Q = 10  # Q values for building positives and negatives\n",
    "            self.faiss_npy_file = f'{self.prj_dir}/faiss/cub/INAT_{self.RN50_INAT}_top{self.Q}_k{self.k_value}_rn{self.resnet}_{self.set}-set_NN{self.negative_order}th.npy'\n",
    "\n",
    "            self.aug_data_dir = f'{self.data_dir}_INAT_{self.RN50_INAT}_top{self.Q}_rn{self.resnet}_NN{self.negative_order}th'\n",
    "\n",
    "            if self.VisionTransformer is True:\n",
    "                self.faiss_npy_file = f'{self.prj_dir}/faiss/cub/ViT_top{self.Q}_k{self.k_value}_{self.set}-set_NN{self.negative_order}th.npy'\n",
    "\n",
    "                self.aug_data_dir = f'{self.data_dir}_ViT_INAT_{self.RN50_INAT}_top{self.Q}_rn{self.resnet}_NN{self.negative_order}th'\n",
    "\n",
    "            self.N = 4  # Depth of self-attention\n",
    "            self.M = 4  # Depth of cross-attention\n",
    "            self.L = 2  # Depth of transformer\n",
    "            self.extension = '.jpg'\n",
    "        else:\n",
    "            raise ValueError(\"No valid training mode set.\")"
   ]
  },
  {
   "cell_type": "code",
   "execution_count": null,
   "metadata": {},
   "outputs": [],
   "source": [
    "# --------------------------------------\n",
    "# The ResNet models to be used for this assignment are ResNet-18 and ResNet-34\n",
    "# --------------------------------------\n",
    "\n",
    "running_params = RunningParams('CUB', version = 18, seed = 42)\n",
    "\n",
    "# --------------------------------------\n",
    "# For the version option, we can include ResNet-18, ResNet-34, or even ResNet-50.\n",
    "# --------------------------------------\n",
    "\n",
    "if running_params.resnet == 50:\n",
    "    model = torchvision.models.resnet50(pretrained=False).to(device)\n",
    "elif running_params.resnet == 34:\n",
    "    model = torchvision.models.resnet34(pretrained=False).to(device)\n",
    "elif running_params.resnet == 18:\n",
    "    model = torchvision.models.resnet18(pretrained=False).to(device)\n",
    "    \n",
    "for param in model.parameters():\n",
    "    param.requires_grad = True"
   ]
  },
  {
   "cell_type": "markdown",
   "metadata": {},
   "source": [
    "We first evaluate the performance using ResNet-18."
   ]
  },
  {
   "cell_type": "code",
   "execution_count": null,
   "metadata": {},
   "outputs": [],
   "source": [
    "for param in model.parameters():\n",
    "    param.requires_grad = True\n",
    "\n",
    "criterion = nn.CrossEntropyLoss()\n",
    "optimizer = optim.Adam(model.parameters())\n",
    "scheduler = optim.lr_scheduler.MultiStepLR(optimizer, milestones=[25], gamma=0.1)\n",
    "\n",
    "def test_model(model):\n",
    "    model.eval()\n",
    "    print('---------- Start Model Evaluations -----------')\n",
    "    running_loss = 0.0\n",
    "    running_corrects = 0\n",
    "\n",
    "    for _, (data, target) in enumerate(tqdm(cub_val_loader, desc=\"Evaluating\")):\n",
    "        data = data.to(device)\n",
    "        target = target.to(device)\n",
    "        outputs = model(data)\n",
    "        loss = criterion(outputs, target)\n",
    "        _, preds = torch.max(outputs, 1)\n",
    "        running_loss += loss.item() * target.size(0)\n",
    "        running_corrects += torch.sum(preds == target.data)\n",
    "\n",
    "    epoch_loss = running_loss / len(cub_val_dataset.labels)\n",
    "    epoch_acc = running_corrects.double() / len(cub_val_dataset.labels)\n",
    "\n",
    "    print(\"-\" * 10)\n",
    "    print(\"loss: {:.4f}, acc: {:.4f}\".format(epoch_loss, epoch_acc))\n",
    "    print('---------- End Model Evaluations -----------')\n",
    "\n",
    "def train_model(model, criterion, optimizer, num_epochs=3):\n",
    "\n",
    "    train_len = len(cub_train_dataset.labels)\n",
    "    val_len = len(cub_val_dataset.labels)\n",
    "\n",
    "    train_losses = []\n",
    "    val_losses = []\n",
    "    train_accuracies = []\n",
    "    val_accuracies = []\n",
    "\n",
    "    best_model_wts = model.state_dict()\n",
    "    best_val_acc = 0.0\n",
    "    best_model_path = f'ResNet_{version_num}best_model.pth'\n",
    "\n",
    "    start = time.time()\n",
    "    for epoch in range(num_epochs):\n",
    "\n",
    "        if epoch != 0 :\n",
    "            print('---------------------------------------------')\n",
    "            \n",
    "        print(f\"Starting epoch : {epoch + 1}/{num_epochs}\")\n",
    "\n",
    "        running_loss = 0.0\n",
    "        running_corrects = 0\n",
    "        val_running_loss = 0.0\n",
    "        val_running_corrects = 0\n",
    "\n",
    "        # Update model\n",
    "        model.train()\n",
    "        for _, (data, target) in enumerate(tqdm(cub_train_loader, desc=f\"Training Epoch {epoch + 1}\")):\n",
    "            data = data.to(device)\n",
    "            target = target.to(device)\n",
    "            outputs = model(data)\n",
    "\n",
    "            loss = criterion(outputs, target)\n",
    "            optimizer.zero_grad()\n",
    "            loss.backward()\n",
    "            optimizer.step()\n",
    "\n",
    "            _, preds = torch.max(outputs, 1)\n",
    "            running_loss += loss.item() * target.size(0)\n",
    "            running_corrects += torch.sum(preds == target.data)\n",
    "\n",
    "        # Calculate validation score\n",
    "        model.eval()\n",
    "        for _, (data, target) in enumerate(tqdm(cub_val_loader, desc=\"Validating\")):\n",
    "            data = data.to(device)\n",
    "            target = target.to(device)\n",
    "            outputs = model(data)\n",
    "\n",
    "            _, preds = torch.max(outputs, 1)\n",
    "            loss = criterion(outputs, target)\n",
    "            val_running_loss += loss.item() * target.size(0)\n",
    "            val_running_corrects += torch.sum(preds == target.data)\n",
    "\n",
    "        epoch_loss = running_loss / train_len\n",
    "        epoch_acc = running_corrects.double() / train_len\n",
    "        \n",
    "        # Note that step should be called after 25 epochs\n",
    "        scheduler.step(epoch_loss)\n",
    "        \n",
    "        if scheduler.last_epoch in scheduler.milestones :\n",
    "            print(f\"Scheduler step executed: learning rate updated at epoch {scheduler.last_epoch}\")\n",
    "        \n",
    "        val_epoch_loss = val_running_loss / val_len\n",
    "        val_epoch_acc = val_running_corrects.double() / val_len\n",
    "\n",
    "        train_losses.append(epoch_loss)\n",
    "        val_losses.append(val_epoch_loss)\n",
    "        train_accuracies.append(epoch_acc.item())\n",
    "        val_accuracies.append(val_epoch_acc.item())\n",
    "\n",
    "        # Save the best model\n",
    "        if val_epoch_acc > best_val_acc:\n",
    "            best_val_acc = val_epoch_acc\n",
    "            best_model_wts = model.state_dict()\n",
    "            torch.save(best_model_wts, best_model_path)\n",
    "            print(f\"Best model updated and saved to {best_model_path} with validation accuracy: {best_val_acc:.4f}\")\n",
    "\n",
    "        end = time.time()\n",
    "        between_time = end - start\n",
    "        if epoch % 1 == 0:\n",
    "            print(f\"Epoch {epoch + 1}/{num_epochs}, time = {between_time:.1f} / {between_time * num_epochs / (epoch + 1):.1f}\")\n",
    "            print(f\"Loss: {epoch_loss:.4f}, ACC: {epoch_acc * 100:.2f}%, Val_Loss: {val_epoch_loss:.4f}, Val_Acc: {val_epoch_acc * 100:.2f}%\")\n",
    "\n",
    "    # Load the best model weights\n",
    "    model.load_state_dict(best_model_wts)\n",
    "    print('---------- End Training Process -----------')\n",
    "    print(f\"Best model saved at: {best_model_path}\")\n",
    "\n",
    "    # Plot losses\n",
    "    plt.figure()\n",
    "    plt.plot(range(1, num_epochs + 1), train_losses, label='Train Loss', color='darkgreen')\n",
    "    plt.plot(range(1, num_epochs + 1), val_losses, label='Validation Loss', color='navy')\n",
    "    plt.xlabel('Epochs')\n",
    "    plt.ylabel('Loss')\n",
    "    plt.title('Loss Plot')\n",
    "    plt.legend()\n",
    "    plt.grid(True, which='both', linestyle='--', linewidth=0.5)\n",
    "    plt.show()\n",
    "\n",
    "    # Plot accuracies\n",
    "    plt.figure()\n",
    "    plt.plot(range(1, num_epochs + 1), train_accuracies, label='Train Accuracy', color='darkgreen')\n",
    "    plt.plot(range(1, num_epochs + 1), val_accuracies, label='Validation Accuracy', color='navy')\n",
    "    plt.xlabel('Epochs')\n",
    "    plt.ylabel('Accuracy')\n",
    "    plt.title('Accuracy Plot')\n",
    "    plt.legend()\n",
    "    plt.grid(True, which='both', linestyle='--', linewidth=0.5)\n",
    "    plt.show()\n",
    "\n",
    "    return model\n",
    "\n",
    "print('---------- Starting Training Process -----------')\n",
    "model_trained = train_model(model, criterion, optimizer, num_epochs=50)\n",
    "print('---------- Training Complete -----------')\n",
    "\n",
    "test_model(model_trained)\n",
    "print('---------- Evaluation Complete -----------')\n"
   ]
  },
  {
   "cell_type": "markdown",
   "metadata": {},
   "source": [
    "From the above results, we can infer that overfitting has occurred.\n",
    "\n",
    "We will employ the following methodologies:\n",
    "\n",
    "1. Pre-training and (full) fine-tuning\n",
    "2. Data Augmentation\n",
    "3. Ensemble"
   ]
  },
  {
   "cell_type": "code",
   "execution_count": null,
   "metadata": {},
   "outputs": [],
   "source": [
    "# Model_save\n",
    "\n",
    "torch.save({\n",
    "    'model_state_dict': model.state_dict(),\n",
    "    'optimizer_state_dict': optimizer.state_dict(),   \n",
    "}, 'pre_trained_ResNet_18_original')"
   ]
  },
  {
   "cell_type": "markdown",
   "metadata": {},
   "source": [
    "## 1. Pre-training and (full)fine-tuning"
   ]
  },
  {
   "cell_type": "markdown",
   "metadata": {},
   "source": [
    "### Pre-training With CIFAR-10"
   ]
  },
  {
   "cell_type": "code",
   "execution_count": null,
   "metadata": {},
   "outputs": [],
   "source": [
    "# Define Pretraining hyperparameters\n",
    "pre_epochs = 40\n",
    "pre_lr = 0.01\n",
    "pre_optimizer = optim.Adam(model.parameters())\n",
    "pre_criterion = nn.CrossEntropyLoss()\n",
    "\n",
    "scheduler = optim.lr_scheduler.MultiStepLR(pre_optimizer, milestones=[20], gamma=0.1)\n",
    "model.fc = nn.Sequential(nn.Linear(512, 10)).to(device)"
   ]
  },
  {
   "cell_type": "code",
   "execution_count": null,
   "metadata": {},
   "outputs": [],
   "source": [
    "\n",
    "train_len = len(cifar10_train_dataset.targets)\n",
    "\n",
    "train_losses = []\n",
    "train_accuracies = []\n",
    "\n",
    "start = time.time()\n",
    "for epoch in range(pre_epochs):\n",
    "\n",
    "    if epoch != 0 :\n",
    "        print('---------------------------------------------')\n",
    "        \n",
    "    print(f\"Starting epoch : {epoch + 1}/{pre_epochs}\")\n",
    "\n",
    "    running_loss = 0.0\n",
    "    running_corrects = 0\n",
    "    val_running_loss = 0.0\n",
    "    val_running_corrects = 0\n",
    "\n",
    "    # Update model\n",
    "    model.train()\n",
    "    for _, (data, target) in enumerate(tqdm(cifar10_train_loader, desc=f\"Training Epoch {epoch + 1}\")):\n",
    "        data = data.to(device)\n",
    "        target = target.to(device)\n",
    "        outputs = model(data)\n",
    "\n",
    "        loss = pre_criterion(outputs, target)\n",
    "        pre_optimizer.zero_grad()\n",
    "        loss.backward()\n",
    "        pre_optimizer.step()\n",
    "\n",
    "        _, preds = torch.max(outputs, 1)\n",
    "        running_loss += loss.item() * target.size(0)\n",
    "        running_corrects += torch.sum(preds == target.data)\n",
    "\n",
    "    epoch_loss = running_loss / train_len\n",
    "    epoch_acc = running_corrects.double() / train_len\n",
    "    \n",
    "    # Note that step should be called after 20 epochs\n",
    "    scheduler.step(epoch_loss)\n",
    "    \n",
    "    if scheduler.last_epoch in scheduler.milestones :\n",
    "        print(f\"Scheduler step executed: learning rate updated at epoch {scheduler.last_epoch}\")\n",
    "\n",
    "    train_losses.append(epoch_loss)\n",
    "    train_accuracies.append(epoch_acc.item())\n",
    "\n",
    "    end = time.time()\n",
    "    between_time = end - start\n",
    "    if epoch % 1 == 0:\n",
    "        print(f\"Epoch {epoch + 1}/{pre_epochs}, time = {between_time:.1f} / {between_time * pre_epochs / (epoch + 1):.1f}\")\n",
    "        print(f\"Loss: {epoch_loss:.4f}, ACC: {epoch_acc * 100:.2f}%\")\n",
    "\n",
    "print('---------- End Training Process -----------')"
   ]
  },
  {
   "cell_type": "markdown",
   "metadata": {},
   "source": [
    "### Pre-training with CIFAR-100"
   ]
  },
  {
   "cell_type": "code",
   "execution_count": null,
   "metadata": {},
   "outputs": [],
   "source": [
    "# Define Pretraining hyperparameters\n",
    "pre_epochs = 40\n",
    "pre_lr = 0.01\n",
    "\n",
    "scheduler = optim.lr_scheduler.MultiStepLR(pre_optimizer, milestones=[20], gamma=0.1)\n",
    "model.fc = nn.Sequential(nn.Linear(512, 100)).to(device)"
   ]
  },
  {
   "cell_type": "code",
   "execution_count": null,
   "metadata": {},
   "outputs": [],
   "source": [
    "train_len = len(cifar100_train_dataset.targets)\n",
    "\n",
    "train_losses = []\n",
    "train_accuracies = []\n",
    "\n",
    "start = time.time()\n",
    "for epoch in range(pre_epochs):\n",
    "\n",
    "    if epoch != 0 :\n",
    "        print('---------------------------------------------')\n",
    "        \n",
    "    print(f\"Starting epoch : {epoch + 1}/{pre_epochs}\")\n",
    "\n",
    "    running_loss = 0.0\n",
    "    running_corrects = 0\n",
    "    val_running_loss = 0.0\n",
    "    val_running_corrects = 0\n",
    "\n",
    "    # Update model\n",
    "    model.train()\n",
    "    for _, (data, target) in enumerate(tqdm(cifar100_train_loader, desc=f\"Training Epoch {epoch + 1}\")):\n",
    "        data = data.to(device)\n",
    "        target = target.to(device)\n",
    "        outputs = model(data)\n",
    "\n",
    "        loss = pre_criterion(outputs, target)\n",
    "        pre_optimizer.zero_grad()\n",
    "        loss.backward()\n",
    "        pre_optimizer.step()\n",
    "\n",
    "        _, preds = torch.max(outputs, 1)\n",
    "        running_loss += loss.item() * target.size(0)\n",
    "        running_corrects += torch.sum(preds == target.data)\n",
    "\n",
    "    epoch_loss = running_loss / train_len\n",
    "    epoch_acc = running_corrects.double() / train_len\n",
    "\n",
    "    train_losses.append(epoch_loss)\n",
    "    train_accuracies.append(epoch_acc.item())\n",
    "\n",
    "    end = time.time()\n",
    "    between_time = end - start\n",
    "    if epoch % 1 == 0:\n",
    "        print(f\"Epoch {epoch + 1}/{pre_epochs}, time = {between_time:.1f} / {between_time * pre_epochs / (epoch + 1):.1f}\")\n",
    "        print(f\"Loss: {epoch_loss:.4f}, ACC: {epoch_acc * 100:.2f}%\")\n",
    "\n",
    "print('---------- End Training Process -----------')"
   ]
  },
  {
   "cell_type": "markdown",
   "metadata": {},
   "source": [
    "### ModelSave."
   ]
  },
  {
   "cell_type": "code",
   "execution_count": null,
   "metadata": {},
   "outputs": [],
   "source": [
    "# Model Save\n",
    "# torch.save({\n",
    "#     'model_state_dict': model.state_dict(),\n",
    "#     'optimizer_state_dict': pre_optimizer.state_dict(),\n",
    "#     'epoch': epoch, \n",
    "#     'loss': loss      \n",
    "# }, 'pre_trained_ResNet_18')\n",
    "\n",
    "# Load the our model\n",
    "# pre_train_model = torch.load(\"pre_trained_ResNet_18\")\n",
    "# pretrained_dict = pre_train_model['model_state_dict']\n",
    "\n",
    "# modified_dict = {k.replace(\"fc.0\", \"fc\"): v for k, v in pretrained_dict.items()}\n",
    "\n",
    "# model = torchvision.models.resnet18(pretrained=False).to(device)\n",
    "# model.fc = nn.Linear(512, 200)\n",
    "# model.load_state_dict(modified_dict, strict=False)"
   ]
  },
  {
   "cell_type": "markdown",
   "metadata": {},
   "source": [
    "Model saving causes issues with kernel crashes, so the pre-trained model is saved instead."
   ]
  },
  {
   "cell_type": "markdown",
   "metadata": {},
   "source": [
    "### Fine-tuning only head part."
   ]
  },
  {
   "cell_type": "code",
   "execution_count": null,
   "metadata": {},
   "outputs": [],
   "source": [
    "model.fc = nn.Sequential(nn.Linear(512, 200)).to(device)"
   ]
  },
  {
   "cell_type": "code",
   "execution_count": null,
   "metadata": {},
   "outputs": [],
   "source": [
    "version_num = 18\n",
    "running_params = RunningParams('CUB', version = version_num, seed = 42)\n",
    "\n",
    "for name, param in model.named_parameters():\n",
    "    if \"fc\" in name:  \n",
    "        param.requires_grad = True\n",
    "    else:\n",
    "        param.requires_grad = False\n",
    "\n",
    "criterion = nn.CrossEntropyLoss()\n",
    "optimizer = optim.Adam(model.fc.parameters())\n",
    "\n",
    "def test_model(model):\n",
    "    model.eval()\n",
    "    print('---------- Start Model Evaluations -----------')\n",
    "    running_loss = 0.0\n",
    "    running_corrects = 0\n",
    "\n",
    "    for _, (data, target) in enumerate(tqdm(cub_val_loader, desc=\"Evaluating\")):\n",
    "        data = data.to(device)\n",
    "        target = target.to(device)\n",
    "        outputs = model(data)\n",
    "        loss = criterion(outputs, target)\n",
    "        _, preds = torch.max(outputs, 1)\n",
    "        running_loss += loss.item() * target.size(0)\n",
    "        running_corrects += torch.sum(preds == target.data)\n",
    "\n",
    "    epoch_loss = running_loss / len(cub_val_dataset.labels)\n",
    "    epoch_acc = running_corrects.double() / len(cub_val_dataset.labels)\n",
    "\n",
    "    print(\"-\" * 10)\n",
    "    print(\"loss: {:.4f}, acc: {:.4f}\".format(epoch_loss, epoch_acc))\n",
    "    print('---------- End Model Evaluations -----------')\n",
    "\n",
    "def train_model(model, criterion, optimizer, num_epochs=3):\n",
    "\n",
    "    train_len = len(cub_train_dataset.labels)\n",
    "    val_len = len(cub_val_dataset.labels)\n",
    "\n",
    "    train_losses = []\n",
    "    val_losses = []\n",
    "    train_accuracies = []\n",
    "    val_accuracies = []\n",
    "\n",
    "    best_model_wts = model.state_dict()\n",
    "    best_val_acc = 0.0\n",
    "    best_model_path = f'ResNet_{version_num}best_model.pth'\n",
    "\n",
    "    start = time.time()\n",
    "    for epoch in range(num_epochs):\n",
    "\n",
    "        if epoch != 0 :\n",
    "            print('---------------------------------------------')\n",
    "            \n",
    "        print(f\"Starting epoch : {epoch + 1}/{num_epochs}\")\n",
    "\n",
    "        running_loss = 0.0\n",
    "        running_corrects = 0\n",
    "        val_running_loss = 0.0\n",
    "        val_running_corrects = 0\n",
    "\n",
    "        # Update model\n",
    "        model.train()\n",
    "        for _, (data, target) in enumerate(tqdm(cub_train_loader, desc=f\"Training Epoch {epoch + 1}\")):\n",
    "            data = data.to(device)\n",
    "            target = target.to(device)\n",
    "            outputs = model(data)\n",
    "\n",
    "            loss = criterion(outputs, target)\n",
    "            optimizer.zero_grad()\n",
    "            loss.backward()\n",
    "            optimizer.step()\n",
    "\n",
    "            _, preds = torch.max(outputs, 1)\n",
    "            running_loss += loss.item() * target.size(0)\n",
    "            running_corrects += torch.sum(preds == target.data)\n",
    "\n",
    "        # Calculate validation score\n",
    "        model.eval()\n",
    "        for _, (data, target) in enumerate(tqdm(cub_val_loader, desc=\"Validating\")):\n",
    "            data = data.to(device)\n",
    "            target = target.to(device)\n",
    "            outputs = model(data)\n",
    "\n",
    "            _, preds = torch.max(outputs, 1)\n",
    "            loss = criterion(outputs, target)\n",
    "            val_running_loss += loss.item() * target.size(0)\n",
    "            val_running_corrects += torch.sum(preds == target.data)\n",
    "\n",
    "        epoch_loss = running_loss / train_len\n",
    "        epoch_acc = running_corrects.double() / train_len\n",
    "        val_epoch_loss = val_running_loss / val_len\n",
    "        val_epoch_acc = val_running_corrects.double() / val_len\n",
    "\n",
    "        train_losses.append(epoch_loss)\n",
    "        val_losses.append(val_epoch_loss)\n",
    "        train_accuracies.append(epoch_acc.item())\n",
    "        val_accuracies.append(val_epoch_acc.item())\n",
    "\n",
    "        # Save the best model\n",
    "        if val_epoch_acc > best_val_acc:\n",
    "            best_val_acc = val_epoch_acc\n",
    "            best_model_wts = model.state_dict()\n",
    "            torch.save(best_model_wts, best_model_path)\n",
    "            print(f\"Best model updated and saved to {best_model_path} with validation accuracy: {best_val_acc:.4f}\")\n",
    "\n",
    "        end = time.time()\n",
    "        between_time = end - start\n",
    "        if epoch % 1 == 0:\n",
    "            print(f\"Epoch {epoch + 1}/{num_epochs}, time = {between_time:.1f} / {between_time * num_epochs / (epoch + 1):.1f}\")\n",
    "            print(f\"Loss: {epoch_loss:.4f}, ACC: {epoch_acc * 100:.2f}%, Val_Loss: {val_epoch_loss:.4f}, Val_Acc: {val_epoch_acc * 100:.2f}%\")\n",
    "\n",
    "    # Load the best model weights\n",
    "    model.load_state_dict(best_model_wts)\n",
    "    print('---------- End Training Process -----------')\n",
    "    print(f\"Best model saved at: {best_model_path}\")\n",
    "\n",
    "    # Plot losses\n",
    "    plt.figure()\n",
    "    plt.plot(range(1, num_epochs + 1), train_losses, label='Train Loss', color='darkgreen')\n",
    "    plt.plot(range(1, num_epochs + 1), val_losses, label='Validation Loss', color='navy')\n",
    "    plt.xlabel('Epochs')\n",
    "    plt.ylabel('Loss')\n",
    "    plt.title('Loss Plot')\n",
    "    plt.legend()\n",
    "    plt.grid(True, which='both', linestyle='--', linewidth=0.5)\n",
    "    plt.show()\n",
    "\n",
    "    # Plot accuracies\n",
    "    plt.figure()\n",
    "    plt.plot(range(1, num_epochs + 1), train_accuracies, label='Train Accuracy', color='darkgreen')\n",
    "    plt.plot(range(1, num_epochs + 1), val_accuracies, label='Validation Accuracy', color='navy')\n",
    "    plt.xlabel('Epochs')\n",
    "    plt.ylabel('Accuracy')\n",
    "    plt.title('Accuracy Plot')\n",
    "    plt.legend()\n",
    "    plt.grid(True, which='both', linestyle='--', linewidth=0.5)\n",
    "    plt.show()\n",
    "\n",
    "    return model\n",
    "\n",
    "print('---------- Starting Training Process -----------')\n",
    "model_trained = train_model(model, criterion, optimizer, num_epochs=100)\n",
    "print('---------- Training Complete -----------')\n",
    "\n",
    "test_model(model_trained)\n",
    "print('---------- Evaluation Complete -----------')\n"
   ]
  },
  {
   "cell_type": "markdown",
   "metadata": {},
   "source": [
    "From the above results, We can say that we need to use full-finetuning."
   ]
  },
  {
   "cell_type": "code",
   "execution_count": null,
   "metadata": {},
   "outputs": [],
   "source": [
    "model.fc = nn.Sequential(nn.Linear(512, 200)).to(device)\n",
    "\n",
    "version_num = 18\n",
    "running_params = RunningParams('CUB', version = version_num, seed = 42)\n",
    "\n",
    "for param in model.parameters():\n",
    "    param.requires_grad = True\n",
    "\n",
    "criterion = nn.CrossEntropyLoss()\n",
    "optimizer = optim.Adam(model.parameters())\n",
    "\n",
    "def test_model(model):\n",
    "    model.eval()\n",
    "    print('---------- Start Model Evaluations -----------')\n",
    "    running_loss = 0.0\n",
    "    running_corrects = 0\n",
    "\n",
    "    for _, (data, target) in enumerate(tqdm(cub_val_loader, desc=\"Evaluating\")):\n",
    "        data = data.to(device)\n",
    "        target = target.to(device)\n",
    "        outputs = model(data)\n",
    "        loss = criterion(outputs, target)\n",
    "        _, preds = torch.max(outputs, 1)\n",
    "        running_loss += loss.item() * target.size(0)\n",
    "        running_corrects += torch.sum(preds == target.data)\n",
    "\n",
    "    epoch_loss = running_loss / len(cub_val_dataset.labels)\n",
    "    epoch_acc = running_corrects.double() / len(cub_val_dataset.labels)\n",
    "\n",
    "    print(\"-\" * 10)\n",
    "    print(\"loss: {:.4f}, acc: {:.4f}\".format(epoch_loss, epoch_acc))\n",
    "    print('---------- End Model Evaluations -----------')\n",
    "\n",
    "def train_model(model, criterion, optimizer, num_epochs=3):\n",
    "\n",
    "    train_len = len(cub_train_dataset.labels)\n",
    "    val_len = len(cub_val_dataset.labels)\n",
    "\n",
    "    train_losses = []\n",
    "    val_losses = []\n",
    "    train_accuracies = []\n",
    "    val_accuracies = []\n",
    "\n",
    "    best_model_wts = model.state_dict()\n",
    "    best_val_acc = 0.0\n",
    "    best_model_path = f'ResNet_{version_num}best_model.pth'\n",
    "\n",
    "    start = time.time()\n",
    "    for epoch in range(num_epochs):\n",
    "\n",
    "        if epoch != 0 :\n",
    "            print('---------------------------------------------')\n",
    "            \n",
    "        print(f\"Starting epoch : {epoch + 1}/{num_epochs}\")\n",
    "\n",
    "        running_loss = 0.0\n",
    "        running_corrects = 0\n",
    "        val_running_loss = 0.0\n",
    "        val_running_corrects = 0\n",
    "\n",
    "        # Update model\n",
    "        model.train()\n",
    "        for _, (data, target) in enumerate(tqdm(cub_train_loader, desc=f\"Training Epoch {epoch + 1}\")):\n",
    "            data = data.to(device)\n",
    "            target = target.to(device)\n",
    "            outputs = model(data)\n",
    "\n",
    "            loss = criterion(outputs, target)\n",
    "            optimizer.zero_grad()\n",
    "            loss.backward()\n",
    "            optimizer.step()\n",
    "\n",
    "            _, preds = torch.max(outputs, 1)\n",
    "            running_loss += loss.item() * target.size(0)\n",
    "            running_corrects += torch.sum(preds == target.data)\n",
    "\n",
    "        # Calculate validation score\n",
    "        model.eval()\n",
    "        for _, (data, target) in enumerate(tqdm(cub_val_loader, desc=\"Validating\")):\n",
    "            data = data.to(device)\n",
    "            target = target.to(device)\n",
    "            outputs = model(data)\n",
    "\n",
    "            _, preds = torch.max(outputs, 1)\n",
    "            loss = criterion(outputs, target)\n",
    "            val_running_loss += loss.item() * target.size(0)\n",
    "            val_running_corrects += torch.sum(preds == target.data)\n",
    "\n",
    "        epoch_loss = running_loss / train_len\n",
    "        epoch_acc = running_corrects.double() / train_len\n",
    "        val_epoch_loss = val_running_loss / val_len\n",
    "        val_epoch_acc = val_running_corrects.double() / val_len\n",
    "\n",
    "        train_losses.append(epoch_loss)\n",
    "        val_losses.append(val_epoch_loss)\n",
    "        train_accuracies.append(epoch_acc.item())\n",
    "        val_accuracies.append(val_epoch_acc.item())\n",
    "\n",
    "        # Save the best model\n",
    "        if val_epoch_acc > best_val_acc:\n",
    "            best_val_acc = val_epoch_acc\n",
    "            best_model_wts = model.state_dict()\n",
    "            torch.save(best_model_wts, best_model_path)\n",
    "            print(f\"Best model updated and saved to {best_model_path} with validation accuracy: {best_val_acc:.4f}\")\n",
    "\n",
    "        end = time.time()\n",
    "        between_time = end - start\n",
    "        if epoch % 1 == 0:\n",
    "            print(f\"Epoch {epoch + 1}/{num_epochs}, time = {between_time:.1f} / {between_time * num_epochs / (epoch + 1):.1f}\")\n",
    "            print(f\"Loss: {epoch_loss:.4f}, ACC: {epoch_acc * 100:.2f}%, Val_Loss: {val_epoch_loss:.4f}, Val_Acc: {val_epoch_acc * 100:.2f}%\")\n",
    "\n",
    "    # Load the best model weights\n",
    "    model.load_state_dict(best_model_wts)\n",
    "    print('---------- End Training Process -----------')\n",
    "    print(f\"Best model saved at: {best_model_path}\")\n",
    "\n",
    "    # Plot losses\n",
    "    plt.figure()\n",
    "    plt.plot(range(1, num_epochs + 1), train_losses, label='Train Loss', color='darkgreen')\n",
    "    plt.plot(range(1, num_epochs + 1), val_losses, label='Validation Loss', color='navy')\n",
    "    plt.xlabel('Epochs')\n",
    "    plt.ylabel('Loss')\n",
    "    plt.title('Loss Plot')\n",
    "    plt.legend()\n",
    "    plt.grid(True, which='both', linestyle='--', linewidth=0.5)\n",
    "    plt.show()\n",
    "\n",
    "    # Plot accuracies\n",
    "    plt.figure()\n",
    "    plt.plot(range(1, num_epochs + 1), train_accuracies, label='Train Accuracy', color='darkgreen')\n",
    "    plt.plot(range(1, num_epochs + 1), val_accuracies, label='Validation Accuracy', color='navy')\n",
    "    plt.xlabel('Epochs')\n",
    "    plt.ylabel('Accuracy')\n",
    "    plt.title('Accuracy Plot')\n",
    "    plt.legend()\n",
    "    plt.grid(True, which='both', linestyle='--', linewidth=0.5)\n",
    "    plt.show()\n",
    "\n",
    "    return model\n",
    "\n",
    "print('---------- Starting Training Process -----------')\n",
    "model_trained = train_model(model, criterion, optimizer, num_epochs=100)\n",
    "print('---------- Training Complete -----------')\n",
    "\n",
    "test_model(model_trained)\n",
    "print('---------- Evaluation Complete -----------')"
   ]
  },
  {
   "cell_type": "markdown",
   "metadata": {},
   "source": [
    "However, it can be observed that the performance is still unsatisfactory even with the full fine-tuning method."
   ]
  },
  {
   "cell_type": "markdown",
   "metadata": {},
   "source": [
    "# 2. Data Augmentation"
   ]
  },
  {
   "cell_type": "code",
   "execution_count": null,
   "metadata": {},
   "outputs": [],
   "source": [
    "class CUB_Dataset(Dataset):\n",
    "    def __init__(self, img_file, label_file, batch_size, transform=None):\n",
    "        self.img = np.load(img_file)         # shape: (N, H, W, C), dtype=float32 가정\n",
    "        self.labels = np.load(label_file)    # shape: (N,)\n",
    "        self.transform = transform\n",
    "        self.batch_size = batch_size\n",
    "\n",
    "    def __len__(self):\n",
    "        return len(self.img)\n",
    "\n",
    "    def __getitem__(self, idx):\n",
    "        image = self.img[idx]   \n",
    "        label = self.labels[idx]\n",
    "        \n",
    "        image = image.astype(np.uint8)\n",
    "\n",
    "        if self.transform:\n",
    "            image = self.transform(image)\n",
    "\n",
    "        return image, label\n",
    "\n",
    "# --------------------------------------------------\n",
    "# Augmentation Transformations (Training)\n",
    "# --------------------------------------------------\n",
    "train_transform = transforms.Compose([\n",
    "    transforms.ToPILImage(),\n",
    "    transforms.RandomHorizontalFlip(p=0.5),  \n",
    "    # transforms.RandomRotation(degrees=5),   \n",
    "    # transforms.ColorJitter(brightness=0.1,  \n",
    "    #                        contrast=0.1,\n",
    "    #                        saturation=0.1,\n",
    "    #                        hue=0.05),\n",
    "    # transforms.RandomResizedCrop(size=(224, 224), scale=(0.9, 1.0)),  \n",
    "    transforms.ToTensor(),\n",
    "    transforms.Normalize((0.485, 0.456, 0.406), (0.229, 0.224, 0.225))\n",
    "])\n",
    "\n",
    "# --------------------------------------------------\n",
    "# Validation Transform (No Augmentation)\n",
    "# --------------------------------------------------\n",
    "val_transform = transforms.Compose([\n",
    "    transforms.ToPILImage(),                    # numpy(uint8) -> PIL\n",
    "    # transforms.Resize((224, 224)),\n",
    "    transforms.ToTensor(),\n",
    "    transforms.Normalize((0.485, 0.456, 0.406),\n",
    "                         (0.229, 0.224, 0.225))\n",
    "])\n",
    "\n",
    "# --------------------------------------------------\n",
    "# Dataset & DataLoader\n",
    "# --------------------------------------------------\n",
    "\n",
    "# Training dataset (with augmentation)\n",
    "cub_train_dataset = CUB_Dataset(\n",
    "    img_file=\"./CUB_train_images.npy\",\n",
    "    label_file=\"./CUB_train_labels.npy\",\n",
    "    batch_size=64,\n",
    "    transform=train_transform\n",
    ")\n",
    "cub_train_loader = torch.utils.data.DataLoader(\n",
    "    cub_train_dataset,\n",
    "    batch_size=64,\n",
    "    shuffle=True\n",
    ")\n",
    "\n",
    "# Validation dataset (minimal transforms)\n",
    "cub_val_dataset = CUB_Dataset(\n",
    "    img_file=\"./CUB_val_images.npy\",\n",
    "    label_file=\"./CUB_val_labels.npy\",\n",
    "    batch_size=64,\n",
    "    transform=val_transform\n",
    ")\n",
    "cub_val_loader = torch.utils.data.DataLoader(\n",
    "    cub_val_dataset,\n",
    "    batch_size=64,\n",
    "    shuffle=False\n",
    ")\n"
   ]
  },
  {
   "cell_type": "markdown",
   "metadata": {},
   "source": [
    "First, we evaluate the model by training only the head of the model using the CUB-200 dataset."
   ]
  },
  {
   "cell_type": "code",
   "execution_count": null,
   "metadata": {},
   "outputs": [],
   "source": [
    "model.fc = nn.Sequential(nn.Linear(512, 200)).to(device)\n",
    "version_num = 18\n",
    "running_params = RunningParams('CUB', version = version_num, seed = 42)\n",
    "\n",
    "for param in model.parameters():\n",
    "    param.requires_grad = True\n",
    "\n",
    "criterion = nn.CrossEntropyLoss()\n",
    "optimizer = optim.Adam(model.parameters(), lr = 1e-3)\n",
    "\n",
    "def test_model(model):\n",
    "    model.eval()\n",
    "    print('---------- Start Model Evaluations -----------')\n",
    "    running_loss = 0.0\n",
    "    running_corrects = 0\n",
    "\n",
    "    for _, (data, target) in enumerate(tqdm(cub_val_loader, desc=\"Evaluating\")):\n",
    "        data = data.to(device)\n",
    "        target = target.to(device)\n",
    "        outputs = model(data)\n",
    "        loss = criterion(outputs, target)\n",
    "        _, preds = torch.max(outputs, 1)\n",
    "        running_loss += loss.item() * target.size(0)\n",
    "        running_corrects += torch.sum(preds == target.data)\n",
    "\n",
    "    epoch_loss = running_loss / len(cub_val_dataset.labels)\n",
    "    epoch_acc = running_corrects.double() / len(cub_val_dataset.labels)\n",
    "\n",
    "    print(\"-\" * 10)\n",
    "    print(\"loss: {:.4f}, acc: {:.4f}\".format(epoch_loss, epoch_acc))\n",
    "    print('---------- End Model Evaluations -----------')\n",
    "\n",
    "def train_model(model, criterion, optimizer, num_epochs=3):\n",
    "\n",
    "    train_len = len(cub_train_dataset.labels)\n",
    "    val_len = len(cub_val_dataset.labels)\n",
    "\n",
    "    train_losses = []\n",
    "    val_losses = []\n",
    "    train_accuracies = []\n",
    "    val_accuracies = []\n",
    "\n",
    "    best_model_wts = model.state_dict()\n",
    "    best_val_acc = 0.0\n",
    "    best_model_path = f'ResNet_{version_num}best_model.pth'\n",
    "\n",
    "    start = time.time()\n",
    "    for epoch in range(num_epochs):\n",
    "\n",
    "        if epoch != 0 :\n",
    "            print('---------------------------------------------')\n",
    "            \n",
    "        print(f\"Starting epoch : {epoch + 1}/{num_epochs}\")\n",
    "\n",
    "        running_loss = 0.0\n",
    "        running_corrects = 0\n",
    "        val_running_loss = 0.0\n",
    "        val_running_corrects = 0\n",
    "\n",
    "        # Update model\n",
    "        model.train()\n",
    "        for _, (data, target) in enumerate(tqdm(cub_train_loader, desc=f\"Training Epoch {epoch + 1}\")):\n",
    "            data = data.to(device)\n",
    "            target = target.to(device)\n",
    "            outputs = model(data)\n",
    "\n",
    "            loss = criterion(outputs, target)\n",
    "            optimizer.zero_grad()\n",
    "            loss.backward()\n",
    "            optimizer.step()\n",
    "\n",
    "            _, preds = torch.max(outputs, 1)\n",
    "            running_loss += loss.item() * target.size(0)\n",
    "            running_corrects += torch.sum(preds == target.data)\n",
    "\n",
    "        # Calculate validation score\n",
    "        model.eval()\n",
    "        for _, (data, target) in enumerate(tqdm(cub_val_loader, desc=\"Validating\")):\n",
    "            data = data.to(device)\n",
    "            target = target.to(device)\n",
    "            outputs = model(data)\n",
    "\n",
    "            _, preds = torch.max(outputs, 1)\n",
    "            loss = criterion(outputs, target)\n",
    "            val_running_loss += loss.item() * target.size(0)\n",
    "            val_running_corrects += torch.sum(preds == target.data)\n",
    "\n",
    "        epoch_loss = running_loss / train_len\n",
    "        epoch_acc = running_corrects.double() / train_len\n",
    "        val_epoch_loss = val_running_loss / val_len\n",
    "        val_epoch_acc = val_running_corrects.double() / val_len\n",
    "\n",
    "        train_losses.append(epoch_loss)\n",
    "        val_losses.append(val_epoch_loss)\n",
    "        train_accuracies.append(epoch_acc.item())\n",
    "        val_accuracies.append(val_epoch_acc.item())\n",
    "\n",
    "        # Save the best model\n",
    "        if val_epoch_acc > best_val_acc:\n",
    "            best_val_acc = val_epoch_acc\n",
    "            best_model_wts = model.state_dict()\n",
    "            torch.save(best_model_wts, best_model_path)\n",
    "            print(f\"Best model updated and saved to {best_model_path} with validation accuracy: {best_val_acc:.4f}\")\n",
    "\n",
    "        end = time.time()\n",
    "        between_time = end - start\n",
    "        if epoch % 1 == 0:\n",
    "            print(f\"Epoch {epoch + 1}/{num_epochs}, time = {between_time:.1f} / {between_time * num_epochs / (epoch + 1):.1f}\")\n",
    "            print(f\"Loss: {epoch_loss:.4f}, ACC: {epoch_acc * 100:.2f}%, Val_Loss: {val_epoch_loss:.4f}, Val_Acc: {val_epoch_acc * 100:.2f}%\")\n",
    "\n",
    "    # Load the best model weights\n",
    "    model.load_state_dict(best_model_wts)\n",
    "    print('---------- End Training Process -----------')\n",
    "    print(f\"Best model saved at: {best_model_path}\")\n",
    "\n",
    "    # Plot losses\n",
    "    plt.figure()\n",
    "    plt.plot(range(1, num_epochs + 1), train_losses, label='Train Loss', color='darkgreen')\n",
    "    plt.plot(range(1, num_epochs + 1), val_losses, label='Validation Loss', color='navy')\n",
    "    plt.xlabel('Epochs')\n",
    "    plt.ylabel('Loss')\n",
    "    plt.title('Loss Plot')\n",
    "    plt.legend()\n",
    "    plt.grid(True, which='both', linestyle='--', linewidth=0.5)\n",
    "    plt.show()\n",
    "\n",
    "    # Plot accuracies\n",
    "    plt.figure()\n",
    "    plt.plot(range(1, num_epochs + 1), train_accuracies, label='Train Accuracy', color='darkgreen')\n",
    "    plt.plot(range(1, num_epochs + 1), val_accuracies, label='Validation Accuracy', color='navy')\n",
    "    plt.xlabel('Epochs')\n",
    "    plt.ylabel('Accuracy')\n",
    "    plt.title('Accuracy Plot')\n",
    "    plt.legend()\n",
    "    plt.grid(True, which='both', linestyle='--', linewidth=0.5)\n",
    "    plt.show()\n",
    "\n",
    "    return model\n",
    "\n",
    "print('---------- Starting Training Process -----------')\n",
    "model_trained = train_model(model, criterion, optimizer, num_epochs=100)\n",
    "print('---------- Training Complete -----------')\n",
    "\n",
    "test_model(model_trained)\n",
    "print('---------- Evaluation Complete -----------')\n"
   ]
  },
  {
   "cell_type": "markdown",
   "metadata": {},
   "source": [
    "# 3. Ensemble"
   ]
  },
  {
   "cell_type": "code",
   "execution_count": null,
   "metadata": {},
   "outputs": [],
   "source": [
    "class TestDataset(Dataset):\n",
    "    def __init__(self, img_file, transform=None):\n",
    "        self.img = np.load(img_file)\n",
    "        self.transform = transform\n",
    "\n",
    "    def __len__(self):\n",
    "        return len(self.img)\n",
    "\n",
    "    def __getitem__(self, idx):\n",
    "        image = self.img[idx]\n",
    "        if self.transform is not None:\n",
    "            image = self.transform(image)\n",
    "        return image\n",
    "\n",
    "test_transform = transforms.Compose([\n",
    "    transforms.ToTensor(),\n",
    "    transforms.Normalize((0.485, 0.456, 0.406), (0.229, 0.224, 0.225))\n",
    "])\n",
    "\n",
    "test_dataset = TestDataset(img_file=\"./CUB_test_images.npy\", transform=test_transform)\n",
    "test_loader = torch.utils.data.DataLoader(test_dataset, batch_size=BATCH_SIZE, shuffle=False, num_workers=2)"
   ]
  },
  {
   "cell_type": "markdown",
   "metadata": {},
   "source": [
    "## ResNet 18 Ensemble"
   ]
  },
  {
   "cell_type": "code",
   "execution_count": null,
   "metadata": {},
   "outputs": [
    {
     "name": "stderr",
     "output_type": "stream",
     "text": [
      "[Train] Model6 Epoch35: 100%|██████████| 94/94 [00:13<00:00,  6.93it/s]\n",
      "[Train-ACC] Model6 Epoch35: 100%|██████████| 94/94 [00:04<00:00, 23.26it/s]\n",
      "[Val-ACC] Model6 Epoch35: 100%|██████████| 46/46 [00:01<00:00, 24.73it/s]\n"
     ]
    },
    {
     "name": "stdout",
     "output_type": "stream",
     "text": [
      "[Model : 6, Epoch : 35/50] TrainLoss=2.9310 TrainAcc=29.28% ValAcc=14.88%\n",
      "-----------------------------\n"
     ]
    },
    {
     "name": "stderr",
     "output_type": "stream",
     "text": [
      "[Train] Model6 Epoch36: 100%|██████████| 94/94 [00:13<00:00,  7.02it/s]\n",
      "[Train-ACC] Model6 Epoch36: 100%|██████████| 94/94 [00:03<00:00, 25.36it/s]\n",
      "[Val-ACC] Model6 Epoch36: 100%|██████████| 46/46 [00:01<00:00, 25.57it/s]\n"
     ]
    },
    {
     "name": "stdout",
     "output_type": "stream",
     "text": [
      "[Model : 6, Epoch : 36/50] TrainLoss=1.8020 TrainAcc=42.01% ValAcc=13.39%\n",
      "-----------------------------\n"
     ]
    },
    {
     "name": "stderr",
     "output_type": "stream",
     "text": [
      "[Train] Model6 Epoch37: 100%|██████████| 94/94 [00:13<00:00,  7.07it/s]\n",
      "[Train-ACC] Model6 Epoch37: 100%|██████████| 94/94 [00:03<00:00, 25.02it/s]\n",
      "[Val-ACC] Model6 Epoch37: 100%|██████████| 46/46 [00:01<00:00, 24.85it/s]\n"
     ]
    },
    {
     "name": "stdout",
     "output_type": "stream",
     "text": [
      "[Model : 6, Epoch : 37/50] TrainLoss=1.0098 TrainAcc=76.78% ValAcc=19.95%\n",
      "-----------------------------\n"
     ]
    },
    {
     "name": "stderr",
     "output_type": "stream",
     "text": [
      "[Train] Model6 Epoch38: 100%|██████████| 94/94 [00:13<00:00,  7.06it/s]\n",
      "[Train-ACC] Model6 Epoch38: 100%|██████████| 94/94 [00:03<00:00, 24.81it/s]\n",
      "[Val-ACC] Model6 Epoch38: 100%|██████████| 46/46 [00:01<00:00, 25.02it/s]\n"
     ]
    },
    {
     "name": "stdout",
     "output_type": "stream",
     "text": [
      "[Model : 6, Epoch : 38/50] TrainLoss=0.4880 TrainAcc=93.24% ValAcc=22.61%\n",
      "-----------------------------\n"
     ]
    },
    {
     "name": "stderr",
     "output_type": "stream",
     "text": [
      "[Train] Model6 Epoch39: 100%|██████████| 94/94 [00:13<00:00,  7.04it/s]\n",
      "[Train-ACC] Model6 Epoch39: 100%|██████████| 94/94 [00:03<00:00, 25.19it/s]\n",
      "[Val-ACC] Model6 Epoch39: 100%|██████████| 46/46 [00:01<00:00, 25.05it/s]\n"
     ]
    },
    {
     "name": "stdout",
     "output_type": "stream",
     "text": [
      "[Model : 6, Epoch : 39/50] TrainLoss=0.2059 TrainAcc=97.46% ValAcc=25.13%\n",
      "-----------------------------\n"
     ]
    },
    {
     "name": "stderr",
     "output_type": "stream",
     "text": [
      "[Train] Model6 Epoch40: 100%|██████████| 94/94 [00:13<00:00,  7.08it/s]\n",
      "[Train-ACC] Model6 Epoch40: 100%|██████████| 94/94 [00:03<00:00, 25.26it/s]\n",
      "[Val-ACC] Model6 Epoch40: 100%|██████████| 46/46 [00:01<00:00, 25.22it/s]\n"
     ]
    },
    {
     "name": "stdout",
     "output_type": "stream",
     "text": [
      "[Model : 6, Epoch : 40/50] TrainLoss=0.0881 TrainAcc=99.93% ValAcc=26.16%\n",
      "-----------------------------\n"
     ]
    },
    {
     "name": "stderr",
     "output_type": "stream",
     "text": [
      "[Train] Model6 Epoch41: 100%|██████████| 94/94 [00:13<00:00,  7.00it/s]\n",
      "[Train-ACC] Model6 Epoch41: 100%|██████████| 94/94 [00:03<00:00, 24.72it/s]\n",
      "[Val-ACC] Model6 Epoch41: 100%|██████████| 46/46 [00:01<00:00, 25.55it/s]\n"
     ]
    },
    {
     "name": "stdout",
     "output_type": "stream",
     "text": [
      "[Model : 6, Epoch : 41/50] TrainLoss=0.0279 TrainAcc=100.00% ValAcc=25.85%\n",
      "-----------------------------\n"
     ]
    },
    {
     "name": "stderr",
     "output_type": "stream",
     "text": [
      "[Train] Model6 Epoch42: 100%|██████████| 94/94 [00:13<00:00,  7.09it/s]\n",
      "[Train-ACC] Model6 Epoch42: 100%|██████████| 94/94 [00:03<00:00, 25.48it/s]\n",
      "[Val-ACC] Model6 Epoch42: 100%|██████████| 46/46 [00:01<00:00, 25.59it/s]\n"
     ]
    },
    {
     "name": "stdout",
     "output_type": "stream",
     "text": [
      "[Model : 6, Epoch : 42/50] TrainLoss=0.0108 TrainAcc=100.00% ValAcc=27.75%\n",
      "-----------------------------\n"
     ]
    },
    {
     "name": "stderr",
     "output_type": "stream",
     "text": [
      "[Train] Model6 Epoch43: 100%|██████████| 94/94 [00:13<00:00,  7.08it/s]\n",
      "[Train-ACC] Model6 Epoch43: 100%|██████████| 94/94 [00:03<00:00, 25.25it/s]\n",
      "[Val-ACC] Model6 Epoch43: 100%|██████████| 46/46 [00:01<00:00, 25.61it/s]\n"
     ]
    },
    {
     "name": "stdout",
     "output_type": "stream",
     "text": [
      "[Model : 6, Epoch : 43/50] TrainLoss=0.0062 TrainAcc=100.00% ValAcc=27.89%\n",
      "-----------------------------\n"
     ]
    },
    {
     "name": "stderr",
     "output_type": "stream",
     "text": [
      "[Train] Model6 Epoch44: 100%|██████████| 94/94 [00:13<00:00,  7.11it/s]\n",
      "[Train-ACC] Model6 Epoch44: 100%|██████████| 94/94 [00:03<00:00, 25.60it/s]\n",
      "[Val-ACC] Model6 Epoch44: 100%|██████████| 46/46 [00:01<00:00, 25.87it/s]\n"
     ]
    },
    {
     "name": "stdout",
     "output_type": "stream",
     "text": [
      "[Model : 6, Epoch : 44/50] TrainLoss=0.0048 TrainAcc=100.00% ValAcc=27.72%\n",
      "-----------------------------\n"
     ]
    },
    {
     "name": "stderr",
     "output_type": "stream",
     "text": [
      "[Train] Model6 Epoch45: 100%|██████████| 94/94 [00:13<00:00,  7.15it/s]\n",
      "[Train-ACC] Model6 Epoch45: 100%|██████████| 94/94 [00:03<00:00, 25.26it/s]\n",
      "[Val-ACC] Model6 Epoch45: 100%|██████████| 46/46 [00:01<00:00, 25.57it/s]\n"
     ]
    },
    {
     "name": "stdout",
     "output_type": "stream",
     "text": [
      "[Model : 6, Epoch : 45/50] TrainLoss=0.0041 TrainAcc=100.00% ValAcc=28.10%\n",
      "-----------------------------\n"
     ]
    },
    {
     "name": "stderr",
     "output_type": "stream",
     "text": [
      "[Train] Model6 Epoch46: 100%|██████████| 94/94 [00:13<00:00,  7.11it/s]\n",
      "[Train-ACC] Model6 Epoch46: 100%|██████████| 94/94 [00:03<00:00, 25.62it/s]\n",
      "[Val-ACC] Model6 Epoch46: 100%|██████████| 46/46 [00:01<00:00, 25.62it/s]\n"
     ]
    },
    {
     "name": "stdout",
     "output_type": "stream",
     "text": [
      "[Model : 6, Epoch : 46/50] TrainLoss=0.0038 TrainAcc=100.00% ValAcc=27.93%\n",
      "-----------------------------\n"
     ]
    },
    {
     "name": "stderr",
     "output_type": "stream",
     "text": [
      "[Train] Model6 Epoch47: 100%|██████████| 94/94 [00:13<00:00,  7.06it/s]\n",
      "[Train-ACC] Model6 Epoch47: 100%|██████████| 94/94 [00:03<00:00, 25.55it/s]\n",
      "[Val-ACC] Model6 Epoch47: 100%|██████████| 46/46 [00:01<00:00, 25.70it/s]\n"
     ]
    },
    {
     "name": "stdout",
     "output_type": "stream",
     "text": [
      "[Model : 6, Epoch : 47/50] TrainLoss=0.0034 TrainAcc=100.00% ValAcc=27.75%\n",
      "-----------------------------\n"
     ]
    },
    {
     "name": "stderr",
     "output_type": "stream",
     "text": [
      "[Train] Model6 Epoch48: 100%|██████████| 94/94 [00:13<00:00,  7.04it/s]\n",
      "[Train-ACC] Model6 Epoch48: 100%|██████████| 94/94 [00:03<00:00, 25.18it/s]\n",
      "[Val-ACC] Model6 Epoch48: 100%|██████████| 46/46 [00:01<00:00, 24.74it/s]\n"
     ]
    },
    {
     "name": "stdout",
     "output_type": "stream",
     "text": [
      "[Model : 6, Epoch : 48/50] TrainLoss=0.0030 TrainAcc=100.00% ValAcc=28.17%\n",
      "-----------------------------\n"
     ]
    },
    {
     "name": "stderr",
     "output_type": "stream",
     "text": [
      "[Train] Model6 Epoch49: 100%|██████████| 94/94 [00:13<00:00,  7.09it/s]\n",
      "[Train-ACC] Model6 Epoch49: 100%|██████████| 94/94 [00:03<00:00, 25.57it/s]\n",
      "[Val-ACC] Model6 Epoch49: 100%|██████████| 46/46 [00:01<00:00, 25.51it/s]\n"
     ]
    },
    {
     "name": "stdout",
     "output_type": "stream",
     "text": [
      "[Model : 6, Epoch : 49/50] TrainLoss=0.0028 TrainAcc=100.00% ValAcc=28.24%\n",
      "-----------------------------\n"
     ]
    },
    {
     "name": "stderr",
     "output_type": "stream",
     "text": [
      "[Train] Model6 Epoch50: 100%|██████████| 94/94 [00:13<00:00,  7.18it/s]\n",
      "[Train-ACC] Model6 Epoch50: 100%|██████████| 94/94 [00:03<00:00, 25.57it/s]\n",
      "[Val-ACC] Model6 Epoch50: 100%|██████████| 46/46 [00:01<00:00, 25.87it/s]\n"
     ]
    },
    {
     "name": "stdout",
     "output_type": "stream",
     "text": [
      "[Model : 6, Epoch : 50/50] TrainLoss=0.0026 TrainAcc=100.00% ValAcc=27.65%\n",
      "-----------------------------\n"
     ]
    },
    {
     "name": "stderr",
     "output_type": "stream",
     "text": [
      "[Test-Single] Model6 (no label?): 100%|██████████| 12/12 [00:02<00:00,  5.44it/s]\n"
     ]
    },
    {
     "name": "stdout",
     "output_type": "stream",
     "text": [
      "====== Starting training for Model 7 / n_ens=10 ======\n"
     ]
    },
    {
     "name": "stderr",
     "output_type": "stream",
     "text": [
      "[Train] Model7 Epoch1: 100%|██████████| 94/94 [00:13<00:00,  7.08it/s]\n",
      "[Train-ACC] Model7 Epoch1: 100%|██████████| 94/94 [00:03<00:00, 25.52it/s]\n",
      "[Val-ACC] Model7 Epoch1: 100%|██████████| 46/46 [00:01<00:00, 25.60it/s]\n"
     ]
    },
    {
     "name": "stdout",
     "output_type": "stream",
     "text": [
      "[Model : 7, Epoch : 1/50] TrainLoss=5.2529 TrainAcc=2.20% ValAcc=2.17%\n",
      "-----------------------------\n"
     ]
    },
    {
     "name": "stderr",
     "output_type": "stream",
     "text": [
      "[Train] Model7 Epoch2: 100%|██████████| 94/94 [00:13<00:00,  7.13it/s]\n",
      "[Train-ACC] Model7 Epoch2: 100%|██████████| 94/94 [00:03<00:00, 25.35it/s]\n",
      "[Val-ACC] Model7 Epoch2: 100%|██████████| 46/46 [00:01<00:00, 25.71it/s]\n"
     ]
    },
    {
     "name": "stdout",
     "output_type": "stream",
     "text": [
      "[Model : 7, Epoch : 2/50] TrainLoss=4.8993 TrainAcc=3.60% ValAcc=3.21%\n",
      "-----------------------------\n"
     ]
    },
    {
     "name": "stderr",
     "output_type": "stream",
     "text": [
      "[Train] Model7 Epoch3: 100%|██████████| 94/94 [00:13<00:00,  7.12it/s]\n",
      "[Train-ACC] Model7 Epoch3: 100%|██████████| 94/94 [00:03<00:00, 25.64it/s]\n",
      "[Val-ACC] Model7 Epoch3: 100%|██████████| 46/46 [00:01<00:00, 25.49it/s]\n"
     ]
    },
    {
     "name": "stdout",
     "output_type": "stream",
     "text": [
      "[Model : 7, Epoch : 3/50] TrainLoss=4.6634 TrainAcc=5.99% ValAcc=4.38%\n",
      "-----------------------------\n"
     ]
    },
    {
     "name": "stderr",
     "output_type": "stream",
     "text": [
      "[Train] Model7 Epoch4: 100%|██████████| 94/94 [00:13<00:00,  7.02it/s]\n",
      "[Train-ACC] Model7 Epoch4: 100%|██████████| 94/94 [00:03<00:00, 25.54it/s]\n",
      "[Val-ACC] Model7 Epoch4: 100%|██████████| 46/46 [00:01<00:00, 25.52it/s]\n"
     ]
    },
    {
     "name": "stdout",
     "output_type": "stream",
     "text": [
      "[Model : 7, Epoch : 4/50] TrainLoss=4.3733 TrainAcc=7.34% ValAcc=5.70%\n",
      "-----------------------------\n"
     ]
    },
    {
     "name": "stderr",
     "output_type": "stream",
     "text": [
      "[Train] Model7 Epoch5: 100%|██████████| 94/94 [00:13<00:00,  7.04it/s]\n",
      "[Train-ACC] Model7 Epoch5: 100%|██████████| 94/94 [00:03<00:00, 23.65it/s]\n",
      "[Val-ACC] Model7 Epoch5: 100%|██████████| 46/46 [00:01<00:00, 23.82it/s]\n"
     ]
    },
    {
     "name": "stdout",
     "output_type": "stream",
     "text": [
      "[Model : 7, Epoch : 5/50] TrainLoss=4.1035 TrainAcc=11.48% ValAcc=8.63%\n",
      "-----------------------------\n"
     ]
    },
    {
     "name": "stderr",
     "output_type": "stream",
     "text": [
      "[Train] Model7 Epoch6: 100%|██████████| 94/94 [00:13<00:00,  7.10it/s]\n",
      "[Train-ACC] Model7 Epoch6: 100%|██████████| 94/94 [00:03<00:00, 25.41it/s]\n",
      "[Val-ACC] Model7 Epoch6: 100%|██████████| 46/46 [00:01<00:00, 25.52it/s]\n"
     ]
    },
    {
     "name": "stdout",
     "output_type": "stream",
     "text": [
      "[Model : 7, Epoch : 6/50] TrainLoss=3.8480 TrainAcc=13.03% ValAcc=8.66%\n",
      "-----------------------------\n"
     ]
    },
    {
     "name": "stderr",
     "output_type": "stream",
     "text": [
      "[Train] Model7 Epoch7: 100%|██████████| 94/94 [00:13<00:00,  7.06it/s]\n",
      "[Train-ACC] Model7 Epoch7: 100%|██████████| 94/94 [00:03<00:00, 25.22it/s]\n",
      "[Val-ACC] Model7 Epoch7: 100%|██████████| 46/46 [00:01<00:00, 25.79it/s]\n"
     ]
    },
    {
     "name": "stdout",
     "output_type": "stream",
     "text": [
      "[Model : 7, Epoch : 7/50] TrainLoss=3.6130 TrainAcc=13.63% ValAcc=10.04%\n",
      "-----------------------------\n"
     ]
    },
    {
     "name": "stderr",
     "output_type": "stream",
     "text": [
      "[Train] Model7 Epoch8: 100%|██████████| 94/94 [00:13<00:00,  7.13it/s]\n",
      "[Train-ACC] Model7 Epoch8: 100%|██████████| 94/94 [00:03<00:00, 25.73it/s]\n",
      "[Val-ACC] Model7 Epoch8: 100%|██████████| 46/46 [00:01<00:00, 25.97it/s]\n"
     ]
    },
    {
     "name": "stdout",
     "output_type": "stream",
     "text": [
      "[Model : 7, Epoch : 8/50] TrainLoss=3.4320 TrainAcc=21.15% ValAcc=13.53%\n",
      "-----------------------------\n"
     ]
    },
    {
     "name": "stderr",
     "output_type": "stream",
     "text": [
      "[Train] Model7 Epoch9: 100%|██████████| 94/94 [00:13<00:00,  7.13it/s]\n",
      "[Train-ACC] Model7 Epoch9: 100%|██████████| 94/94 [00:03<00:00, 25.20it/s]\n",
      "[Val-ACC] Model7 Epoch9: 100%|██████████| 46/46 [00:01<00:00, 25.41it/s]\n"
     ]
    },
    {
     "name": "stdout",
     "output_type": "stream",
     "text": [
      "[Model : 7, Epoch : 9/50] TrainLoss=3.2063 TrainAcc=18.34% ValAcc=10.94%\n",
      "-----------------------------\n"
     ]
    },
    {
     "name": "stderr",
     "output_type": "stream",
     "text": [
      "[Train] Model7 Epoch10: 100%|██████████| 94/94 [00:13<00:00,  7.06it/s]\n",
      "[Train-ACC] Model7 Epoch10: 100%|██████████| 94/94 [00:03<00:00, 25.57it/s]\n",
      "[Val-ACC] Model7 Epoch10: 100%|██████████| 46/46 [00:01<00:00, 25.78it/s]\n"
     ]
    },
    {
     "name": "stdout",
     "output_type": "stream",
     "text": [
      "[Model : 7, Epoch : 10/50] TrainLoss=2.9709 TrainAcc=30.11% ValAcc=17.67%\n",
      "-----------------------------\n"
     ]
    },
    {
     "name": "stderr",
     "output_type": "stream",
     "text": [
      "[Train] Model7 Epoch11: 100%|██████████| 94/94 [00:13<00:00,  7.11it/s]\n",
      "[Train-ACC] Model7 Epoch11: 100%|██████████| 94/94 [00:03<00:00, 25.35it/s]\n",
      "[Val-ACC] Model7 Epoch11: 100%|██████████| 46/46 [00:01<00:00, 25.41it/s]\n"
     ]
    },
    {
     "name": "stdout",
     "output_type": "stream",
     "text": [
      "[Model : 7, Epoch : 11/50] TrainLoss=2.7163 TrainAcc=33.83% ValAcc=18.33%\n",
      "-----------------------------\n"
     ]
    },
    {
     "name": "stderr",
     "output_type": "stream",
     "text": [
      "[Train] Model7 Epoch12: 100%|██████████| 94/94 [00:13<00:00,  7.10it/s]\n",
      "[Train-ACC] Model7 Epoch12: 100%|██████████| 94/94 [00:03<00:00, 25.02it/s]\n",
      "[Val-ACC] Model7 Epoch12: 100%|██████████| 46/46 [00:01<00:00, 25.51it/s]\n"
     ]
    },
    {
     "name": "stdout",
     "output_type": "stream",
     "text": [
      "[Model : 7, Epoch : 12/50] TrainLoss=2.5372 TrainAcc=30.35% ValAcc=17.05%\n",
      "-----------------------------\n"
     ]
    },
    {
     "name": "stderr",
     "output_type": "stream",
     "text": [
      "[Train] Model7 Epoch13: 100%|██████████| 94/94 [00:13<00:00,  7.07it/s]\n",
      "[Train-ACC] Model7 Epoch13: 100%|██████████| 94/94 [00:03<00:00, 24.81it/s]\n",
      "[Val-ACC] Model7 Epoch13: 100%|██████████| 46/46 [00:01<00:00, 24.65it/s]\n"
     ]
    },
    {
     "name": "stdout",
     "output_type": "stream",
     "text": [
      "[Model : 7, Epoch : 13/50] TrainLoss=2.2886 TrainAcc=30.25% ValAcc=15.15%\n",
      "-----------------------------\n"
     ]
    },
    {
     "name": "stderr",
     "output_type": "stream",
     "text": [
      "[Train] Model7 Epoch14: 100%|██████████| 94/94 [00:13<00:00,  7.10it/s]\n",
      "[Train-ACC] Model7 Epoch14: 100%|██████████| 94/94 [00:03<00:00, 24.82it/s]\n",
      "[Val-ACC] Model7 Epoch14: 100%|██████████| 46/46 [00:01<00:00, 24.79it/s]\n"
     ]
    },
    {
     "name": "stdout",
     "output_type": "stream",
     "text": [
      "[Model : 7, Epoch : 14/50] TrainLoss=2.0195 TrainAcc=48.55% ValAcc=19.85%\n",
      "-----------------------------\n"
     ]
    },
    {
     "name": "stderr",
     "output_type": "stream",
     "text": [
      "[Train] Model7 Epoch15: 100%|██████████| 94/94 [00:13<00:00,  7.03it/s]\n",
      "[Train-ACC] Model7 Epoch15: 100%|██████████| 94/94 [00:03<00:00, 23.59it/s]\n",
      "[Val-ACC] Model7 Epoch15: 100%|██████████| 46/46 [00:01<00:00, 23.66it/s]\n"
     ]
    },
    {
     "name": "stdout",
     "output_type": "stream",
     "text": [
      "[Model : 7, Epoch : 15/50] TrainLoss=1.6988 TrainAcc=54.24% ValAcc=21.23%\n",
      "-----------------------------\n"
     ]
    },
    {
     "name": "stderr",
     "output_type": "stream",
     "text": [
      "[Train] Model7 Epoch16: 100%|██████████| 94/94 [00:13<00:00,  7.09it/s]\n",
      "[Train-ACC] Model7 Epoch16: 100%|██████████| 94/94 [00:03<00:00, 24.88it/s]\n",
      "[Val-ACC] Model7 Epoch16: 100%|██████████| 46/46 [00:01<00:00, 25.19it/s]\n"
     ]
    },
    {
     "name": "stdout",
     "output_type": "stream",
     "text": [
      "[Model : 7, Epoch : 16/50] TrainLoss=1.4091 TrainAcc=58.56% ValAcc=21.13%\n",
      "-----------------------------\n"
     ]
    },
    {
     "name": "stderr",
     "output_type": "stream",
     "text": [
      "[Train] Model7 Epoch17: 100%|██████████| 94/94 [00:13<00:00,  7.07it/s]\n",
      "[Train-ACC] Model7 Epoch17: 100%|██████████| 94/94 [00:03<00:00, 25.58it/s]\n",
      "[Val-ACC] Model7 Epoch17: 100%|██████████| 46/46 [00:01<00:00, 25.73it/s]\n"
     ]
    },
    {
     "name": "stdout",
     "output_type": "stream",
     "text": [
      "[Model : 7, Epoch : 17/50] TrainLoss=1.0805 TrainAcc=66.75% ValAcc=19.23%\n",
      "-----------------------------\n"
     ]
    },
    {
     "name": "stderr",
     "output_type": "stream",
     "text": [
      "[Train] Model7 Epoch18: 100%|██████████| 94/94 [00:13<00:00,  7.06it/s]\n",
      "[Train-ACC] Model7 Epoch18: 100%|██████████| 94/94 [00:03<00:00, 25.00it/s]\n",
      "[Val-ACC] Model7 Epoch18: 100%|██████████| 46/46 [00:01<00:00, 25.28it/s]\n"
     ]
    },
    {
     "name": "stdout",
     "output_type": "stream",
     "text": [
      "[Model : 7, Epoch : 18/50] TrainLoss=0.7591 TrainAcc=84.88% ValAcc=23.09%\n",
      "-----------------------------\n"
     ]
    },
    {
     "name": "stderr",
     "output_type": "stream",
     "text": [
      "[Train] Model7 Epoch19: 100%|██████████| 94/94 [00:13<00:00,  7.06it/s]\n",
      "[Train-ACC] Model7 Epoch19: 100%|██████████| 94/94 [00:03<00:00, 25.45it/s]\n",
      "[Val-ACC] Model7 Epoch19: 100%|██████████| 46/46 [00:01<00:00, 25.52it/s]\n"
     ]
    },
    {
     "name": "stdout",
     "output_type": "stream",
     "text": [
      "[Model : 7, Epoch : 19/50] TrainLoss=0.4720 TrainAcc=90.17% ValAcc=22.89%\n",
      "-----------------------------\n"
     ]
    },
    {
     "name": "stderr",
     "output_type": "stream",
     "text": [
      "[Train] Model7 Epoch20: 100%|██████████| 94/94 [00:13<00:00,  7.02it/s]\n",
      "[Train-ACC] Model7 Epoch20: 100%|██████████| 94/94 [00:03<00:00, 25.31it/s]\n",
      "[Val-ACC] Model7 Epoch20: 100%|██████████| 46/46 [00:01<00:00, 25.03it/s]\n"
     ]
    },
    {
     "name": "stdout",
     "output_type": "stream",
     "text": [
      "[Model : 7, Epoch : 20/50] TrainLoss=0.2798 TrainAcc=95.90% ValAcc=22.61%\n",
      "-----------------------------\n"
     ]
    },
    {
     "name": "stderr",
     "output_type": "stream",
     "text": [
      "[Train] Model7 Epoch21: 100%|██████████| 94/94 [00:13<00:00,  7.06it/s]\n",
      "[Train-ACC] Model7 Epoch21: 100%|██████████| 94/94 [00:03<00:00, 24.99it/s]\n",
      "[Val-ACC] Model7 Epoch21: 100%|██████████| 46/46 [00:01<00:00, 25.13it/s]\n"
     ]
    },
    {
     "name": "stdout",
     "output_type": "stream",
     "text": [
      "[Model : 7, Epoch : 21/50] TrainLoss=0.1408 TrainAcc=98.33% ValAcc=24.16%\n",
      "-----------------------------\n"
     ]
    },
    {
     "name": "stderr",
     "output_type": "stream",
     "text": [
      "[Train] Model7 Epoch22: 100%|██████████| 94/94 [00:13<00:00,  7.04it/s]\n",
      "[Train-ACC] Model7 Epoch22: 100%|██████████| 94/94 [00:03<00:00, 25.26it/s]\n",
      "[Val-ACC] Model7 Epoch22: 100%|██████████| 46/46 [00:01<00:00, 25.13it/s]\n"
     ]
    },
    {
     "name": "stdout",
     "output_type": "stream",
     "text": [
      "[Model : 7, Epoch : 22/50] TrainLoss=0.0601 TrainAcc=99.98% ValAcc=26.65%\n",
      "-----------------------------\n"
     ]
    },
    {
     "name": "stderr",
     "output_type": "stream",
     "text": [
      "[Train] Model7 Epoch23: 100%|██████████| 94/94 [00:13<00:00,  7.02it/s]\n",
      "[Train-ACC] Model7 Epoch23: 100%|██████████| 94/94 [00:03<00:00, 24.67it/s]\n",
      "[Val-ACC] Model7 Epoch23: 100%|██████████| 46/46 [00:01<00:00, 24.80it/s]\n"
     ]
    },
    {
     "name": "stdout",
     "output_type": "stream",
     "text": [
      "[Model : 7, Epoch : 23/50] TrainLoss=0.0248 TrainAcc=100.00% ValAcc=29.69%\n",
      "-----------------------------\n"
     ]
    },
    {
     "name": "stderr",
     "output_type": "stream",
     "text": [
      "[Train] Model7 Epoch24: 100%|██████████| 94/94 [00:13<00:00,  7.01it/s]\n",
      "[Train-ACC] Model7 Epoch24: 100%|██████████| 94/94 [00:03<00:00, 24.41it/s]\n",
      "[Val-ACC] Model7 Epoch24: 100%|██████████| 46/46 [00:01<00:00, 24.32it/s]\n"
     ]
    },
    {
     "name": "stdout",
     "output_type": "stream",
     "text": [
      "[Model : 7, Epoch : 24/50] TrainLoss=0.0109 TrainAcc=100.00% ValAcc=29.55%\n",
      "-----------------------------\n"
     ]
    },
    {
     "name": "stderr",
     "output_type": "stream",
     "text": [
      "[Train] Model7 Epoch25: 100%|██████████| 94/94 [00:13<00:00,  7.04it/s]\n",
      "[Train-ACC] Model7 Epoch25: 100%|██████████| 94/94 [00:03<00:00, 25.18it/s]\n",
      "[Val-ACC] Model7 Epoch25: 100%|██████████| 46/46 [00:01<00:00, 25.73it/s]\n"
     ]
    },
    {
     "name": "stdout",
     "output_type": "stream",
     "text": [
      "[Model : 7, Epoch : 25/50] TrainLoss=0.0071 TrainAcc=100.00% ValAcc=30.24%\n",
      "-----------------------------\n"
     ]
    },
    {
     "name": "stderr",
     "output_type": "stream",
     "text": [
      "[Train] Model7 Epoch26: 100%|██████████| 94/94 [00:13<00:00,  6.98it/s]\n",
      "[Train-ACC] Model7 Epoch26: 100%|██████████| 94/94 [00:04<00:00, 22.88it/s]\n",
      "[Val-ACC] Model7 Epoch26: 100%|██████████| 46/46 [00:01<00:00, 23.77it/s]\n"
     ]
    },
    {
     "name": "stdout",
     "output_type": "stream",
     "text": [
      "[Model : 7, Epoch : 26/50] TrainLoss=0.0058 TrainAcc=100.00% ValAcc=29.89%\n",
      "-----------------------------\n"
     ]
    },
    {
     "name": "stderr",
     "output_type": "stream",
     "text": [
      "[Train] Model7 Epoch27: 100%|██████████| 94/94 [00:13<00:00,  6.92it/s]\n",
      "[Train-ACC] Model7 Epoch27: 100%|██████████| 94/94 [00:03<00:00, 23.55it/s]\n",
      "[Val-ACC] Model7 Epoch27: 100%|██████████| 46/46 [00:01<00:00, 23.61it/s]\n"
     ]
    },
    {
     "name": "stdout",
     "output_type": "stream",
     "text": [
      "[Model : 7, Epoch : 27/50] TrainLoss=0.0049 TrainAcc=100.00% ValAcc=29.89%\n",
      "-----------------------------\n"
     ]
    },
    {
     "name": "stderr",
     "output_type": "stream",
     "text": [
      "[Train] Model7 Epoch28: 100%|██████████| 94/94 [00:13<00:00,  6.98it/s]\n",
      "[Train-ACC] Model7 Epoch28: 100%|██████████| 94/94 [00:03<00:00, 23.78it/s]\n",
      "[Val-ACC] Model7 Epoch28: 100%|██████████| 46/46 [00:01<00:00, 24.08it/s]\n"
     ]
    },
    {
     "name": "stdout",
     "output_type": "stream",
     "text": [
      "[Model : 7, Epoch : 28/50] TrainLoss=0.0044 TrainAcc=100.00% ValAcc=29.34%\n",
      "-----------------------------\n"
     ]
    },
    {
     "name": "stderr",
     "output_type": "stream",
     "text": [
      "[Train] Model7 Epoch29: 100%|██████████| 94/94 [00:13<00:00,  6.95it/s]\n",
      "[Train-ACC] Model7 Epoch29: 100%|██████████| 94/94 [00:03<00:00, 24.41it/s]\n",
      "[Val-ACC] Model7 Epoch29: 100%|██████████| 46/46 [00:01<00:00, 25.67it/s]\n"
     ]
    },
    {
     "name": "stdout",
     "output_type": "stream",
     "text": [
      "[Model : 7, Epoch : 29/50] TrainLoss=0.3062 TrainAcc=6.39% ValAcc=3.90%\n",
      "-----------------------------\n"
     ]
    },
    {
     "name": "stderr",
     "output_type": "stream",
     "text": [
      "[Train] Model7 Epoch30: 100%|██████████| 94/94 [00:13<00:00,  7.05it/s]\n",
      "[Train-ACC] Model7 Epoch30: 100%|██████████| 94/94 [00:03<00:00, 24.62it/s]\n",
      "[Val-ACC] Model7 Epoch30: 100%|██████████| 46/46 [00:01<00:00, 25.20it/s]\n"
     ]
    },
    {
     "name": "stdout",
     "output_type": "stream",
     "text": [
      "[Model : 7, Epoch : 30/50] TrainLoss=1.9555 TrainAcc=48.38% ValAcc=15.05%\n",
      "-----------------------------\n"
     ]
    },
    {
     "name": "stderr",
     "output_type": "stream",
     "text": [
      "[Train] Model7 Epoch31: 100%|██████████| 94/94 [00:13<00:00,  7.07it/s]\n",
      "[Train-ACC] Model7 Epoch31: 100%|██████████| 94/94 [00:03<00:00, 25.46it/s]\n",
      "[Val-ACC] Model7 Epoch31: 100%|██████████| 46/46 [00:01<00:00, 25.56it/s]\n"
     ]
    },
    {
     "name": "stdout",
     "output_type": "stream",
     "text": [
      "[Model : 7, Epoch : 31/50] TrainLoss=0.7578 TrainAcc=89.17% ValAcc=22.82%\n",
      "-----------------------------\n"
     ]
    },
    {
     "name": "stderr",
     "output_type": "stream",
     "text": [
      "[Train] Model7 Epoch32: 100%|██████████| 94/94 [00:13<00:00,  7.07it/s]\n",
      "[Train-ACC] Model7 Epoch32: 100%|██████████| 94/94 [00:03<00:00, 25.31it/s]\n",
      "[Val-ACC] Model7 Epoch32: 100%|██████████| 46/46 [00:01<00:00, 25.40it/s]\n"
     ]
    },
    {
     "name": "stdout",
     "output_type": "stream",
     "text": [
      "[Model : 7, Epoch : 32/50] TrainLoss=0.2601 TrainAcc=95.80% ValAcc=23.78%\n",
      "-----------------------------\n"
     ]
    },
    {
     "name": "stderr",
     "output_type": "stream",
     "text": [
      "[Train] Model7 Epoch33: 100%|██████████| 94/94 [00:13<00:00,  7.09it/s]\n",
      "[Train-ACC] Model7 Epoch33: 100%|██████████| 94/94 [00:03<00:00, 25.46it/s]\n",
      "[Val-ACC] Model7 Epoch33: 100%|██████████| 46/46 [00:01<00:00, 25.97it/s]\n"
     ]
    },
    {
     "name": "stdout",
     "output_type": "stream",
     "text": [
      "[Model : 7, Epoch : 33/50] TrainLoss=0.0666 TrainAcc=99.95% ValAcc=28.20%\n",
      "-----------------------------\n"
     ]
    },
    {
     "name": "stderr",
     "output_type": "stream",
     "text": [
      "[Train] Model7 Epoch34: 100%|██████████| 94/94 [00:13<00:00,  7.08it/s]\n",
      "[Train-ACC] Model7 Epoch34: 100%|██████████| 94/94 [00:03<00:00, 25.01it/s]\n",
      "[Val-ACC] Model7 Epoch34: 100%|██████████| 46/46 [00:01<00:00, 25.09it/s]\n"
     ]
    },
    {
     "name": "stdout",
     "output_type": "stream",
     "text": [
      "[Model : 7, Epoch : 34/50] TrainLoss=0.0182 TrainAcc=100.00% ValAcc=29.48%\n",
      "-----------------------------\n"
     ]
    },
    {
     "name": "stderr",
     "output_type": "stream",
     "text": [
      "[Train] Model7 Epoch35: 100%|██████████| 94/94 [00:13<00:00,  7.08it/s]\n",
      "[Train-ACC] Model7 Epoch35: 100%|██████████| 94/94 [00:03<00:00, 25.80it/s]\n",
      "[Val-ACC] Model7 Epoch35: 100%|██████████| 46/46 [00:01<00:00, 25.89it/s]\n"
     ]
    },
    {
     "name": "stdout",
     "output_type": "stream",
     "text": [
      "[Model : 7, Epoch : 35/50] TrainLoss=0.0086 TrainAcc=100.00% ValAcc=29.69%\n",
      "-----------------------------\n"
     ]
    },
    {
     "name": "stderr",
     "output_type": "stream",
     "text": [
      "[Train] Model7 Epoch36: 100%|██████████| 94/94 [00:13<00:00,  7.09it/s]\n",
      "[Train-ACC] Model7 Epoch36: 100%|██████████| 94/94 [00:03<00:00, 25.66it/s]\n",
      "[Val-ACC] Model7 Epoch36: 100%|██████████| 46/46 [00:01<00:00, 25.47it/s]\n"
     ]
    },
    {
     "name": "stdout",
     "output_type": "stream",
     "text": [
      "[Model : 7, Epoch : 36/50] TrainLoss=0.0063 TrainAcc=100.00% ValAcc=29.58%\n",
      "-----------------------------\n"
     ]
    },
    {
     "name": "stderr",
     "output_type": "stream",
     "text": [
      "[Train] Model7 Epoch37: 100%|██████████| 94/94 [00:13<00:00,  7.13it/s]\n",
      "[Train-ACC] Model7 Epoch37: 100%|██████████| 94/94 [00:03<00:00, 25.32it/s]\n",
      "[Val-ACC] Model7 Epoch37: 100%|██████████| 46/46 [00:01<00:00, 25.61it/s]\n"
     ]
    },
    {
     "name": "stdout",
     "output_type": "stream",
     "text": [
      "[Model : 7, Epoch : 37/50] TrainLoss=0.0052 TrainAcc=100.00% ValAcc=28.86%\n",
      "-----------------------------\n"
     ]
    },
    {
     "name": "stderr",
     "output_type": "stream",
     "text": [
      "[Train] Model7 Epoch38: 100%|██████████| 94/94 [00:13<00:00,  7.08it/s]\n",
      "[Train-ACC] Model7 Epoch38: 100%|██████████| 94/94 [00:03<00:00, 25.43it/s]\n",
      "[Val-ACC] Model7 Epoch38: 100%|██████████| 46/46 [00:01<00:00, 25.39it/s]\n"
     ]
    },
    {
     "name": "stdout",
     "output_type": "stream",
     "text": [
      "[Model : 7, Epoch : 38/50] TrainLoss=0.0046 TrainAcc=100.00% ValAcc=28.72%\n",
      "-----------------------------\n"
     ]
    },
    {
     "name": "stderr",
     "output_type": "stream",
     "text": [
      "[Train] Model7 Epoch39: 100%|██████████| 94/94 [00:13<00:00,  7.07it/s]\n",
      "[Train-ACC] Model7 Epoch39: 100%|██████████| 94/94 [00:03<00:00, 25.48it/s]\n",
      "[Val-ACC] Model7 Epoch39: 100%|██████████| 46/46 [00:01<00:00, 25.49it/s]\n"
     ]
    },
    {
     "name": "stdout",
     "output_type": "stream",
     "text": [
      "[Model : 7, Epoch : 39/50] TrainLoss=0.0041 TrainAcc=100.00% ValAcc=29.24%\n",
      "-----------------------------\n"
     ]
    },
    {
     "name": "stderr",
     "output_type": "stream",
     "text": [
      "[Train] Model7 Epoch40: 100%|██████████| 94/94 [00:13<00:00,  7.06it/s]\n",
      "[Train-ACC] Model7 Epoch40: 100%|██████████| 94/94 [00:03<00:00, 24.31it/s]\n",
      "[Val-ACC] Model7 Epoch40: 100%|██████████| 46/46 [00:01<00:00, 25.49it/s]\n"
     ]
    },
    {
     "name": "stdout",
     "output_type": "stream",
     "text": [
      "[Model : 7, Epoch : 40/50] TrainLoss=0.0035 TrainAcc=100.00% ValAcc=28.58%\n",
      "-----------------------------\n"
     ]
    },
    {
     "name": "stderr",
     "output_type": "stream",
     "text": [
      "[Train] Model7 Epoch41: 100%|██████████| 94/94 [00:13<00:00,  7.12it/s]\n",
      "[Train-ACC] Model7 Epoch41: 100%|██████████| 94/94 [00:03<00:00, 25.09it/s]\n",
      "[Val-ACC] Model7 Epoch41: 100%|██████████| 46/46 [00:01<00:00, 25.02it/s]\n"
     ]
    },
    {
     "name": "stdout",
     "output_type": "stream",
     "text": [
      "[Model : 7, Epoch : 41/50] TrainLoss=0.0032 TrainAcc=100.00% ValAcc=28.96%\n",
      "-----------------------------\n"
     ]
    },
    {
     "name": "stderr",
     "output_type": "stream",
     "text": [
      "[Train] Model7 Epoch42: 100%|██████████| 94/94 [00:13<00:00,  6.93it/s]\n",
      "[Train-ACC] Model7 Epoch42: 100%|██████████| 94/94 [00:03<00:00, 23.63it/s]\n",
      "[Val-ACC] Model7 Epoch42: 100%|██████████| 46/46 [00:01<00:00, 23.79it/s]\n"
     ]
    },
    {
     "name": "stdout",
     "output_type": "stream",
     "text": [
      "[Model : 7, Epoch : 42/50] TrainLoss=0.0029 TrainAcc=100.00% ValAcc=28.89%\n",
      "-----------------------------\n"
     ]
    },
    {
     "name": "stderr",
     "output_type": "stream",
     "text": [
      "[Train] Model7 Epoch43: 100%|██████████| 94/94 [00:13<00:00,  6.93it/s]\n",
      "[Train-ACC] Model7 Epoch43: 100%|██████████| 94/94 [00:03<00:00, 23.68it/s]\n",
      "[Val-ACC] Model7 Epoch43: 100%|██████████| 46/46 [00:01<00:00, 24.03it/s]\n"
     ]
    },
    {
     "name": "stdout",
     "output_type": "stream",
     "text": [
      "[Model : 7, Epoch : 43/50] TrainLoss=0.0028 TrainAcc=100.00% ValAcc=28.41%\n",
      "-----------------------------\n"
     ]
    },
    {
     "name": "stderr",
     "output_type": "stream",
     "text": [
      "[Train] Model7 Epoch44: 100%|██████████| 94/94 [00:13<00:00,  6.91it/s]\n",
      "[Train-ACC] Model7 Epoch44: 100%|██████████| 94/94 [00:04<00:00, 23.27it/s]\n",
      "[Val-ACC] Model7 Epoch44: 100%|██████████| 46/46 [00:01<00:00, 23.68it/s]\n"
     ]
    },
    {
     "name": "stdout",
     "output_type": "stream",
     "text": [
      "[Model : 7, Epoch : 44/50] TrainLoss=0.0026 TrainAcc=100.00% ValAcc=28.27%\n",
      "-----------------------------\n"
     ]
    },
    {
     "name": "stderr",
     "output_type": "stream",
     "text": [
      "[Train] Model7 Epoch45: 100%|██████████| 94/94 [00:13<00:00,  6.97it/s]\n",
      "[Train-ACC] Model7 Epoch45: 100%|██████████| 94/94 [00:03<00:00, 24.92it/s]\n",
      "[Val-ACC] Model7 Epoch45: 100%|██████████| 46/46 [00:01<00:00, 24.63it/s]\n"
     ]
    },
    {
     "name": "stdout",
     "output_type": "stream",
     "text": [
      "[Model : 7, Epoch : 45/50] TrainLoss=0.0024 TrainAcc=100.00% ValAcc=28.89%\n",
      "-----------------------------\n"
     ]
    },
    {
     "name": "stderr",
     "output_type": "stream",
     "text": [
      "[Train] Model7 Epoch46: 100%|██████████| 94/94 [00:13<00:00,  7.11it/s]\n",
      "[Train-ACC] Model7 Epoch46: 100%|██████████| 94/94 [00:03<00:00, 25.71it/s]\n",
      "[Val-ACC] Model7 Epoch46: 100%|██████████| 46/46 [00:01<00:00, 25.84it/s]\n"
     ]
    },
    {
     "name": "stdout",
     "output_type": "stream",
     "text": [
      "[Model : 7, Epoch : 46/50] TrainLoss=0.0023 TrainAcc=100.00% ValAcc=28.24%\n",
      "-----------------------------\n"
     ]
    },
    {
     "name": "stderr",
     "output_type": "stream",
     "text": [
      "[Train] Model7 Epoch47: 100%|██████████| 94/94 [00:13<00:00,  7.08it/s]\n",
      "[Train-ACC] Model7 Epoch47: 100%|██████████| 94/94 [00:03<00:00, 25.52it/s]\n",
      "[Val-ACC] Model7 Epoch47: 100%|██████████| 46/46 [00:01<00:00, 24.62it/s]\n"
     ]
    },
    {
     "name": "stdout",
     "output_type": "stream",
     "text": [
      "[Model : 7, Epoch : 47/50] TrainLoss=0.4654 TrainAcc=3.49% ValAcc=2.45%\n",
      "-----------------------------\n"
     ]
    },
    {
     "name": "stderr",
     "output_type": "stream",
     "text": [
      "[Train] Model7 Epoch48: 100%|██████████| 94/94 [00:13<00:00,  7.04it/s]\n",
      "[Train-ACC] Model7 Epoch48: 100%|██████████| 94/94 [00:03<00:00, 24.23it/s]\n",
      "[Val-ACC] Model7 Epoch48: 100%|██████████| 46/46 [00:01<00:00, 24.54it/s]\n"
     ]
    },
    {
     "name": "stdout",
     "output_type": "stream",
     "text": [
      "[Model : 7, Epoch : 48/50] TrainLoss=2.4733 TrainAcc=53.02% ValAcc=18.88%\n",
      "-----------------------------\n"
     ]
    },
    {
     "name": "stderr",
     "output_type": "stream",
     "text": [
      "[Train] Model7 Epoch49: 100%|██████████| 94/94 [00:13<00:00,  7.03it/s]\n",
      "[Train-ACC] Model7 Epoch49: 100%|██████████| 94/94 [00:03<00:00, 24.93it/s]\n",
      "[Val-ACC] Model7 Epoch49: 100%|██████████| 46/46 [00:01<00:00, 25.74it/s]\n"
     ]
    },
    {
     "name": "stdout",
     "output_type": "stream",
     "text": [
      "[Model : 7, Epoch : 49/50] TrainLoss=1.0105 TrainAcc=80.70% ValAcc=21.88%\n",
      "-----------------------------\n"
     ]
    },
    {
     "name": "stderr",
     "output_type": "stream",
     "text": [
      "[Train] Model7 Epoch50: 100%|██████████| 94/94 [00:13<00:00,  7.07it/s]\n",
      "[Train-ACC] Model7 Epoch50: 100%|██████████| 94/94 [00:03<00:00, 25.65it/s]\n",
      "[Val-ACC] Model7 Epoch50: 100%|██████████| 46/46 [00:01<00:00, 25.79it/s]\n"
     ]
    },
    {
     "name": "stdout",
     "output_type": "stream",
     "text": [
      "[Model : 7, Epoch : 50/50] TrainLoss=0.3439 TrainAcc=96.78% ValAcc=23.23%\n",
      "-----------------------------\n"
     ]
    },
    {
     "name": "stderr",
     "output_type": "stream",
     "text": [
      "[Test-Single] Model7 (no label?): 100%|██████████| 12/12 [00:02<00:00,  5.60it/s]\n"
     ]
    },
    {
     "name": "stdout",
     "output_type": "stream",
     "text": [
      "====== Starting training for Model 8 / n_ens=10 ======\n"
     ]
    },
    {
     "name": "stderr",
     "output_type": "stream",
     "text": [
      "[Train] Model8 Epoch1: 100%|██████████| 94/94 [00:13<00:00,  7.12it/s]\n",
      "[Train-ACC] Model8 Epoch1: 100%|██████████| 94/94 [00:03<00:00, 25.18it/s]\n",
      "[Val-ACC] Model8 Epoch1: 100%|██████████| 46/46 [00:01<00:00, 25.71it/s]\n"
     ]
    },
    {
     "name": "stdout",
     "output_type": "stream",
     "text": [
      "[Model : 8, Epoch : 1/50] TrainLoss=5.2866 TrainAcc=1.89% ValAcc=1.79%\n",
      "-----------------------------\n"
     ]
    },
    {
     "name": "stderr",
     "output_type": "stream",
     "text": [
      "[Train] Model8 Epoch2: 100%|██████████| 94/94 [00:13<00:00,  7.05it/s]\n",
      "[Train-ACC] Model8 Epoch2: 100%|██████████| 94/94 [00:03<00:00, 25.34it/s]\n",
      "[Val-ACC] Model8 Epoch2: 100%|██████████| 46/46 [00:01<00:00, 25.04it/s]\n"
     ]
    },
    {
     "name": "stdout",
     "output_type": "stream",
     "text": [
      "[Model : 8, Epoch : 2/50] TrainLoss=4.9060 TrainAcc=2.32% ValAcc=1.73%\n",
      "-----------------------------\n"
     ]
    },
    {
     "name": "stderr",
     "output_type": "stream",
     "text": [
      "[Train] Model8 Epoch3: 100%|██████████| 94/94 [00:13<00:00,  7.08it/s]\n",
      "[Train-ACC] Model8 Epoch3: 100%|██████████| 94/94 [00:03<00:00, 25.82it/s]\n",
      "[Val-ACC] Model8 Epoch3: 100%|██████████| 46/46 [00:01<00:00, 26.06it/s]\n"
     ]
    },
    {
     "name": "stdout",
     "output_type": "stream",
     "text": [
      "[Model : 8, Epoch : 3/50] TrainLoss=4.7235 TrainAcc=4.52% ValAcc=3.94%\n",
      "-----------------------------\n"
     ]
    },
    {
     "name": "stderr",
     "output_type": "stream",
     "text": [
      "[Train] Model8 Epoch4: 100%|██████████| 94/94 [00:13<00:00,  7.19it/s]\n",
      "[Train-ACC] Model8 Epoch4: 100%|██████████| 94/94 [00:03<00:00, 25.70it/s]\n",
      "[Val-ACC] Model8 Epoch4: 100%|██████████| 46/46 [00:01<00:00, 26.05it/s]\n"
     ]
    },
    {
     "name": "stdout",
     "output_type": "stream",
     "text": [
      "[Model : 8, Epoch : 4/50] TrainLoss=4.4430 TrainAcc=5.61% ValAcc=4.28%\n",
      "-----------------------------\n"
     ]
    },
    {
     "name": "stderr",
     "output_type": "stream",
     "text": [
      "[Train] Model8 Epoch5: 100%|██████████| 94/94 [00:13<00:00,  7.17it/s]\n",
      "[Train-ACC] Model8 Epoch5: 100%|██████████| 94/94 [00:03<00:00, 25.44it/s]\n",
      "[Val-ACC] Model8 Epoch5: 100%|██████████| 46/46 [00:01<00:00, 25.13it/s]\n"
     ]
    },
    {
     "name": "stdout",
     "output_type": "stream",
     "text": [
      "[Model : 8, Epoch : 5/50] TrainLoss=4.1921 TrainAcc=7.01% ValAcc=4.87%\n",
      "-----------------------------\n"
     ]
    },
    {
     "name": "stderr",
     "output_type": "stream",
     "text": [
      "[Train] Model8 Epoch6: 100%|██████████| 94/94 [00:13<00:00,  7.11it/s]\n",
      "[Train-ACC] Model8 Epoch6: 100%|██████████| 94/94 [00:03<00:00, 25.67it/s]\n",
      "[Val-ACC] Model8 Epoch6: 100%|██████████| 46/46 [00:01<00:00, 25.85it/s]\n"
     ]
    },
    {
     "name": "stdout",
     "output_type": "stream",
     "text": [
      "[Model : 8, Epoch : 6/50] TrainLoss=3.9429 TrainAcc=12.30% ValAcc=8.28%\n",
      "-----------------------------\n"
     ]
    },
    {
     "name": "stderr",
     "output_type": "stream",
     "text": [
      "[Train] Model8 Epoch7: 100%|██████████| 94/94 [00:13<00:00,  7.10it/s]\n",
      "[Train-ACC] Model8 Epoch7: 100%|██████████| 94/94 [00:03<00:00, 25.65it/s]\n",
      "[Val-ACC] Model8 Epoch7: 100%|██████████| 46/46 [00:01<00:00, 25.89it/s]\n"
     ]
    },
    {
     "name": "stdout",
     "output_type": "stream",
     "text": [
      "[Model : 8, Epoch : 7/50] TrainLoss=3.7076 TrainAcc=14.20% ValAcc=10.74%\n",
      "-----------------------------\n"
     ]
    },
    {
     "name": "stderr",
     "output_type": "stream",
     "text": [
      "[Train] Model8 Epoch8: 100%|██████████| 94/94 [00:13<00:00,  7.08it/s]\n",
      "[Train-ACC] Model8 Epoch8: 100%|██████████| 94/94 [00:03<00:00, 25.35it/s]\n",
      "[Val-ACC] Model8 Epoch8: 100%|██████████| 46/46 [00:01<00:00, 25.15it/s]\n"
     ]
    },
    {
     "name": "stdout",
     "output_type": "stream",
     "text": [
      "[Model : 8, Epoch : 8/50] TrainLoss=3.4785 TrainAcc=18.79% ValAcc=11.74%\n",
      "-----------------------------\n"
     ]
    },
    {
     "name": "stderr",
     "output_type": "stream",
     "text": [
      "[Train] Model8 Epoch9: 100%|██████████| 94/94 [00:13<00:00,  7.10it/s]\n",
      "[Train-ACC] Model8 Epoch9: 100%|██████████| 94/94 [00:03<00:00, 25.26it/s]\n",
      "[Val-ACC] Model8 Epoch9: 100%|██████████| 46/46 [00:01<00:00, 25.56it/s]\n"
     ]
    },
    {
     "name": "stdout",
     "output_type": "stream",
     "text": [
      "[Model : 8, Epoch : 9/50] TrainLoss=3.2729 TrainAcc=20.49% ValAcc=12.88%\n",
      "-----------------------------\n"
     ]
    },
    {
     "name": "stderr",
     "output_type": "stream",
     "text": [
      "[Train] Model8 Epoch10: 100%|██████████| 94/94 [00:13<00:00,  7.03it/s]\n",
      "[Train-ACC] Model8 Epoch10: 100%|██████████| 94/94 [00:03<00:00, 25.10it/s]\n",
      "[Val-ACC] Model8 Epoch10: 100%|██████████| 46/46 [00:01<00:00, 25.19it/s]\n"
     ]
    },
    {
     "name": "stdout",
     "output_type": "stream",
     "text": [
      "[Model : 8, Epoch : 10/50] TrainLoss=3.0417 TrainAcc=22.07% ValAcc=13.88%\n",
      "-----------------------------\n"
     ]
    },
    {
     "name": "stderr",
     "output_type": "stream",
     "text": [
      "[Train] Model8 Epoch11: 100%|██████████| 94/94 [00:13<00:00,  7.03it/s]\n",
      "[Train-ACC] Model8 Epoch11: 100%|██████████| 94/94 [00:03<00:00, 24.87it/s]\n",
      "[Val-ACC] Model8 Epoch11: 100%|██████████| 46/46 [00:01<00:00, 25.48it/s]\n"
     ]
    },
    {
     "name": "stdout",
     "output_type": "stream",
     "text": [
      "[Model : 8, Epoch : 11/50] TrainLoss=2.8129 TrainAcc=32.28% ValAcc=18.40%\n",
      "-----------------------------\n"
     ]
    },
    {
     "name": "stderr",
     "output_type": "stream",
     "text": [
      "[Train] Model8 Epoch12: 100%|██████████| 94/94 [00:13<00:00,  7.08it/s]\n",
      "[Train-ACC] Model8 Epoch12: 100%|██████████| 94/94 [00:03<00:00, 25.62it/s]\n",
      "[Val-ACC] Model8 Epoch12: 100%|██████████| 46/46 [00:01<00:00, 25.21it/s]\n"
     ]
    },
    {
     "name": "stdout",
     "output_type": "stream",
     "text": [
      "[Model : 8, Epoch : 12/50] TrainLoss=2.5798 TrainAcc=31.53% ValAcc=17.40%\n",
      "-----------------------------\n"
     ]
    },
    {
     "name": "stderr",
     "output_type": "stream",
     "text": [
      "[Train] Model8 Epoch13: 100%|██████████| 94/94 [00:13<00:00,  7.05it/s]\n",
      "[Train-ACC] Model8 Epoch13: 100%|██████████| 94/94 [00:03<00:00, 25.32it/s]\n",
      "[Val-ACC] Model8 Epoch13: 100%|██████████| 46/46 [00:01<00:00, 25.33it/s]\n"
     ]
    },
    {
     "name": "stdout",
     "output_type": "stream",
     "text": [
      "[Model : 8, Epoch : 13/50] TrainLoss=2.3487 TrainAcc=39.76% ValAcc=19.26%\n",
      "-----------------------------\n"
     ]
    },
    {
     "name": "stderr",
     "output_type": "stream",
     "text": [
      "[Train] Model8 Epoch14: 100%|██████████| 94/94 [00:13<00:00,  7.06it/s]\n",
      "[Train-ACC] Model8 Epoch14: 100%|██████████| 94/94 [00:03<00:00, 25.10it/s]\n",
      "[Val-ACC] Model8 Epoch14: 100%|██████████| 46/46 [00:01<00:00, 25.91it/s]\n"
     ]
    },
    {
     "name": "stdout",
     "output_type": "stream",
     "text": [
      "[Model : 8, Epoch : 14/50] TrainLoss=2.0948 TrainAcc=40.07% ValAcc=17.09%\n",
      "-----------------------------\n"
     ]
    },
    {
     "name": "stderr",
     "output_type": "stream",
     "text": [
      "[Train] Model8 Epoch15: 100%|██████████| 94/94 [00:13<00:00,  7.09it/s]\n",
      "[Train-ACC] Model8 Epoch15: 100%|██████████| 94/94 [00:03<00:00, 24.56it/s]\n",
      "[Val-ACC] Model8 Epoch15: 100%|██████████| 46/46 [00:01<00:00, 24.47it/s]\n"
     ]
    },
    {
     "name": "stdout",
     "output_type": "stream",
     "text": [
      "[Model : 8, Epoch : 15/50] TrainLoss=1.8165 TrainAcc=37.10% ValAcc=15.84%\n",
      "-----------------------------\n"
     ]
    },
    {
     "name": "stderr",
     "output_type": "stream",
     "text": [
      "[Train] Model8 Epoch16: 100%|██████████| 94/94 [00:13<00:00,  7.11it/s]\n",
      "[Train-ACC] Model8 Epoch16: 100%|██████████| 94/94 [00:03<00:00, 25.48it/s]\n",
      "[Val-ACC] Model8 Epoch16: 100%|██████████| 46/46 [00:01<00:00, 25.63it/s]\n"
     ]
    },
    {
     "name": "stdout",
     "output_type": "stream",
     "text": [
      "[Model : 8, Epoch : 16/50] TrainLoss=1.5083 TrainAcc=52.59% ValAcc=19.43%\n",
      "-----------------------------\n"
     ]
    },
    {
     "name": "stderr",
     "output_type": "stream",
     "text": [
      "[Train] Model8 Epoch17: 100%|██████████| 94/94 [00:13<00:00,  7.12it/s]\n",
      "[Train-ACC] Model8 Epoch17: 100%|██████████| 94/94 [00:03<00:00, 25.79it/s]\n",
      "[Val-ACC] Model8 Epoch17: 100%|██████████| 46/46 [00:01<00:00, 25.90it/s]\n"
     ]
    },
    {
     "name": "stdout",
     "output_type": "stream",
     "text": [
      "[Model : 8, Epoch : 17/50] TrainLoss=1.1920 TrainAcc=66.47% ValAcc=21.26%\n",
      "-----------------------------\n"
     ]
    },
    {
     "name": "stderr",
     "output_type": "stream",
     "text": [
      "[Train] Model8 Epoch18: 100%|██████████| 94/94 [00:13<00:00,  7.16it/s]\n",
      "[Train-ACC] Model8 Epoch18: 100%|██████████| 94/94 [00:03<00:00, 24.67it/s]\n",
      "[Val-ACC] Model8 Epoch18: 100%|██████████| 46/46 [00:01<00:00, 24.72it/s]\n"
     ]
    },
    {
     "name": "stdout",
     "output_type": "stream",
     "text": [
      "[Model : 8, Epoch : 18/50] TrainLoss=0.8552 TrainAcc=81.55% ValAcc=22.26%\n",
      "-----------------------------\n"
     ]
    },
    {
     "name": "stderr",
     "output_type": "stream",
     "text": [
      "[Train] Model8 Epoch19: 100%|██████████| 94/94 [00:13<00:00,  7.05it/s]\n",
      "[Train-ACC] Model8 Epoch19: 100%|██████████| 94/94 [00:03<00:00, 25.37it/s]\n",
      "[Val-ACC] Model8 Epoch19: 100%|██████████| 46/46 [00:01<00:00, 25.68it/s]\n"
     ]
    },
    {
     "name": "stdout",
     "output_type": "stream",
     "text": [
      "[Model : 8, Epoch : 19/50] TrainLoss=0.5377 TrainAcc=80.55% ValAcc=20.61%\n",
      "-----------------------------\n"
     ]
    },
    {
     "name": "stderr",
     "output_type": "stream",
     "text": [
      "[Train] Model8 Epoch20: 100%|██████████| 94/94 [00:13<00:00,  7.08it/s]\n",
      "[Train-ACC] Model8 Epoch20: 100%|██████████| 94/94 [00:03<00:00, 25.64it/s]\n",
      "[Val-ACC] Model8 Epoch20: 100%|██████████| 46/46 [00:01<00:00, 25.86it/s]\n"
     ]
    },
    {
     "name": "stdout",
     "output_type": "stream",
     "text": [
      "[Model : 8, Epoch : 20/50] TrainLoss=0.3590 TrainAcc=93.33% ValAcc=20.30%\n",
      "-----------------------------\n"
     ]
    },
    {
     "name": "stderr",
     "output_type": "stream",
     "text": [
      "[Train] Model8 Epoch21: 100%|██████████| 94/94 [00:13<00:00,  7.06it/s]\n",
      "[Train-ACC] Model8 Epoch21: 100%|██████████| 94/94 [00:03<00:00, 25.43it/s]\n",
      "[Val-ACC] Model8 Epoch21: 100%|██████████| 46/46 [00:01<00:00, 25.80it/s]\n"
     ]
    },
    {
     "name": "stdout",
     "output_type": "stream",
     "text": [
      "[Model : 8, Epoch : 21/50] TrainLoss=0.1948 TrainAcc=98.77% ValAcc=25.13%\n",
      "-----------------------------\n"
     ]
    },
    {
     "name": "stderr",
     "output_type": "stream",
     "text": [
      "[Train] Model8 Epoch22: 100%|██████████| 94/94 [00:13<00:00,  7.11it/s]\n",
      "[Train-ACC] Model8 Epoch22: 100%|██████████| 94/94 [00:03<00:00, 25.45it/s]\n",
      "[Val-ACC] Model8 Epoch22: 100%|██████████| 46/46 [00:01<00:00, 24.92it/s]\n"
     ]
    },
    {
     "name": "stdout",
     "output_type": "stream",
     "text": [
      "[Model : 8, Epoch : 22/50] TrainLoss=0.0889 TrainAcc=99.73% ValAcc=25.30%\n",
      "-----------------------------\n"
     ]
    },
    {
     "name": "stderr",
     "output_type": "stream",
     "text": [
      "[Train] Model8 Epoch23: 100%|██████████| 94/94 [00:13<00:00,  7.12it/s]\n",
      "[Train-ACC] Model8 Epoch23: 100%|██████████| 94/94 [00:03<00:00, 25.63it/s]\n",
      "[Val-ACC] Model8 Epoch23: 100%|██████████| 46/46 [00:01<00:00, 25.56it/s]\n"
     ]
    },
    {
     "name": "stdout",
     "output_type": "stream",
     "text": [
      "[Model : 8, Epoch : 23/50] TrainLoss=0.0380 TrainAcc=100.00% ValAcc=27.51%\n",
      "-----------------------------\n"
     ]
    },
    {
     "name": "stderr",
     "output_type": "stream",
     "text": [
      "[Train] Model8 Epoch24: 100%|██████████| 94/94 [00:13<00:00,  7.09it/s]\n",
      "[Train-ACC] Model8 Epoch24: 100%|██████████| 94/94 [00:03<00:00, 25.72it/s]\n",
      "[Val-ACC] Model8 Epoch24: 100%|██████████| 46/46 [00:01<00:00, 25.81it/s]\n"
     ]
    },
    {
     "name": "stdout",
     "output_type": "stream",
     "text": [
      "[Model : 8, Epoch : 24/50] TrainLoss=0.0126 TrainAcc=100.00% ValAcc=28.17%\n",
      "-----------------------------\n"
     ]
    },
    {
     "name": "stderr",
     "output_type": "stream",
     "text": [
      "[Train] Model8 Epoch25: 100%|██████████| 94/94 [00:13<00:00,  7.09it/s]\n",
      "[Train-ACC] Model8 Epoch25: 100%|██████████| 94/94 [00:03<00:00, 24.72it/s]\n",
      "[Val-ACC] Model8 Epoch25: 100%|██████████| 46/46 [00:01<00:00, 24.86it/s]\n"
     ]
    },
    {
     "name": "stdout",
     "output_type": "stream",
     "text": [
      "[Model : 8, Epoch : 25/50] TrainLoss=0.0076 TrainAcc=100.00% ValAcc=28.55%\n",
      "-----------------------------\n"
     ]
    },
    {
     "name": "stderr",
     "output_type": "stream",
     "text": [
      "[Train] Model8 Epoch26: 100%|██████████| 94/94 [00:13<00:00,  7.04it/s]\n",
      "[Train-ACC] Model8 Epoch26: 100%|██████████| 94/94 [00:03<00:00, 25.20it/s]\n",
      "[Val-ACC] Model8 Epoch26: 100%|██████████| 46/46 [00:01<00:00, 25.19it/s]\n"
     ]
    },
    {
     "name": "stdout",
     "output_type": "stream",
     "text": [
      "[Model : 8, Epoch : 26/50] TrainLoss=0.0060 TrainAcc=100.00% ValAcc=28.48%\n",
      "-----------------------------\n"
     ]
    },
    {
     "name": "stderr",
     "output_type": "stream",
     "text": [
      "[Train] Model8 Epoch27: 100%|██████████| 94/94 [00:13<00:00,  7.05it/s]\n",
      "[Train-ACC] Model8 Epoch27: 100%|██████████| 94/94 [00:03<00:00, 25.28it/s]\n",
      "[Val-ACC] Model8 Epoch27: 100%|██████████| 46/46 [00:01<00:00, 25.39it/s]\n"
     ]
    },
    {
     "name": "stdout",
     "output_type": "stream",
     "text": [
      "[Model : 8, Epoch : 27/50] TrainLoss=0.0051 TrainAcc=100.00% ValAcc=28.44%\n",
      "-----------------------------\n"
     ]
    },
    {
     "name": "stderr",
     "output_type": "stream",
     "text": [
      "[Train] Model8 Epoch28: 100%|██████████| 94/94 [00:13<00:00,  7.11it/s]\n",
      "[Train-ACC] Model8 Epoch28: 100%|██████████| 94/94 [00:03<00:00, 25.12it/s]\n",
      "[Val-ACC] Model8 Epoch28: 100%|██████████| 46/46 [00:01<00:00, 25.10it/s]\n"
     ]
    },
    {
     "name": "stdout",
     "output_type": "stream",
     "text": [
      "[Model : 8, Epoch : 28/50] TrainLoss=0.0044 TrainAcc=100.00% ValAcc=28.51%\n",
      "-----------------------------\n"
     ]
    },
    {
     "name": "stderr",
     "output_type": "stream",
     "text": [
      "[Train] Model8 Epoch29: 100%|██████████| 94/94 [00:13<00:00,  7.04it/s]\n",
      "[Train-ACC] Model8 Epoch29: 100%|██████████| 94/94 [00:03<00:00, 25.34it/s]\n",
      "[Val-ACC] Model8 Epoch29: 100%|██████████| 46/46 [00:01<00:00, 24.98it/s]\n"
     ]
    },
    {
     "name": "stdout",
     "output_type": "stream",
     "text": [
      "[Model : 8, Epoch : 29/50] TrainLoss=0.0037 TrainAcc=100.00% ValAcc=27.89%\n",
      "-----------------------------\n"
     ]
    },
    {
     "name": "stderr",
     "output_type": "stream",
     "text": [
      "[Train] Model8 Epoch30: 100%|██████████| 94/94 [00:13<00:00,  7.07it/s]\n",
      "[Train-ACC] Model8 Epoch30: 100%|██████████| 94/94 [00:03<00:00, 25.53it/s]\n",
      "[Val-ACC] Model8 Epoch30: 100%|██████████| 46/46 [00:01<00:00, 25.56it/s]\n"
     ]
    },
    {
     "name": "stdout",
     "output_type": "stream",
     "text": [
      "[Model : 8, Epoch : 30/50] TrainLoss=0.0034 TrainAcc=100.00% ValAcc=27.06%\n",
      "-----------------------------\n"
     ]
    },
    {
     "name": "stderr",
     "output_type": "stream",
     "text": [
      "[Train] Model8 Epoch31: 100%|██████████| 94/94 [00:13<00:00,  7.05it/s]\n",
      "[Train-ACC] Model8 Epoch31: 100%|██████████| 94/94 [00:03<00:00, 25.58it/s]\n",
      "[Val-ACC] Model8 Epoch31: 100%|██████████| 46/46 [00:01<00:00, 24.67it/s]\n"
     ]
    },
    {
     "name": "stdout",
     "output_type": "stream",
     "text": [
      "[Model : 8, Epoch : 31/50] TrainLoss=0.0030 TrainAcc=100.00% ValAcc=27.17%\n",
      "-----------------------------\n"
     ]
    },
    {
     "name": "stderr",
     "output_type": "stream",
     "text": [
      "[Train] Model8 Epoch32: 100%|██████████| 94/94 [00:13<00:00,  7.06it/s]\n",
      "[Train-ACC] Model8 Epoch32: 100%|██████████| 94/94 [00:03<00:00, 25.09it/s]\n",
      "[Val-ACC] Model8 Epoch32: 100%|██████████| 46/46 [00:01<00:00, 25.22it/s]\n"
     ]
    },
    {
     "name": "stdout",
     "output_type": "stream",
     "text": [
      "[Model : 8, Epoch : 32/50] TrainLoss=0.0027 TrainAcc=100.00% ValAcc=26.72%\n",
      "-----------------------------\n"
     ]
    },
    {
     "name": "stderr",
     "output_type": "stream",
     "text": [
      "[Train] Model8 Epoch33: 100%|██████████| 94/94 [00:13<00:00,  7.10it/s]\n",
      "[Train-ACC] Model8 Epoch33: 100%|██████████| 94/94 [00:03<00:00, 25.53it/s]\n",
      "[Val-ACC] Model8 Epoch33: 100%|██████████| 46/46 [00:01<00:00, 25.84it/s]\n"
     ]
    },
    {
     "name": "stdout",
     "output_type": "stream",
     "text": [
      "[Model : 8, Epoch : 33/50] TrainLoss=0.0029 TrainAcc=100.00% ValAcc=27.24%\n",
      "-----------------------------\n"
     ]
    },
    {
     "name": "stderr",
     "output_type": "stream",
     "text": [
      "[Train] Model8 Epoch34: 100%|██████████| 94/94 [00:13<00:00,  7.10it/s]\n",
      "[Train-ACC] Model8 Epoch34: 100%|██████████| 94/94 [00:03<00:00, 25.55it/s]\n",
      "[Val-ACC] Model8 Epoch34: 100%|██████████| 46/46 [00:01<00:00, 25.71it/s]\n"
     ]
    },
    {
     "name": "stdout",
     "output_type": "stream",
     "text": [
      "[Model : 8, Epoch : 34/50] TrainLoss=1.8480 TrainAcc=28.29% ValAcc=12.74%\n",
      "-----------------------------\n"
     ]
    },
    {
     "name": "stderr",
     "output_type": "stream",
     "text": [
      "[Train] Model8 Epoch35: 100%|██████████| 94/94 [00:13<00:00,  7.04it/s]\n",
      "[Train-ACC] Model8 Epoch35: 100%|██████████| 94/94 [00:03<00:00, 24.97it/s]\n",
      "[Val-ACC] Model8 Epoch35: 100%|██████████| 46/46 [00:01<00:00, 24.85it/s]\n"
     ]
    },
    {
     "name": "stdout",
     "output_type": "stream",
     "text": [
      "[Model : 8, Epoch : 35/50] TrainLoss=2.0209 TrainAcc=51.70% ValAcc=16.12%\n",
      "-----------------------------\n"
     ]
    },
    {
     "name": "stderr",
     "output_type": "stream",
     "text": [
      "[Train] Model8 Epoch36: 100%|██████████| 94/94 [00:13<00:00,  7.04it/s]\n",
      "[Train-ACC] Model8 Epoch36: 100%|██████████| 94/94 [00:03<00:00, 25.34it/s]\n",
      "[Val-ACC] Model8 Epoch36: 100%|██████████| 46/46 [00:01<00:00, 25.45it/s]\n"
     ]
    },
    {
     "name": "stdout",
     "output_type": "stream",
     "text": [
      "[Model : 8, Epoch : 36/50] TrainLoss=1.0699 TrainAcc=64.96% ValAcc=16.95%\n",
      "-----------------------------\n"
     ]
    },
    {
     "name": "stderr",
     "output_type": "stream",
     "text": [
      "[Train] Model8 Epoch37: 100%|██████████| 94/94 [00:13<00:00,  7.10it/s]\n",
      "[Train-ACC] Model8 Epoch37: 100%|██████████| 94/94 [00:03<00:00, 25.77it/s]\n",
      "[Val-ACC] Model8 Epoch37: 100%|██████████| 46/46 [00:01<00:00, 25.77it/s]\n"
     ]
    },
    {
     "name": "stdout",
     "output_type": "stream",
     "text": [
      "[Model : 8, Epoch : 37/50] TrainLoss=0.5012 TrainAcc=88.57% ValAcc=18.74%\n",
      "-----------------------------\n"
     ]
    },
    {
     "name": "stderr",
     "output_type": "stream",
     "text": [
      "[Train] Model8 Epoch38: 100%|██████████| 94/94 [00:13<00:00,  7.10it/s]\n",
      "[Train-ACC] Model8 Epoch38: 100%|██████████| 94/94 [00:03<00:00, 25.41it/s]\n",
      "[Val-ACC] Model8 Epoch38: 100%|██████████| 46/46 [00:01<00:00, 25.74it/s]\n"
     ]
    },
    {
     "name": "stdout",
     "output_type": "stream",
     "text": [
      "[Model : 8, Epoch : 38/50] TrainLoss=0.1928 TrainAcc=98.88% ValAcc=22.82%\n",
      "-----------------------------\n"
     ]
    },
    {
     "name": "stderr",
     "output_type": "stream",
     "text": [
      "[Train] Model8 Epoch39: 100%|██████████| 94/94 [00:13<00:00,  7.14it/s]\n",
      "[Train-ACC] Model8 Epoch39: 100%|██████████| 94/94 [00:03<00:00, 25.41it/s]\n",
      "[Val-ACC] Model8 Epoch39: 100%|██████████| 46/46 [00:01<00:00, 25.10it/s]\n"
     ]
    },
    {
     "name": "stdout",
     "output_type": "stream",
     "text": [
      "[Model : 8, Epoch : 39/50] TrainLoss=0.0722 TrainAcc=99.98% ValAcc=24.99%\n",
      "-----------------------------\n"
     ]
    },
    {
     "name": "stderr",
     "output_type": "stream",
     "text": [
      "[Train] Model8 Epoch40: 100%|██████████| 94/94 [00:13<00:00,  7.09it/s]\n",
      "[Train-ACC] Model8 Epoch40: 100%|██████████| 94/94 [00:03<00:00, 25.63it/s]\n",
      "[Val-ACC] Model8 Epoch40: 100%|██████████| 46/46 [00:01<00:00, 25.82it/s]\n"
     ]
    },
    {
     "name": "stdout",
     "output_type": "stream",
     "text": [
      "[Model : 8, Epoch : 40/50] TrainLoss=0.0183 TrainAcc=100.00% ValAcc=26.48%\n",
      "-----------------------------\n"
     ]
    },
    {
     "name": "stderr",
     "output_type": "stream",
     "text": [
      "[Train] Model8 Epoch41: 100%|██████████| 94/94 [00:13<00:00,  7.04it/s]\n",
      "[Train-ACC] Model8 Epoch41: 100%|██████████| 94/94 [00:03<00:00, 25.48it/s]\n",
      "[Val-ACC] Model8 Epoch41: 100%|██████████| 46/46 [00:01<00:00, 25.57it/s]\n"
     ]
    },
    {
     "name": "stdout",
     "output_type": "stream",
     "text": [
      "[Model : 8, Epoch : 41/50] TrainLoss=0.0087 TrainAcc=100.00% ValAcc=26.96%\n",
      "-----------------------------\n"
     ]
    },
    {
     "name": "stderr",
     "output_type": "stream",
     "text": [
      "[Train] Model8 Epoch42: 100%|██████████| 94/94 [00:13<00:00,  7.12it/s]\n",
      "[Train-ACC] Model8 Epoch42: 100%|██████████| 94/94 [00:03<00:00, 25.03it/s]\n",
      "[Val-ACC] Model8 Epoch42: 100%|██████████| 46/46 [00:01<00:00, 25.29it/s]\n"
     ]
    },
    {
     "name": "stdout",
     "output_type": "stream",
     "text": [
      "[Model : 8, Epoch : 42/50] TrainLoss=0.0059 TrainAcc=100.00% ValAcc=26.75%\n",
      "-----------------------------\n"
     ]
    },
    {
     "name": "stderr",
     "output_type": "stream",
     "text": [
      "[Train] Model8 Epoch43: 100%|██████████| 94/94 [00:13<00:00,  7.14it/s]\n",
      "[Train-ACC] Model8 Epoch43: 100%|██████████| 94/94 [00:03<00:00, 25.64it/s]\n",
      "[Val-ACC] Model8 Epoch43: 100%|██████████| 46/46 [00:01<00:00, 25.79it/s]\n"
     ]
    },
    {
     "name": "stdout",
     "output_type": "stream",
     "text": [
      "[Model : 8, Epoch : 43/50] TrainLoss=0.0048 TrainAcc=100.00% ValAcc=26.58%\n",
      "-----------------------------\n"
     ]
    },
    {
     "name": "stderr",
     "output_type": "stream",
     "text": [
      "[Train] Model8 Epoch44: 100%|██████████| 94/94 [00:13<00:00,  7.18it/s]\n",
      "[Train-ACC] Model8 Epoch44: 100%|██████████| 94/94 [00:03<00:00, 25.53it/s]\n",
      "[Val-ACC] Model8 Epoch44: 100%|██████████| 46/46 [00:01<00:00, 25.51it/s]\n"
     ]
    },
    {
     "name": "stdout",
     "output_type": "stream",
     "text": [
      "[Model : 8, Epoch : 44/50] TrainLoss=0.0041 TrainAcc=100.00% ValAcc=27.13%\n",
      "-----------------------------\n"
     ]
    },
    {
     "name": "stderr",
     "output_type": "stream",
     "text": [
      "[Train] Model8 Epoch45: 100%|██████████| 94/94 [00:13<00:00,  7.09it/s]\n",
      "[Train-ACC] Model8 Epoch45: 100%|██████████| 94/94 [00:03<00:00, 25.07it/s]\n",
      "[Val-ACC] Model8 Epoch45: 100%|██████████| 46/46 [00:01<00:00, 25.40it/s]\n"
     ]
    },
    {
     "name": "stdout",
     "output_type": "stream",
     "text": [
      "[Model : 8, Epoch : 45/50] TrainLoss=0.0038 TrainAcc=100.00% ValAcc=27.03%\n",
      "-----------------------------\n"
     ]
    },
    {
     "name": "stderr",
     "output_type": "stream",
     "text": [
      "[Train] Model8 Epoch46: 100%|██████████| 94/94 [00:13<00:00,  7.08it/s]\n",
      "[Train-ACC] Model8 Epoch46: 100%|██████████| 94/94 [00:03<00:00, 25.66it/s]\n",
      "[Val-ACC] Model8 Epoch46: 100%|██████████| 46/46 [00:01<00:00, 25.33it/s]\n"
     ]
    },
    {
     "name": "stdout",
     "output_type": "stream",
     "text": [
      "[Model : 8, Epoch : 46/50] TrainLoss=0.0033 TrainAcc=100.00% ValAcc=26.82%\n",
      "-----------------------------\n"
     ]
    },
    {
     "name": "stderr",
     "output_type": "stream",
     "text": [
      "[Train] Model8 Epoch47: 100%|██████████| 94/94 [00:13<00:00,  7.08it/s]\n",
      "[Train-ACC] Model8 Epoch47: 100%|██████████| 94/94 [00:03<00:00, 25.35it/s]\n",
      "[Val-ACC] Model8 Epoch47: 100%|██████████| 46/46 [00:01<00:00, 25.23it/s]\n"
     ]
    },
    {
     "name": "stdout",
     "output_type": "stream",
     "text": [
      "[Model : 8, Epoch : 47/50] TrainLoss=0.0030 TrainAcc=100.00% ValAcc=27.13%\n",
      "-----------------------------\n"
     ]
    },
    {
     "name": "stderr",
     "output_type": "stream",
     "text": [
      "[Train] Model8 Epoch48: 100%|██████████| 94/94 [00:13<00:00,  6.99it/s]\n",
      "[Train-ACC] Model8 Epoch48: 100%|██████████| 94/94 [00:03<00:00, 25.36it/s]\n",
      "[Val-ACC] Model8 Epoch48: 100%|██████████| 46/46 [00:01<00:00, 25.26it/s]\n"
     ]
    },
    {
     "name": "stdout",
     "output_type": "stream",
     "text": [
      "[Model : 8, Epoch : 48/50] TrainLoss=0.0027 TrainAcc=100.00% ValAcc=26.41%\n",
      "-----------------------------\n"
     ]
    },
    {
     "name": "stderr",
     "output_type": "stream",
     "text": [
      "[Train] Model8 Epoch49: 100%|██████████| 94/94 [00:13<00:00,  7.03it/s]\n",
      "[Train-ACC] Model8 Epoch49: 100%|██████████| 94/94 [00:03<00:00, 24.97it/s]\n",
      "[Val-ACC] Model8 Epoch49: 100%|██████████| 46/46 [00:01<00:00, 25.28it/s]\n"
     ]
    },
    {
     "name": "stdout",
     "output_type": "stream",
     "text": [
      "[Model : 8, Epoch : 49/50] TrainLoss=0.0024 TrainAcc=100.00% ValAcc=26.51%\n",
      "-----------------------------\n"
     ]
    },
    {
     "name": "stderr",
     "output_type": "stream",
     "text": [
      "[Train] Model8 Epoch50: 100%|██████████| 94/94 [00:13<00:00,  7.10it/s]\n",
      "[Train-ACC] Model8 Epoch50: 100%|██████████| 94/94 [00:03<00:00, 25.21it/s]\n",
      "[Val-ACC] Model8 Epoch50: 100%|██████████| 46/46 [00:01<00:00, 25.72it/s]\n"
     ]
    },
    {
     "name": "stdout",
     "output_type": "stream",
     "text": [
      "[Model : 8, Epoch : 50/50] TrainLoss=0.0024 TrainAcc=100.00% ValAcc=27.10%\n",
      "-----------------------------\n"
     ]
    },
    {
     "name": "stderr",
     "output_type": "stream",
     "text": [
      "[Test-Single] Model8 (no label?): 100%|██████████| 12/12 [00:02<00:00,  5.12it/s]\n"
     ]
    },
    {
     "name": "stdout",
     "output_type": "stream",
     "text": [
      "====== Starting training for Model 9 / n_ens=10 ======\n"
     ]
    },
    {
     "name": "stderr",
     "output_type": "stream",
     "text": [
      "[Train] Model9 Epoch1: 100%|██████████| 94/94 [00:13<00:00,  7.05it/s]\n",
      "[Train-ACC] Model9 Epoch1: 100%|██████████| 94/94 [00:03<00:00, 25.11it/s]\n",
      "[Val-ACC] Model9 Epoch1: 100%|██████████| 46/46 [00:01<00:00, 25.39it/s]\n"
     ]
    },
    {
     "name": "stdout",
     "output_type": "stream",
     "text": [
      "[Model : 9, Epoch : 1/50] TrainLoss=5.2551 TrainAcc=2.22% ValAcc=1.97%\n",
      "-----------------------------\n"
     ]
    },
    {
     "name": "stderr",
     "output_type": "stream",
     "text": [
      "[Train] Model9 Epoch2: 100%|██████████| 94/94 [00:13<00:00,  7.11it/s]\n",
      "[Train-ACC] Model9 Epoch2: 100%|██████████| 94/94 [00:03<00:00, 24.48it/s]\n",
      "[Val-ACC] Model9 Epoch2: 100%|██████████| 46/46 [00:01<00:00, 25.57it/s]\n"
     ]
    },
    {
     "name": "stdout",
     "output_type": "stream",
     "text": [
      "[Model : 9, Epoch : 2/50] TrainLoss=4.8581 TrainAcc=5.29% ValAcc=4.28%\n",
      "-----------------------------\n"
     ]
    },
    {
     "name": "stderr",
     "output_type": "stream",
     "text": [
      "[Train] Model9 Epoch3: 100%|██████████| 94/94 [00:13<00:00,  7.04it/s]\n",
      "[Train-ACC] Model9 Epoch3: 100%|██████████| 94/94 [00:03<00:00, 25.49it/s]\n",
      "[Val-ACC] Model9 Epoch3: 100%|██████████| 46/46 [00:01<00:00, 25.60it/s]\n"
     ]
    },
    {
     "name": "stdout",
     "output_type": "stream",
     "text": [
      "[Model : 9, Epoch : 3/50] TrainLoss=4.5529 TrainAcc=6.01% ValAcc=4.63%\n",
      "-----------------------------\n"
     ]
    },
    {
     "name": "stderr",
     "output_type": "stream",
     "text": [
      "[Train] Model9 Epoch4: 100%|██████████| 94/94 [00:13<00:00,  7.14it/s]\n",
      "[Train-ACC] Model9 Epoch4: 100%|██████████| 94/94 [00:03<00:00, 25.63it/s]\n",
      "[Val-ACC] Model9 Epoch4: 100%|██████████| 46/46 [00:01<00:00, 25.83it/s]\n"
     ]
    },
    {
     "name": "stdout",
     "output_type": "stream",
     "text": [
      "[Model : 9, Epoch : 4/50] TrainLoss=4.2707 TrainAcc=9.98% ValAcc=7.42%\n",
      "-----------------------------\n"
     ]
    },
    {
     "name": "stderr",
     "output_type": "stream",
     "text": [
      "[Train] Model9 Epoch5: 100%|██████████| 94/94 [00:13<00:00,  7.09it/s]\n",
      "[Train-ACC] Model9 Epoch5: 100%|██████████| 94/94 [00:03<00:00, 25.35it/s]\n",
      "[Val-ACC] Model9 Epoch5: 100%|██████████| 46/46 [00:01<00:00, 25.36it/s]\n"
     ]
    },
    {
     "name": "stdout",
     "output_type": "stream",
     "text": [
      "[Model : 9, Epoch : 5/50] TrainLoss=4.0327 TrainAcc=10.74% ValAcc=8.25%\n",
      "-----------------------------\n"
     ]
    },
    {
     "name": "stderr",
     "output_type": "stream",
     "text": [
      "[Train] Model9 Epoch6: 100%|██████████| 94/94 [00:13<00:00,  7.07it/s]\n",
      "[Train-ACC] Model9 Epoch6: 100%|██████████| 94/94 [00:03<00:00, 24.92it/s]\n",
      "[Val-ACC] Model9 Epoch6: 100%|██████████| 46/46 [00:01<00:00, 25.16it/s]\n"
     ]
    },
    {
     "name": "stdout",
     "output_type": "stream",
     "text": [
      "[Model : 9, Epoch : 6/50] TrainLoss=3.7999 TrainAcc=14.30% ValAcc=10.36%\n",
      "-----------------------------\n"
     ]
    },
    {
     "name": "stderr",
     "output_type": "stream",
     "text": [
      "[Train] Model9 Epoch7: 100%|██████████| 94/94 [00:13<00:00,  7.11it/s]\n",
      "[Train-ACC] Model9 Epoch7: 100%|██████████| 94/94 [00:03<00:00, 25.38it/s]\n",
      "[Val-ACC] Model9 Epoch7: 100%|██████████| 46/46 [00:01<00:00, 25.43it/s]\n"
     ]
    },
    {
     "name": "stdout",
     "output_type": "stream",
     "text": [
      "[Model : 9, Epoch : 7/50] TrainLoss=3.5628 TrainAcc=9.19% ValAcc=6.28%\n",
      "-----------------------------\n"
     ]
    },
    {
     "name": "stderr",
     "output_type": "stream",
     "text": [
      "[Train] Model9 Epoch8: 100%|██████████| 94/94 [00:13<00:00,  7.07it/s]\n",
      "[Train-ACC] Model9 Epoch8: 100%|██████████| 94/94 [00:03<00:00, 25.45it/s]\n",
      "[Val-ACC] Model9 Epoch8: 100%|██████████| 46/46 [00:01<00:00, 25.57it/s]\n"
     ]
    },
    {
     "name": "stdout",
     "output_type": "stream",
     "text": [
      "[Model : 9, Epoch : 8/50] TrainLoss=3.3731 TrainAcc=22.29% ValAcc=13.39%\n",
      "-----------------------------\n"
     ]
    },
    {
     "name": "stderr",
     "output_type": "stream",
     "text": [
      "[Train] Model9 Epoch9: 100%|██████████| 94/94 [00:13<00:00,  7.14it/s]\n",
      "[Train-ACC] Model9 Epoch9: 100%|██████████| 94/94 [00:03<00:00, 25.29it/s]\n",
      "[Val-ACC] Model9 Epoch9: 100%|██████████| 46/46 [00:01<00:00, 25.89it/s]\n"
     ]
    },
    {
     "name": "stdout",
     "output_type": "stream",
     "text": [
      "[Model : 9, Epoch : 9/50] TrainLoss=3.1483 TrainAcc=24.94% ValAcc=15.46%\n",
      "-----------------------------\n"
     ]
    },
    {
     "name": "stderr",
     "output_type": "stream",
     "text": [
      "[Train] Model9 Epoch10: 100%|██████████| 94/94 [00:13<00:00,  7.14it/s]\n",
      "[Train-ACC] Model9 Epoch10: 100%|██████████| 94/94 [00:03<00:00, 25.69it/s]\n",
      "[Val-ACC] Model9 Epoch10: 100%|██████████| 46/46 [00:01<00:00, 25.71it/s]\n"
     ]
    },
    {
     "name": "stdout",
     "output_type": "stream",
     "text": [
      "[Model : 9, Epoch : 10/50] TrainLoss=2.9692 TrainAcc=22.92% ValAcc=15.05%\n",
      "-----------------------------\n"
     ]
    },
    {
     "name": "stderr",
     "output_type": "stream",
     "text": [
      "[Train] Model9 Epoch11: 100%|██████████| 94/94 [00:13<00:00,  7.07it/s]\n",
      "[Train-ACC] Model9 Epoch11: 100%|██████████| 94/94 [00:03<00:00, 25.72it/s]\n",
      "[Val-ACC] Model9 Epoch11: 100%|██████████| 46/46 [00:01<00:00, 25.89it/s]\n"
     ]
    },
    {
     "name": "stdout",
     "output_type": "stream",
     "text": [
      "[Model : 9, Epoch : 11/50] TrainLoss=2.7168 TrainAcc=28.56% ValAcc=16.05%\n",
      "-----------------------------\n"
     ]
    },
    {
     "name": "stderr",
     "output_type": "stream",
     "text": [
      "[Train] Model9 Epoch12: 100%|██████████| 94/94 [00:13<00:00,  7.13it/s]\n",
      "[Train-ACC] Model9 Epoch12: 100%|██████████| 94/94 [00:03<00:00, 25.35it/s]\n",
      "[Val-ACC] Model9 Epoch12: 100%|██████████| 46/46 [00:01<00:00, 25.44it/s]\n"
     ]
    },
    {
     "name": "stdout",
     "output_type": "stream",
     "text": [
      "[Model : 9, Epoch : 12/50] TrainLoss=2.5066 TrainAcc=29.10% ValAcc=16.19%\n",
      "-----------------------------\n"
     ]
    },
    {
     "name": "stderr",
     "output_type": "stream",
     "text": [
      "[Train] Model9 Epoch13: 100%|██████████| 94/94 [00:13<00:00,  7.02it/s]\n",
      "[Train-ACC] Model9 Epoch13: 100%|██████████| 94/94 [00:03<00:00, 25.12it/s]\n",
      "[Val-ACC] Model9 Epoch13: 100%|██████████| 46/46 [00:01<00:00, 25.15it/s]\n"
     ]
    },
    {
     "name": "stdout",
     "output_type": "stream",
     "text": [
      "[Model : 9, Epoch : 13/50] TrainLoss=2.3321 TrainAcc=34.82% ValAcc=18.36%\n",
      "-----------------------------\n"
     ]
    },
    {
     "name": "stderr",
     "output_type": "stream",
     "text": [
      "[Train] Model9 Epoch14: 100%|██████████| 94/94 [00:13<00:00,  7.11it/s]\n",
      "[Train-ACC] Model9 Epoch14: 100%|██████████| 94/94 [00:03<00:00, 25.52it/s]\n",
      "[Val-ACC] Model9 Epoch14: 100%|██████████| 46/46 [00:01<00:00, 25.73it/s]\n"
     ]
    },
    {
     "name": "stdout",
     "output_type": "stream",
     "text": [
      "[Model : 9, Epoch : 14/50] TrainLoss=2.0747 TrainAcc=40.96% ValAcc=19.09%\n",
      "-----------------------------\n"
     ]
    },
    {
     "name": "stderr",
     "output_type": "stream",
     "text": [
      "[Train] Model9 Epoch15: 100%|██████████| 94/94 [00:13<00:00,  7.09it/s]\n",
      "[Train-ACC] Model9 Epoch15: 100%|██████████| 94/94 [00:03<00:00, 25.73it/s]\n",
      "[Val-ACC] Model9 Epoch15: 100%|██████████| 46/46 [00:01<00:00, 25.78it/s]\n"
     ]
    },
    {
     "name": "stdout",
     "output_type": "stream",
     "text": [
      "[Model : 9, Epoch : 15/50] TrainLoss=1.8076 TrainAcc=51.30% ValAcc=23.27%\n",
      "-----------------------------\n"
     ]
    },
    {
     "name": "stderr",
     "output_type": "stream",
     "text": [
      "[Train] Model9 Epoch16: 100%|██████████| 94/94 [00:13<00:00,  7.09it/s]\n",
      "[Train-ACC] Model9 Epoch16: 100%|██████████| 94/94 [00:03<00:00, 24.91it/s]\n",
      "[Val-ACC] Model9 Epoch16: 100%|██████████| 46/46 [00:01<00:00, 25.12it/s]\n"
     ]
    },
    {
     "name": "stdout",
     "output_type": "stream",
     "text": [
      "[Model : 9, Epoch : 16/50] TrainLoss=1.5151 TrainAcc=51.75% ValAcc=20.92%\n",
      "-----------------------------\n"
     ]
    },
    {
     "name": "stderr",
     "output_type": "stream",
     "text": [
      "[Train] Model9 Epoch17: 100%|██████████| 94/94 [00:13<00:00,  7.07it/s]\n",
      "[Train-ACC] Model9 Epoch17: 100%|██████████| 94/94 [00:03<00:00, 25.52it/s]\n",
      "[Val-ACC] Model9 Epoch17: 100%|██████████| 46/46 [00:01<00:00, 25.66it/s]\n"
     ]
    },
    {
     "name": "stdout",
     "output_type": "stream",
     "text": [
      "[Model : 9, Epoch : 17/50] TrainLoss=1.2333 TrainAcc=47.23% ValAcc=18.09%\n",
      "-----------------------------\n"
     ]
    },
    {
     "name": "stderr",
     "output_type": "stream",
     "text": [
      "[Train] Model9 Epoch18: 100%|██████████| 94/94 [00:13<00:00,  7.12it/s]\n",
      "[Train-ACC] Model9 Epoch18: 100%|██████████| 94/94 [00:03<00:00, 25.84it/s]\n",
      "[Val-ACC] Model9 Epoch18: 100%|██████████| 46/46 [00:01<00:00, 26.00it/s]\n"
     ]
    },
    {
     "name": "stdout",
     "output_type": "stream",
     "text": [
      "[Model : 9, Epoch : 18/50] TrainLoss=0.9335 TrainAcc=65.57% ValAcc=21.16%\n",
      "-----------------------------\n"
     ]
    },
    {
     "name": "stderr",
     "output_type": "stream",
     "text": [
      "[Train] Model9 Epoch19: 100%|██████████| 94/94 [00:13<00:00,  7.06it/s]\n",
      "[Train-ACC] Model9 Epoch19: 100%|██████████| 94/94 [00:03<00:00, 24.75it/s]\n",
      "[Val-ACC] Model9 Epoch19: 100%|██████████| 46/46 [00:01<00:00, 25.25it/s]\n"
     ]
    },
    {
     "name": "stdout",
     "output_type": "stream",
     "text": [
      "[Model : 9, Epoch : 19/50] TrainLoss=0.6764 TrainAcc=86.39% ValAcc=25.03%\n",
      "-----------------------------\n"
     ]
    },
    {
     "name": "stderr",
     "output_type": "stream",
     "text": [
      "[Train] Model9 Epoch20: 100%|██████████| 94/94 [00:13<00:00,  7.05it/s]\n",
      "[Train-ACC] Model9 Epoch20: 100%|██████████| 94/94 [00:03<00:00, 25.17it/s]\n",
      "[Val-ACC] Model9 Epoch20: 100%|██████████| 46/46 [00:01<00:00, 24.98it/s]\n"
     ]
    },
    {
     "name": "stdout",
     "output_type": "stream",
     "text": [
      "[Model : 9, Epoch : 20/50] TrainLoss=0.4090 TrainAcc=87.12% ValAcc=22.64%\n",
      "-----------------------------\n"
     ]
    },
    {
     "name": "stderr",
     "output_type": "stream",
     "text": [
      "[Train] Model9 Epoch21: 100%|██████████| 94/94 [00:13<00:00,  7.08it/s]\n",
      "[Train-ACC] Model9 Epoch21: 100%|██████████| 94/94 [00:03<00:00, 25.43it/s]\n",
      "[Val-ACC] Model9 Epoch21: 100%|██████████| 46/46 [00:01<00:00, 25.62it/s]\n"
     ]
    },
    {
     "name": "stdout",
     "output_type": "stream",
     "text": [
      "[Model : 9, Epoch : 21/50] TrainLoss=0.2620 TrainAcc=96.41% ValAcc=24.89%\n",
      "-----------------------------\n"
     ]
    },
    {
     "name": "stderr",
     "output_type": "stream",
     "text": [
      "[Train] Model9 Epoch22: 100%|██████████| 94/94 [00:13<00:00,  7.11it/s]\n",
      "[Train-ACC] Model9 Epoch22: 100%|██████████| 94/94 [00:03<00:00, 25.56it/s]\n",
      "[Val-ACC] Model9 Epoch22: 100%|██████████| 46/46 [00:01<00:00, 25.42it/s]\n"
     ]
    },
    {
     "name": "stdout",
     "output_type": "stream",
     "text": [
      "[Model : 9, Epoch : 22/50] TrainLoss=0.1462 TrainAcc=95.55% ValAcc=23.23%\n",
      "-----------------------------\n"
     ]
    },
    {
     "name": "stderr",
     "output_type": "stream",
     "text": [
      "[Train] Model9 Epoch23: 100%|██████████| 94/94 [00:13<00:00,  7.08it/s]\n",
      "[Train-ACC] Model9 Epoch23: 100%|██████████| 94/94 [00:03<00:00, 25.11it/s]\n",
      "[Val-ACC] Model9 Epoch23: 100%|██████████| 46/46 [00:01<00:00, 25.26it/s]\n"
     ]
    },
    {
     "name": "stdout",
     "output_type": "stream",
     "text": [
      "[Model : 9, Epoch : 23/50] TrainLoss=0.0787 TrainAcc=99.33% ValAcc=25.82%\n",
      "-----------------------------\n"
     ]
    },
    {
     "name": "stderr",
     "output_type": "stream",
     "text": [
      "[Train] Model9 Epoch24: 100%|██████████| 94/94 [00:13<00:00,  7.04it/s]\n",
      "[Train-ACC] Model9 Epoch24: 100%|██████████| 94/94 [00:03<00:00, 25.18it/s]\n",
      "[Val-ACC] Model9 Epoch24: 100%|██████████| 46/46 [00:01<00:00, 25.69it/s]\n"
     ]
    },
    {
     "name": "stdout",
     "output_type": "stream",
     "text": [
      "[Model : 9, Epoch : 24/50] TrainLoss=0.0503 TrainAcc=99.78% ValAcc=27.48%\n",
      "-----------------------------\n"
     ]
    },
    {
     "name": "stderr",
     "output_type": "stream",
     "text": [
      "[Train] Model9 Epoch25: 100%|██████████| 94/94 [00:13<00:00,  7.09it/s]\n",
      "[Train-ACC] Model9 Epoch25: 100%|██████████| 94/94 [00:03<00:00, 25.25it/s]\n",
      "[Val-ACC] Model9 Epoch25: 100%|██████████| 46/46 [00:01<00:00, 25.61it/s]\n"
     ]
    },
    {
     "name": "stdout",
     "output_type": "stream",
     "text": [
      "[Model : 9, Epoch : 25/50] TrainLoss=0.0442 TrainAcc=99.93% ValAcc=27.99%\n",
      "-----------------------------\n"
     ]
    },
    {
     "name": "stderr",
     "output_type": "stream",
     "text": [
      "[Train] Model9 Epoch26: 100%|██████████| 94/94 [00:13<00:00,  7.10it/s]\n",
      "[Train-ACC] Model9 Epoch26: 100%|██████████| 94/94 [00:03<00:00, 25.06it/s]\n",
      "[Val-ACC] Model9 Epoch26: 100%|██████████| 46/46 [00:01<00:00, 25.24it/s]\n"
     ]
    },
    {
     "name": "stdout",
     "output_type": "stream",
     "text": [
      "[Model : 9, Epoch : 26/50] TrainLoss=0.0197 TrainAcc=100.00% ValAcc=29.03%\n",
      "-----------------------------\n"
     ]
    },
    {
     "name": "stderr",
     "output_type": "stream",
     "text": [
      "[Train] Model9 Epoch27: 100%|██████████| 94/94 [00:13<00:00,  7.12it/s]\n",
      "[Train-ACC] Model9 Epoch27: 100%|██████████| 94/94 [00:03<00:00, 24.80it/s]\n",
      "[Val-ACC] Model9 Epoch27: 100%|██████████| 46/46 [00:01<00:00, 25.05it/s]\n"
     ]
    },
    {
     "name": "stdout",
     "output_type": "stream",
     "text": [
      "[Model : 9, Epoch : 27/50] TrainLoss=0.0086 TrainAcc=100.00% ValAcc=29.75%\n",
      "-----------------------------\n"
     ]
    },
    {
     "name": "stderr",
     "output_type": "stream",
     "text": [
      "[Train] Model9 Epoch28: 100%|██████████| 94/94 [00:13<00:00,  7.03it/s]\n",
      "[Train-ACC] Model9 Epoch28: 100%|██████████| 94/94 [00:03<00:00, 25.53it/s]\n",
      "[Val-ACC] Model9 Epoch28: 100%|██████████| 46/46 [00:01<00:00, 25.75it/s]\n"
     ]
    },
    {
     "name": "stdout",
     "output_type": "stream",
     "text": [
      "[Model : 9, Epoch : 28/50] TrainLoss=0.0051 TrainAcc=100.00% ValAcc=31.65%\n",
      "-----------------------------\n"
     ]
    },
    {
     "name": "stderr",
     "output_type": "stream",
     "text": [
      "[Train] Model9 Epoch29: 100%|██████████| 94/94 [00:13<00:00,  7.11it/s]\n",
      "[Train-ACC] Model9 Epoch29: 100%|██████████| 94/94 [00:03<00:00, 25.18it/s]\n",
      "[Val-ACC] Model9 Epoch29: 100%|██████████| 46/46 [00:01<00:00, 25.54it/s]\n"
     ]
    },
    {
     "name": "stdout",
     "output_type": "stream",
     "text": [
      "[Model : 9, Epoch : 29/50] TrainLoss=0.0038 TrainAcc=100.00% ValAcc=31.38%\n",
      "-----------------------------\n"
     ]
    },
    {
     "name": "stderr",
     "output_type": "stream",
     "text": [
      "[Train] Model9 Epoch30: 100%|██████████| 94/94 [00:13<00:00,  7.04it/s]\n",
      "[Train-ACC] Model9 Epoch30: 100%|██████████| 94/94 [00:03<00:00, 25.61it/s]\n",
      "[Val-ACC] Model9 Epoch30: 100%|██████████| 46/46 [00:01<00:00, 25.47it/s]\n"
     ]
    },
    {
     "name": "stdout",
     "output_type": "stream",
     "text": [
      "[Model : 9, Epoch : 30/50] TrainLoss=0.0032 TrainAcc=100.00% ValAcc=31.07%\n",
      "-----------------------------\n"
     ]
    },
    {
     "name": "stderr",
     "output_type": "stream",
     "text": [
      "[Train] Model9 Epoch31: 100%|██████████| 94/94 [00:13<00:00,  7.07it/s]\n",
      "[Train-ACC] Model9 Epoch31: 100%|██████████| 94/94 [00:03<00:00, 25.40it/s]\n",
      "[Val-ACC] Model9 Epoch31: 100%|██████████| 46/46 [00:01<00:00, 25.60it/s]\n"
     ]
    },
    {
     "name": "stdout",
     "output_type": "stream",
     "text": [
      "[Model : 9, Epoch : 31/50] TrainLoss=0.0030 TrainAcc=100.00% ValAcc=30.76%\n",
      "-----------------------------\n"
     ]
    },
    {
     "name": "stderr",
     "output_type": "stream",
     "text": [
      "[Train] Model9 Epoch32: 100%|██████████| 94/94 [00:13<00:00,  6.98it/s]\n",
      "[Train-ACC] Model9 Epoch32: 100%|██████████| 94/94 [00:03<00:00, 23.56it/s]\n",
      "[Val-ACC] Model9 Epoch32: 100%|██████████| 46/46 [00:01<00:00, 23.83it/s]\n"
     ]
    },
    {
     "name": "stdout",
     "output_type": "stream",
     "text": [
      "[Model : 9, Epoch : 32/50] TrainLoss=0.0031 TrainAcc=100.00% ValAcc=30.51%\n",
      "-----------------------------\n"
     ]
    },
    {
     "name": "stderr",
     "output_type": "stream",
     "text": [
      "[Train] Model9 Epoch33: 100%|██████████| 94/94 [00:13<00:00,  7.00it/s]\n",
      "[Train-ACC] Model9 Epoch33: 100%|██████████| 94/94 [00:04<00:00, 23.08it/s]\n",
      "[Val-ACC] Model9 Epoch33: 100%|██████████| 46/46 [00:01<00:00, 23.28it/s]\n"
     ]
    },
    {
     "name": "stdout",
     "output_type": "stream",
     "text": [
      "[Model : 9, Epoch : 33/50] TrainLoss=0.0163 TrainAcc=22.41% ValAcc=5.59%\n",
      "-----------------------------\n"
     ]
    },
    {
     "name": "stderr",
     "output_type": "stream",
     "text": [
      "[Train] Model9 Epoch34: 100%|██████████| 94/94 [00:13<00:00,  7.01it/s]\n",
      "[Train-ACC] Model9 Epoch34: 100%|██████████| 94/94 [00:03<00:00, 24.62it/s]\n",
      "[Val-ACC] Model9 Epoch34: 100%|██████████| 46/46 [00:01<00:00, 24.62it/s]\n"
     ]
    },
    {
     "name": "stdout",
     "output_type": "stream",
     "text": [
      "[Model : 9, Epoch : 34/50] TrainLoss=2.4837 TrainAcc=39.52% ValAcc=16.26%\n",
      "-----------------------------\n"
     ]
    },
    {
     "name": "stderr",
     "output_type": "stream",
     "text": [
      "[Train] Model9 Epoch35: 100%|██████████| 94/94 [00:13<00:00,  7.01it/s]\n",
      "[Train-ACC] Model9 Epoch35: 100%|██████████| 94/94 [00:03<00:00, 24.71it/s]\n",
      "[Val-ACC] Model9 Epoch35: 100%|██████████| 46/46 [00:01<00:00, 24.65it/s]\n"
     ]
    },
    {
     "name": "stdout",
     "output_type": "stream",
     "text": [
      "[Model : 9, Epoch : 35/50] TrainLoss=1.3886 TrainAcc=49.67% ValAcc=14.05%\n",
      "-----------------------------\n"
     ]
    },
    {
     "name": "stderr",
     "output_type": "stream",
     "text": [
      "[Train] Model9 Epoch36: 100%|██████████| 94/94 [00:13<00:00,  7.07it/s]\n",
      "[Train-ACC] Model9 Epoch36: 100%|██████████| 94/94 [00:03<00:00, 24.60it/s]\n",
      "[Val-ACC] Model9 Epoch36: 100%|██████████| 46/46 [00:01<00:00, 25.33it/s]\n"
     ]
    },
    {
     "name": "stdout",
     "output_type": "stream",
     "text": [
      "[Model : 9, Epoch : 36/50] TrainLoss=0.6625 TrainAcc=87.35% ValAcc=23.75%\n",
      "-----------------------------\n"
     ]
    },
    {
     "name": "stderr",
     "output_type": "stream",
     "text": [
      "[Train] Model9 Epoch37: 100%|██████████| 94/94 [00:13<00:00,  7.06it/s]\n",
      "[Train-ACC] Model9 Epoch37: 100%|██████████| 94/94 [00:03<00:00, 25.20it/s]\n",
      "[Val-ACC] Model9 Epoch37: 100%|██████████| 46/46 [00:01<00:00, 25.12it/s]\n"
     ]
    },
    {
     "name": "stdout",
     "output_type": "stream",
     "text": [
      "[Model : 9, Epoch : 37/50] TrainLoss=0.2583 TrainAcc=97.38% ValAcc=25.47%\n",
      "-----------------------------\n"
     ]
    },
    {
     "name": "stderr",
     "output_type": "stream",
     "text": [
      "[Train] Model9 Epoch38: 100%|██████████| 94/94 [00:13<00:00,  7.11it/s]\n",
      "[Train-ACC] Model9 Epoch38: 100%|██████████| 94/94 [00:03<00:00, 25.65it/s]\n",
      "[Val-ACC] Model9 Epoch38: 100%|██████████| 46/46 [00:01<00:00, 25.20it/s]\n"
     ]
    },
    {
     "name": "stdout",
     "output_type": "stream",
     "text": [
      "[Model : 9, Epoch : 38/50] TrainLoss=0.0821 TrainAcc=99.95% ValAcc=27.65%\n",
      "-----------------------------\n"
     ]
    },
    {
     "name": "stderr",
     "output_type": "stream",
     "text": [
      "[Train] Model9 Epoch39: 100%|██████████| 94/94 [00:13<00:00,  6.99it/s]\n",
      "[Train-ACC] Model9 Epoch39: 100%|██████████| 94/94 [00:03<00:00, 24.66it/s]\n",
      "[Val-ACC] Model9 Epoch39: 100%|██████████| 46/46 [00:01<00:00, 24.99it/s]\n"
     ]
    },
    {
     "name": "stdout",
     "output_type": "stream",
     "text": [
      "[Model : 9, Epoch : 39/50] TrainLoss=0.0243 TrainAcc=100.00% ValAcc=29.13%\n",
      "-----------------------------\n"
     ]
    },
    {
     "name": "stderr",
     "output_type": "stream",
     "text": [
      "[Train] Model9 Epoch40: 100%|██████████| 94/94 [00:13<00:00,  7.10it/s]\n",
      "[Train-ACC] Model9 Epoch40: 100%|██████████| 94/94 [00:03<00:00, 24.48it/s]\n",
      "[Val-ACC] Model9 Epoch40: 100%|██████████| 46/46 [00:01<00:00, 24.73it/s]\n"
     ]
    },
    {
     "name": "stdout",
     "output_type": "stream",
     "text": [
      "[Model : 9, Epoch : 40/50] TrainLoss=0.0099 TrainAcc=100.00% ValAcc=30.58%\n",
      "-----------------------------\n"
     ]
    },
    {
     "name": "stderr",
     "output_type": "stream",
     "text": [
      "[Train] Model9 Epoch41: 100%|██████████| 94/94 [00:13<00:00,  7.07it/s]\n",
      "[Train-ACC] Model9 Epoch41: 100%|██████████| 94/94 [00:03<00:00, 24.82it/s]\n",
      "[Val-ACC] Model9 Epoch41: 100%|██████████| 46/46 [00:01<00:00, 24.28it/s]\n"
     ]
    },
    {
     "name": "stdout",
     "output_type": "stream",
     "text": [
      "[Model : 9, Epoch : 41/50] TrainLoss=0.0063 TrainAcc=100.00% ValAcc=30.45%\n",
      "-----------------------------\n"
     ]
    },
    {
     "name": "stderr",
     "output_type": "stream",
     "text": [
      "[Train] Model9 Epoch42: 100%|██████████| 94/94 [00:13<00:00,  7.04it/s]\n",
      "[Train-ACC] Model9 Epoch42: 100%|██████████| 94/94 [00:03<00:00, 25.59it/s]\n",
      "[Val-ACC] Model9 Epoch42: 100%|██████████| 46/46 [00:01<00:00, 25.75it/s]\n"
     ]
    },
    {
     "name": "stdout",
     "output_type": "stream",
     "text": [
      "[Model : 9, Epoch : 42/50] TrainLoss=0.0047 TrainAcc=100.00% ValAcc=30.58%\n",
      "-----------------------------\n"
     ]
    },
    {
     "name": "stderr",
     "output_type": "stream",
     "text": [
      "[Train] Model9 Epoch43: 100%|██████████| 94/94 [00:13<00:00,  7.01it/s]\n",
      "[Train-ACC] Model9 Epoch43: 100%|██████████| 94/94 [00:03<00:00, 25.42it/s]\n",
      "[Val-ACC] Model9 Epoch43: 100%|██████████| 46/46 [00:01<00:00, 25.65it/s]\n"
     ]
    },
    {
     "name": "stdout",
     "output_type": "stream",
     "text": [
      "[Model : 9, Epoch : 43/50] TrainLoss=0.0043 TrainAcc=100.00% ValAcc=30.72%\n",
      "-----------------------------\n"
     ]
    },
    {
     "name": "stderr",
     "output_type": "stream",
     "text": [
      "[Train] Model9 Epoch44: 100%|██████████| 94/94 [00:13<00:00,  7.16it/s]\n",
      "[Train-ACC] Model9 Epoch44: 100%|██████████| 94/94 [00:03<00:00, 25.46it/s]\n",
      "[Val-ACC] Model9 Epoch44: 100%|██████████| 46/46 [00:01<00:00, 25.40it/s]\n"
     ]
    },
    {
     "name": "stdout",
     "output_type": "stream",
     "text": [
      "[Model : 9, Epoch : 44/50] TrainLoss=0.0035 TrainAcc=100.00% ValAcc=30.58%\n",
      "-----------------------------\n"
     ]
    },
    {
     "name": "stderr",
     "output_type": "stream",
     "text": [
      "[Train] Model9 Epoch45: 100%|██████████| 94/94 [00:13<00:00,  7.14it/s]\n",
      "[Train-ACC] Model9 Epoch45: 100%|██████████| 94/94 [00:03<00:00, 25.23it/s]\n",
      "[Val-ACC] Model9 Epoch45: 100%|██████████| 46/46 [00:01<00:00, 24.93it/s]\n"
     ]
    },
    {
     "name": "stdout",
     "output_type": "stream",
     "text": [
      "[Model : 9, Epoch : 45/50] TrainLoss=0.0033 TrainAcc=100.00% ValAcc=30.38%\n",
      "-----------------------------\n"
     ]
    },
    {
     "name": "stderr",
     "output_type": "stream",
     "text": [
      "[Train] Model9 Epoch46: 100%|██████████| 94/94 [00:13<00:00,  7.03it/s]\n",
      "[Train-ACC] Model9 Epoch46: 100%|██████████| 94/94 [00:03<00:00, 25.54it/s]\n",
      "[Val-ACC] Model9 Epoch46: 100%|██████████| 46/46 [00:01<00:00, 25.91it/s]\n"
     ]
    },
    {
     "name": "stdout",
     "output_type": "stream",
     "text": [
      "[Model : 9, Epoch : 46/50] TrainLoss=0.0029 TrainAcc=100.00% ValAcc=30.13%\n",
      "-----------------------------\n"
     ]
    },
    {
     "name": "stderr",
     "output_type": "stream",
     "text": [
      "[Train] Model9 Epoch47: 100%|██████████| 94/94 [00:13<00:00,  7.08it/s]\n",
      "[Train-ACC] Model9 Epoch47: 100%|██████████| 94/94 [00:03<00:00, 25.03it/s]\n",
      "[Val-ACC] Model9 Epoch47: 100%|██████████| 46/46 [00:01<00:00, 25.19it/s]\n"
     ]
    },
    {
     "name": "stdout",
     "output_type": "stream",
     "text": [
      "[Model : 9, Epoch : 47/50] TrainLoss=0.0027 TrainAcc=100.00% ValAcc=29.62%\n",
      "-----------------------------\n"
     ]
    },
    {
     "name": "stderr",
     "output_type": "stream",
     "text": [
      "[Train] Model9 Epoch48: 100%|██████████| 94/94 [00:13<00:00,  7.02it/s]\n",
      "[Train-ACC] Model9 Epoch48: 100%|██████████| 94/94 [00:03<00:00, 25.42it/s]\n",
      "[Val-ACC] Model9 Epoch48: 100%|██████████| 46/46 [00:01<00:00, 25.04it/s]\n"
     ]
    },
    {
     "name": "stdout",
     "output_type": "stream",
     "text": [
      "[Model : 9, Epoch : 48/50] TrainLoss=0.0025 TrainAcc=100.00% ValAcc=29.93%\n",
      "-----------------------------\n"
     ]
    },
    {
     "name": "stderr",
     "output_type": "stream",
     "text": [
      "[Train] Model9 Epoch49: 100%|██████████| 94/94 [00:13<00:00,  7.00it/s]\n",
      "[Train-ACC] Model9 Epoch49: 100%|██████████| 94/94 [00:03<00:00, 25.13it/s]\n",
      "[Val-ACC] Model9 Epoch49: 100%|██████████| 46/46 [00:01<00:00, 25.06it/s]\n"
     ]
    },
    {
     "name": "stdout",
     "output_type": "stream",
     "text": [
      "[Model : 9, Epoch : 49/50] TrainLoss=0.0023 TrainAcc=100.00% ValAcc=29.65%\n",
      "-----------------------------\n"
     ]
    },
    {
     "name": "stderr",
     "output_type": "stream",
     "text": [
      "[Train] Model9 Epoch50: 100%|██████████| 94/94 [00:13<00:00,  7.02it/s]\n",
      "[Train-ACC] Model9 Epoch50: 100%|██████████| 94/94 [00:03<00:00, 24.98it/s]\n",
      "[Val-ACC] Model9 Epoch50: 100%|██████████| 46/46 [00:01<00:00, 25.18it/s]\n"
     ]
    },
    {
     "name": "stdout",
     "output_type": "stream",
     "text": [
      "[Model : 9, Epoch : 50/50] TrainLoss=0.0021 TrainAcc=100.00% ValAcc=29.48%\n",
      "-----------------------------\n"
     ]
    },
    {
     "name": "stderr",
     "output_type": "stream",
     "text": [
      "[Test-Single] Model9 (no label?): 100%|██████████| 12/12 [00:02<00:00,  5.60it/s]\n"
     ]
    },
    {
     "name": "stdout",
     "output_type": "stream",
     "text": [
      "====== Starting training for Model 10 / n_ens=10 ======\n"
     ]
    },
    {
     "name": "stderr",
     "output_type": "stream",
     "text": [
      "[Train] Model10 Epoch1: 100%|██████████| 94/94 [00:13<00:00,  6.94it/s]\n",
      "[Train-ACC] Model10 Epoch1: 100%|██████████| 94/94 [00:03<00:00, 23.84it/s]\n",
      "[Val-ACC] Model10 Epoch1: 100%|██████████| 46/46 [00:01<00:00, 23.70it/s]\n"
     ]
    },
    {
     "name": "stdout",
     "output_type": "stream",
     "text": [
      "[Model : 10, Epoch : 1/50] TrainLoss=5.2327 TrainAcc=2.84% ValAcc=3.38%\n",
      "-----------------------------\n"
     ]
    },
    {
     "name": "stderr",
     "output_type": "stream",
     "text": [
      "[Train] Model10 Epoch2: 100%|██████████| 94/94 [00:13<00:00,  7.12it/s]\n",
      "[Train-ACC] Model10 Epoch2: 100%|██████████| 94/94 [00:03<00:00, 25.60it/s]\n",
      "[Val-ACC] Model10 Epoch2: 100%|██████████| 46/46 [00:01<00:00, 25.76it/s]\n"
     ]
    },
    {
     "name": "stdout",
     "output_type": "stream",
     "text": [
      "[Model : 10, Epoch : 2/50] TrainLoss=4.7588 TrainAcc=4.69% ValAcc=3.90%\n",
      "-----------------------------\n"
     ]
    },
    {
     "name": "stderr",
     "output_type": "stream",
     "text": [
      "[Train] Model10 Epoch3: 100%|██████████| 94/94 [00:13<00:00,  7.09it/s]\n",
      "[Train-ACC] Model10 Epoch3: 100%|██████████| 94/94 [00:03<00:00, 25.13it/s]\n",
      "[Val-ACC] Model10 Epoch3: 100%|██████████| 46/46 [00:01<00:00, 25.78it/s]\n"
     ]
    },
    {
     "name": "stdout",
     "output_type": "stream",
     "text": [
      "[Model : 10, Epoch : 3/50] TrainLoss=4.5068 TrainAcc=7.34% ValAcc=5.70%\n",
      "-----------------------------\n"
     ]
    },
    {
     "name": "stderr",
     "output_type": "stream",
     "text": [
      "[Train] Model10 Epoch4: 100%|██████████| 94/94 [00:13<00:00,  7.13it/s]\n",
      "[Train-ACC] Model10 Epoch4: 100%|██████████| 94/94 [00:03<00:00, 25.08it/s]\n",
      "[Val-ACC] Model10 Epoch4: 100%|██████████| 46/46 [00:01<00:00, 25.39it/s]\n"
     ]
    },
    {
     "name": "stdout",
     "output_type": "stream",
     "text": [
      "[Model : 10, Epoch : 4/50] TrainLoss=4.2047 TrainAcc=8.22% ValAcc=6.32%\n",
      "-----------------------------\n"
     ]
    },
    {
     "name": "stderr",
     "output_type": "stream",
     "text": [
      "[Train] Model10 Epoch5: 100%|██████████| 94/94 [00:13<00:00,  7.08it/s]\n",
      "[Train-ACC] Model10 Epoch5: 100%|██████████| 94/94 [00:03<00:00, 25.36it/s]\n",
      "[Val-ACC] Model10 Epoch5: 100%|██████████| 46/46 [00:01<00:00, 25.56it/s]\n"
     ]
    },
    {
     "name": "stdout",
     "output_type": "stream",
     "text": [
      "[Model : 10, Epoch : 5/50] TrainLoss=3.9676 TrainAcc=9.11% ValAcc=7.15%\n",
      "-----------------------------\n"
     ]
    },
    {
     "name": "stderr",
     "output_type": "stream",
     "text": [
      "[Train] Model10 Epoch6: 100%|██████████| 94/94 [00:13<00:00,  7.08it/s]\n",
      "[Train-ACC] Model10 Epoch6: 100%|██████████| 94/94 [00:03<00:00, 25.33it/s]\n",
      "[Val-ACC] Model10 Epoch6: 100%|██████████| 46/46 [00:01<00:00, 25.79it/s]\n"
     ]
    },
    {
     "name": "stdout",
     "output_type": "stream",
     "text": [
      "[Model : 10, Epoch : 6/50] TrainLoss=3.7466 TrainAcc=12.60% ValAcc=9.98%\n",
      "-----------------------------\n"
     ]
    },
    {
     "name": "stderr",
     "output_type": "stream",
     "text": [
      "[Train] Model10 Epoch7: 100%|██████████| 94/94 [00:13<00:00,  7.02it/s]\n",
      "[Train-ACC] Model10 Epoch7: 100%|██████████| 94/94 [00:03<00:00, 24.90it/s]\n",
      "[Val-ACC] Model10 Epoch7: 100%|██████████| 46/46 [00:01<00:00, 25.35it/s]\n"
     ]
    },
    {
     "name": "stdout",
     "output_type": "stream",
     "text": [
      "[Model : 10, Epoch : 7/50] TrainLoss=3.5422 TrainAcc=15.27% ValAcc=8.77%\n",
      "-----------------------------\n"
     ]
    },
    {
     "name": "stderr",
     "output_type": "stream",
     "text": [
      "[Train] Model10 Epoch8: 100%|██████████| 94/94 [00:13<00:00,  7.07it/s]\n",
      "[Train-ACC] Model10 Epoch8: 100%|██████████| 94/94 [00:03<00:00, 25.16it/s]\n",
      "[Val-ACC] Model10 Epoch8: 100%|██████████| 46/46 [00:01<00:00, 25.06it/s]\n"
     ]
    },
    {
     "name": "stdout",
     "output_type": "stream",
     "text": [
      "[Model : 10, Epoch : 8/50] TrainLoss=3.2881 TrainAcc=18.12% ValAcc=12.08%\n",
      "-----------------------------\n"
     ]
    },
    {
     "name": "stderr",
     "output_type": "stream",
     "text": [
      "[Train] Model10 Epoch9: 100%|██████████| 94/94 [00:13<00:00,  7.10it/s]\n",
      "[Train-ACC] Model10 Epoch9: 100%|██████████| 94/94 [00:03<00:00, 25.30it/s]\n",
      "[Val-ACC] Model10 Epoch9: 100%|██████████| 46/46 [00:01<00:00, 25.52it/s]\n"
     ]
    },
    {
     "name": "stdout",
     "output_type": "stream",
     "text": [
      "[Model : 10, Epoch : 9/50] TrainLoss=3.0898 TrainAcc=25.28% ValAcc=15.81%\n",
      "-----------------------------\n"
     ]
    },
    {
     "name": "stderr",
     "output_type": "stream",
     "text": [
      "[Train] Model10 Epoch10: 100%|██████████| 94/94 [00:13<00:00,  7.05it/s]\n",
      "[Train-ACC] Model10 Epoch10: 100%|██████████| 94/94 [00:03<00:00, 25.20it/s]\n",
      "[Val-ACC] Model10 Epoch10: 100%|██████████| 46/46 [00:01<00:00, 25.67it/s]\n"
     ]
    },
    {
     "name": "stdout",
     "output_type": "stream",
     "text": [
      "[Model : 10, Epoch : 10/50] TrainLoss=2.8543 TrainAcc=32.63% ValAcc=17.74%\n",
      "-----------------------------\n"
     ]
    },
    {
     "name": "stderr",
     "output_type": "stream",
     "text": [
      "[Train] Model10 Epoch11: 100%|██████████| 94/94 [00:13<00:00,  7.07it/s]\n",
      "[Train-ACC] Model10 Epoch11: 100%|██████████| 94/94 [00:03<00:00, 24.86it/s]\n",
      "[Val-ACC] Model10 Epoch11: 100%|██████████| 46/46 [00:01<00:00, 24.78it/s]\n"
     ]
    },
    {
     "name": "stdout",
     "output_type": "stream",
     "text": [
      "[Model : 10, Epoch : 11/50] TrainLoss=2.6081 TrainAcc=29.95% ValAcc=16.91%\n",
      "-----------------------------\n"
     ]
    },
    {
     "name": "stderr",
     "output_type": "stream",
     "text": [
      "[Train] Model10 Epoch12: 100%|██████████| 94/94 [00:13<00:00,  7.14it/s]\n",
      "[Train-ACC] Model10 Epoch12: 100%|██████████| 94/94 [00:03<00:00, 25.52it/s]\n",
      "[Val-ACC] Model10 Epoch12: 100%|██████████| 46/46 [00:01<00:00, 25.85it/s]\n"
     ]
    },
    {
     "name": "stdout",
     "output_type": "stream",
     "text": [
      "[Model : 10, Epoch : 12/50] TrainLoss=2.3982 TrainAcc=29.20% ValAcc=15.60%\n",
      "-----------------------------\n"
     ]
    },
    {
     "name": "stderr",
     "output_type": "stream",
     "text": [
      "[Train] Model10 Epoch13: 100%|██████████| 94/94 [00:13<00:00,  7.07it/s]\n",
      "[Train-ACC] Model10 Epoch13: 100%|██████████| 94/94 [00:03<00:00, 25.37it/s]\n",
      "[Val-ACC] Model10 Epoch13: 100%|██████████| 46/46 [00:01<00:00, 25.72it/s]\n"
     ]
    },
    {
     "name": "stdout",
     "output_type": "stream",
     "text": [
      "[Model : 10, Epoch : 13/50] TrainLoss=2.1351 TrainAcc=42.08% ValAcc=20.09%\n",
      "-----------------------------\n"
     ]
    },
    {
     "name": "stderr",
     "output_type": "stream",
     "text": [
      "[Train] Model10 Epoch14: 100%|██████████| 94/94 [00:13<00:00,  7.05it/s]\n",
      "[Train-ACC] Model10 Epoch14: 100%|██████████| 94/94 [00:03<00:00, 24.68it/s]\n",
      "[Val-ACC] Model10 Epoch14: 100%|██████████| 46/46 [00:01<00:00, 25.61it/s]\n"
     ]
    },
    {
     "name": "stdout",
     "output_type": "stream",
     "text": [
      "[Model : 10, Epoch : 14/50] TrainLoss=1.8554 TrainAcc=47.11% ValAcc=20.68%\n",
      "-----------------------------\n"
     ]
    },
    {
     "name": "stderr",
     "output_type": "stream",
     "text": [
      "[Train] Model10 Epoch15: 100%|██████████| 94/94 [00:13<00:00,  7.09it/s]\n",
      "[Train-ACC] Model10 Epoch15: 100%|██████████| 94/94 [00:03<00:00, 25.40it/s]\n",
      "[Val-ACC] Model10 Epoch15: 100%|██████████| 46/46 [00:01<00:00, 25.10it/s]\n"
     ]
    },
    {
     "name": "stdout",
     "output_type": "stream",
     "text": [
      "[Model : 10, Epoch : 15/50] TrainLoss=1.5998 TrainAcc=49.07% ValAcc=20.95%\n",
      "-----------------------------\n"
     ]
    },
    {
     "name": "stderr",
     "output_type": "stream",
     "text": [
      "[Train] Model10 Epoch16: 100%|██████████| 94/94 [00:13<00:00,  7.12it/s]\n",
      "[Train-ACC] Model10 Epoch16: 100%|██████████| 94/94 [00:03<00:00, 25.39it/s]\n",
      "[Val-ACC] Model10 Epoch16: 100%|██████████| 46/46 [00:01<00:00, 25.36it/s]\n"
     ]
    },
    {
     "name": "stdout",
     "output_type": "stream",
     "text": [
      "[Model : 10, Epoch : 16/50] TrainLoss=1.2833 TrainAcc=60.58% ValAcc=20.43%\n",
      "-----------------------------\n"
     ]
    },
    {
     "name": "stderr",
     "output_type": "stream",
     "text": [
      "[Train] Model10 Epoch17: 100%|██████████| 94/94 [00:13<00:00,  7.07it/s]\n",
      "[Train-ACC] Model10 Epoch17: 100%|██████████| 94/94 [00:03<00:00, 25.47it/s]\n",
      "[Val-ACC] Model10 Epoch17: 100%|██████████| 46/46 [00:01<00:00, 25.56it/s]\n"
     ]
    },
    {
     "name": "stdout",
     "output_type": "stream",
     "text": [
      "[Model : 10, Epoch : 17/50] TrainLoss=0.9710 TrainAcc=77.21% ValAcc=24.23%\n",
      "-----------------------------\n"
     ]
    },
    {
     "name": "stderr",
     "output_type": "stream",
     "text": [
      "[Train] Model10 Epoch18: 100%|██████████| 94/94 [00:13<00:00,  7.10it/s]\n",
      "[Train-ACC] Model10 Epoch18: 100%|██████████| 94/94 [00:03<00:00, 24.61it/s]\n",
      "[Val-ACC] Model10 Epoch18: 100%|██████████| 46/46 [00:01<00:00, 25.29it/s]\n"
     ]
    },
    {
     "name": "stdout",
     "output_type": "stream",
     "text": [
      "[Model : 10, Epoch : 18/50] TrainLoss=0.6676 TrainAcc=85.10% ValAcc=25.03%\n",
      "-----------------------------\n"
     ]
    },
    {
     "name": "stderr",
     "output_type": "stream",
     "text": [
      "[Train] Model10 Epoch19: 100%|██████████| 94/94 [00:13<00:00,  7.01it/s]\n",
      "[Train-ACC] Model10 Epoch19: 100%|██████████| 94/94 [00:03<00:00, 24.45it/s]\n",
      "[Val-ACC] Model10 Epoch19: 100%|██████████| 46/46 [00:01<00:00, 24.85it/s]\n"
     ]
    },
    {
     "name": "stdout",
     "output_type": "stream",
     "text": [
      "[Model : 10, Epoch : 19/50] TrainLoss=0.4354 TrainAcc=86.90% ValAcc=22.78%\n",
      "-----------------------------\n"
     ]
    },
    {
     "name": "stderr",
     "output_type": "stream",
     "text": [
      "[Train] Model10 Epoch20: 100%|██████████| 94/94 [00:13<00:00,  7.02it/s]\n",
      "[Train-ACC] Model10 Epoch20: 100%|██████████| 94/94 [00:03<00:00, 23.79it/s]\n",
      "[Val-ACC] Model10 Epoch20: 100%|██████████| 46/46 [00:01<00:00, 23.78it/s]\n"
     ]
    },
    {
     "name": "stdout",
     "output_type": "stream",
     "text": [
      "[Model : 10, Epoch : 20/50] TrainLoss=0.2744 TrainAcc=94.78% ValAcc=23.47%\n",
      "-----------------------------\n"
     ]
    },
    {
     "name": "stderr",
     "output_type": "stream",
     "text": [
      "[Train] Model10 Epoch21: 100%|██████████| 94/94 [00:13<00:00,  7.04it/s]\n",
      "[Train-ACC] Model10 Epoch21: 100%|██████████| 94/94 [00:03<00:00, 25.26it/s]\n",
      "[Val-ACC] Model10 Epoch21: 100%|██████████| 46/46 [00:01<00:00, 25.60it/s]\n"
     ]
    },
    {
     "name": "stdout",
     "output_type": "stream",
     "text": [
      "[Model : 10, Epoch : 21/50] TrainLoss=0.1342 TrainAcc=98.62% ValAcc=24.37%\n",
      "-----------------------------\n"
     ]
    },
    {
     "name": "stderr",
     "output_type": "stream",
     "text": [
      "[Train] Model10 Epoch22: 100%|██████████| 94/94 [00:13<00:00,  7.12it/s]\n",
      "[Train-ACC] Model10 Epoch22: 100%|██████████| 94/94 [00:03<00:00, 25.40it/s]\n",
      "[Val-ACC] Model10 Epoch22: 100%|██████████| 46/46 [00:01<00:00, 25.35it/s]\n"
     ]
    },
    {
     "name": "stdout",
     "output_type": "stream",
     "text": [
      "[Model : 10, Epoch : 22/50] TrainLoss=0.0599 TrainAcc=99.92% ValAcc=25.41%\n",
      "-----------------------------\n"
     ]
    },
    {
     "name": "stderr",
     "output_type": "stream",
     "text": [
      "[Train] Model10 Epoch23: 100%|██████████| 94/94 [00:13<00:00,  7.11it/s]\n",
      "[Train-ACC] Model10 Epoch23: 100%|██████████| 94/94 [00:03<00:00, 25.93it/s]\n",
      "[Val-ACC] Model10 Epoch23: 100%|██████████| 46/46 [00:01<00:00, 25.92it/s]\n"
     ]
    },
    {
     "name": "stdout",
     "output_type": "stream",
     "text": [
      "[Model : 10, Epoch : 23/50] TrainLoss=0.0226 TrainAcc=99.93% ValAcc=29.20%\n",
      "-----------------------------\n"
     ]
    },
    {
     "name": "stderr",
     "output_type": "stream",
     "text": [
      "[Train] Model10 Epoch24: 100%|██████████| 94/94 [00:13<00:00,  7.04it/s]\n",
      "[Train-ACC] Model10 Epoch24: 100%|██████████| 94/94 [00:03<00:00, 24.89it/s]\n",
      "[Val-ACC] Model10 Epoch24: 100%|██████████| 46/46 [00:01<00:00, 25.07it/s]\n"
     ]
    },
    {
     "name": "stdout",
     "output_type": "stream",
     "text": [
      "[Model : 10, Epoch : 24/50] TrainLoss=0.0107 TrainAcc=99.98% ValAcc=30.48%\n",
      "-----------------------------\n"
     ]
    },
    {
     "name": "stderr",
     "output_type": "stream",
     "text": [
      "[Train] Model10 Epoch25: 100%|██████████| 94/94 [00:13<00:00,  7.05it/s]\n",
      "[Train-ACC] Model10 Epoch25: 100%|██████████| 94/94 [00:03<00:00, 24.77it/s]\n",
      "[Val-ACC] Model10 Epoch25: 100%|██████████| 46/46 [00:01<00:00, 24.52it/s]\n"
     ]
    },
    {
     "name": "stdout",
     "output_type": "stream",
     "text": [
      "[Model : 10, Epoch : 25/50] TrainLoss=0.0087 TrainAcc=100.00% ValAcc=30.65%\n",
      "-----------------------------\n"
     ]
    },
    {
     "name": "stderr",
     "output_type": "stream",
     "text": [
      "[Train] Model10 Epoch26: 100%|██████████| 94/94 [00:13<00:00,  7.12it/s]\n",
      "[Train-ACC] Model10 Epoch26: 100%|██████████| 94/94 [00:03<00:00, 24.73it/s]\n",
      "[Val-ACC] Model10 Epoch26: 100%|██████████| 46/46 [00:01<00:00, 25.34it/s]\n"
     ]
    },
    {
     "name": "stdout",
     "output_type": "stream",
     "text": [
      "[Model : 10, Epoch : 26/50] TrainLoss=0.0055 TrainAcc=100.00% ValAcc=31.27%\n",
      "-----------------------------\n"
     ]
    },
    {
     "name": "stderr",
     "output_type": "stream",
     "text": [
      "[Train] Model10 Epoch27: 100%|██████████| 94/94 [00:13<00:00,  7.09it/s]\n",
      "[Train-ACC] Model10 Epoch27: 100%|██████████| 94/94 [00:03<00:00, 25.44it/s]\n",
      "[Val-ACC] Model10 Epoch27: 100%|██████████| 46/46 [00:01<00:00, 25.53it/s]\n"
     ]
    },
    {
     "name": "stdout",
     "output_type": "stream",
     "text": [
      "[Model : 10, Epoch : 27/50] TrainLoss=0.0046 TrainAcc=100.00% ValAcc=30.58%\n",
      "-----------------------------\n"
     ]
    },
    {
     "name": "stderr",
     "output_type": "stream",
     "text": [
      "[Train] Model10 Epoch28: 100%|██████████| 94/94 [00:13<00:00,  7.06it/s]\n",
      "[Train-ACC] Model10 Epoch28: 100%|██████████| 94/94 [00:03<00:00, 25.33it/s]\n",
      "[Val-ACC] Model10 Epoch28: 100%|██████████| 46/46 [00:01<00:00, 25.44it/s]\n"
     ]
    },
    {
     "name": "stdout",
     "output_type": "stream",
     "text": [
      "[Model : 10, Epoch : 28/50] TrainLoss=0.0041 TrainAcc=100.00% ValAcc=30.96%\n",
      "-----------------------------\n"
     ]
    },
    {
     "name": "stderr",
     "output_type": "stream",
     "text": [
      "[Train] Model10 Epoch29: 100%|██████████| 94/94 [00:13<00:00,  7.11it/s]\n",
      "[Train-ACC] Model10 Epoch29: 100%|██████████| 94/94 [00:03<00:00, 25.30it/s]\n",
      "[Val-ACC] Model10 Epoch29: 100%|██████████| 46/46 [00:01<00:00, 25.08it/s]\n"
     ]
    },
    {
     "name": "stdout",
     "output_type": "stream",
     "text": [
      "[Model : 10, Epoch : 29/50] TrainLoss=0.0035 TrainAcc=100.00% ValAcc=30.41%\n",
      "-----------------------------\n"
     ]
    },
    {
     "name": "stderr",
     "output_type": "stream",
     "text": [
      "[Train] Model10 Epoch30: 100%|██████████| 94/94 [00:13<00:00,  7.02it/s]\n",
      "[Train-ACC] Model10 Epoch30: 100%|██████████| 94/94 [00:03<00:00, 25.13it/s]\n",
      "[Val-ACC] Model10 Epoch30: 100%|██████████| 46/46 [00:01<00:00, 25.24it/s]\n"
     ]
    },
    {
     "name": "stdout",
     "output_type": "stream",
     "text": [
      "[Model : 10, Epoch : 30/50] TrainLoss=0.0032 TrainAcc=100.00% ValAcc=29.96%\n",
      "-----------------------------\n"
     ]
    },
    {
     "name": "stderr",
     "output_type": "stream",
     "text": [
      "[Train] Model10 Epoch31: 100%|██████████| 94/94 [00:13<00:00,  7.06it/s]\n",
      "[Train-ACC] Model10 Epoch31: 100%|██████████| 94/94 [00:03<00:00, 25.87it/s]\n",
      "[Val-ACC] Model10 Epoch31: 100%|██████████| 46/46 [00:01<00:00, 26.02it/s]\n"
     ]
    },
    {
     "name": "stdout",
     "output_type": "stream",
     "text": [
      "[Model : 10, Epoch : 31/50] TrainLoss=0.0027 TrainAcc=100.00% ValAcc=30.69%\n",
      "-----------------------------\n"
     ]
    },
    {
     "name": "stderr",
     "output_type": "stream",
     "text": [
      "[Train] Model10 Epoch32: 100%|██████████| 94/94 [00:13<00:00,  7.12it/s]\n",
      "[Train-ACC] Model10 Epoch32: 100%|██████████| 94/94 [00:03<00:00, 25.65it/s]\n",
      "[Val-ACC] Model10 Epoch32: 100%|██████████| 46/46 [00:01<00:00, 26.04it/s]\n"
     ]
    },
    {
     "name": "stdout",
     "output_type": "stream",
     "text": [
      "[Model : 10, Epoch : 32/50] TrainLoss=0.0026 TrainAcc=100.00% ValAcc=29.82%\n",
      "-----------------------------\n"
     ]
    },
    {
     "name": "stderr",
     "output_type": "stream",
     "text": [
      "[Train] Model10 Epoch33: 100%|██████████| 94/94 [00:13<00:00,  7.16it/s]\n",
      "[Train-ACC] Model10 Epoch33: 100%|██████████| 94/94 [00:03<00:00, 26.03it/s]\n",
      "[Val-ACC] Model10 Epoch33: 100%|██████████| 46/46 [00:01<00:00, 26.17it/s]\n"
     ]
    },
    {
     "name": "stdout",
     "output_type": "stream",
     "text": [
      "[Model : 10, Epoch : 33/50] TrainLoss=1.8074 TrainAcc=21.30% ValAcc=11.60%\n",
      "-----------------------------\n"
     ]
    },
    {
     "name": "stderr",
     "output_type": "stream",
     "text": [
      "[Train] Model10 Epoch34: 100%|██████████| 94/94 [00:13<00:00,  7.12it/s]\n",
      "[Train-ACC] Model10 Epoch34: 100%|██████████| 94/94 [00:03<00:00, 25.70it/s]\n",
      "[Val-ACC] Model10 Epoch34: 100%|██████████| 46/46 [00:01<00:00, 25.96it/s]\n"
     ]
    },
    {
     "name": "stdout",
     "output_type": "stream",
     "text": [
      "[Model : 10, Epoch : 34/50] TrainLoss=1.7926 TrainAcc=64.41% ValAcc=20.61%\n",
      "-----------------------------\n"
     ]
    },
    {
     "name": "stderr",
     "output_type": "stream",
     "text": [
      "[Train] Model10 Epoch35: 100%|██████████| 94/94 [00:13<00:00,  7.06it/s]\n",
      "[Train-ACC] Model10 Epoch35: 100%|██████████| 94/94 [00:03<00:00, 24.89it/s]\n",
      "[Val-ACC] Model10 Epoch35: 100%|██████████| 46/46 [00:01<00:00, 25.33it/s]\n"
     ]
    },
    {
     "name": "stdout",
     "output_type": "stream",
     "text": [
      "[Model : 10, Epoch : 35/50] TrainLoss=0.8908 TrainAcc=79.18% ValAcc=19.50%\n",
      "-----------------------------\n"
     ]
    },
    {
     "name": "stderr",
     "output_type": "stream",
     "text": [
      "[Train] Model10 Epoch36: 100%|██████████| 94/94 [00:13<00:00,  7.04it/s]\n",
      "[Train-ACC] Model10 Epoch36: 100%|██████████| 94/94 [00:03<00:00, 25.50it/s]\n",
      "[Val-ACC] Model10 Epoch36: 100%|██████████| 46/46 [00:01<00:00, 25.56it/s]\n"
     ]
    },
    {
     "name": "stdout",
     "output_type": "stream",
     "text": [
      "[Model : 10, Epoch : 36/50] TrainLoss=0.3832 TrainAcc=94.21% ValAcc=21.57%\n",
      "-----------------------------\n"
     ]
    },
    {
     "name": "stderr",
     "output_type": "stream",
     "text": [
      "[Train] Model10 Epoch37: 100%|██████████| 94/94 [00:13<00:00,  7.14it/s]\n",
      "[Train-ACC] Model10 Epoch37: 100%|██████████| 94/94 [00:03<00:00, 25.89it/s]\n",
      "[Val-ACC] Model10 Epoch37: 100%|██████████| 46/46 [00:01<00:00, 26.08it/s]\n"
     ]
    },
    {
     "name": "stdout",
     "output_type": "stream",
     "text": [
      "[Model : 10, Epoch : 37/50] TrainLoss=0.1479 TrainAcc=99.60% ValAcc=25.61%\n",
      "-----------------------------\n"
     ]
    },
    {
     "name": "stderr",
     "output_type": "stream",
     "text": [
      "[Train] Model10 Epoch38: 100%|██████████| 94/94 [00:13<00:00,  7.14it/s]\n",
      "[Train-ACC] Model10 Epoch38: 100%|██████████| 94/94 [00:03<00:00, 26.07it/s]\n",
      "[Val-ACC] Model10 Epoch38: 100%|██████████| 46/46 [00:01<00:00, 26.31it/s]\n"
     ]
    },
    {
     "name": "stdout",
     "output_type": "stream",
     "text": [
      "[Model : 10, Epoch : 38/50] TrainLoss=0.0491 TrainAcc=99.97% ValAcc=27.24%\n",
      "-----------------------------\n"
     ]
    },
    {
     "name": "stderr",
     "output_type": "stream",
     "text": [
      "[Train] Model10 Epoch39: 100%|██████████| 94/94 [00:13<00:00,  7.16it/s]\n",
      "[Train-ACC] Model10 Epoch39: 100%|██████████| 94/94 [00:03<00:00, 26.02it/s]\n",
      "[Val-ACC] Model10 Epoch39: 100%|██████████| 46/46 [00:01<00:00, 26.11it/s]\n"
     ]
    },
    {
     "name": "stdout",
     "output_type": "stream",
     "text": [
      "[Model : 10, Epoch : 39/50] TrainLoss=0.0176 TrainAcc=100.00% ValAcc=27.68%\n",
      "-----------------------------\n"
     ]
    },
    {
     "name": "stderr",
     "output_type": "stream",
     "text": [
      "[Train] Model10 Epoch40: 100%|██████████| 94/94 [00:13<00:00,  7.13it/s]\n",
      "[Train-ACC] Model10 Epoch40: 100%|██████████| 94/94 [00:03<00:00, 26.39it/s]\n",
      "[Val-ACC] Model10 Epoch40: 100%|██████████| 46/46 [00:01<00:00, 26.48it/s]\n"
     ]
    },
    {
     "name": "stdout",
     "output_type": "stream",
     "text": [
      "[Model : 10, Epoch : 40/50] TrainLoss=0.0078 TrainAcc=100.00% ValAcc=28.20%\n",
      "-----------------------------\n"
     ]
    },
    {
     "name": "stderr",
     "output_type": "stream",
     "text": [
      "[Train] Model10 Epoch41: 100%|██████████| 94/94 [00:13<00:00,  7.12it/s]\n",
      "[Train-ACC] Model10 Epoch41: 100%|██████████| 94/94 [00:03<00:00, 26.04it/s]\n",
      "[Val-ACC] Model10 Epoch41: 100%|██████████| 46/46 [00:01<00:00, 25.95it/s]\n"
     ]
    },
    {
     "name": "stdout",
     "output_type": "stream",
     "text": [
      "[Model : 10, Epoch : 41/50] TrainLoss=0.0053 TrainAcc=100.00% ValAcc=29.03%\n",
      "-----------------------------\n"
     ]
    },
    {
     "name": "stderr",
     "output_type": "stream",
     "text": [
      "[Train] Model10 Epoch42: 100%|██████████| 94/94 [00:13<00:00,  7.13it/s]\n",
      "[Train-ACC] Model10 Epoch42: 100%|██████████| 94/94 [00:03<00:00, 25.50it/s]\n",
      "[Val-ACC] Model10 Epoch42: 100%|██████████| 46/46 [00:01<00:00, 25.85it/s]\n"
     ]
    },
    {
     "name": "stdout",
     "output_type": "stream",
     "text": [
      "[Model : 10, Epoch : 42/50] TrainLoss=0.0042 TrainAcc=100.00% ValAcc=29.17%\n",
      "-----------------------------\n"
     ]
    },
    {
     "name": "stderr",
     "output_type": "stream",
     "text": [
      "[Train] Model10 Epoch43: 100%|██████████| 94/94 [00:13<00:00,  7.15it/s]\n",
      "[Train-ACC] Model10 Epoch43: 100%|██████████| 94/94 [00:03<00:00, 25.87it/s]\n",
      "[Val-ACC] Model10 Epoch43: 100%|██████████| 46/46 [00:01<00:00, 25.99it/s]\n"
     ]
    },
    {
     "name": "stdout",
     "output_type": "stream",
     "text": [
      "[Model : 10, Epoch : 43/50] TrainLoss=0.0036 TrainAcc=100.00% ValAcc=28.68%\n",
      "-----------------------------\n"
     ]
    },
    {
     "name": "stderr",
     "output_type": "stream",
     "text": [
      "[Train] Model10 Epoch44: 100%|██████████| 94/94 [00:13<00:00,  7.11it/s]\n",
      "[Train-ACC] Model10 Epoch44: 100%|██████████| 94/94 [00:03<00:00, 26.05it/s]\n",
      "[Val-ACC] Model10 Epoch44: 100%|██████████| 46/46 [00:01<00:00, 26.17it/s]\n"
     ]
    },
    {
     "name": "stdout",
     "output_type": "stream",
     "text": [
      "[Model : 10, Epoch : 44/50] TrainLoss=0.0032 TrainAcc=100.00% ValAcc=29.34%\n",
      "-----------------------------\n"
     ]
    },
    {
     "name": "stderr",
     "output_type": "stream",
     "text": [
      "[Train] Model10 Epoch45: 100%|██████████| 94/94 [00:13<00:00,  7.15it/s]\n",
      "[Train-ACC] Model10 Epoch45: 100%|██████████| 94/94 [00:03<00:00, 26.03it/s]\n",
      "[Val-ACC] Model10 Epoch45: 100%|██████████| 46/46 [00:01<00:00, 26.16it/s]\n"
     ]
    },
    {
     "name": "stdout",
     "output_type": "stream",
     "text": [
      "[Model : 10, Epoch : 45/50] TrainLoss=0.0030 TrainAcc=100.00% ValAcc=28.44%\n",
      "-----------------------------\n"
     ]
    },
    {
     "name": "stderr",
     "output_type": "stream",
     "text": [
      "[Train] Model10 Epoch46: 100%|██████████| 94/94 [00:13<00:00,  7.18it/s]\n",
      "[Train-ACC] Model10 Epoch46: 100%|██████████| 94/94 [00:03<00:00, 25.88it/s]\n",
      "[Val-ACC] Model10 Epoch46: 100%|██████████| 46/46 [00:01<00:00, 25.80it/s]\n"
     ]
    },
    {
     "name": "stdout",
     "output_type": "stream",
     "text": [
      "[Model : 10, Epoch : 46/50] TrainLoss=0.0027 TrainAcc=100.00% ValAcc=28.51%\n",
      "-----------------------------\n"
     ]
    },
    {
     "name": "stderr",
     "output_type": "stream",
     "text": [
      "[Train] Model10 Epoch47: 100%|██████████| 94/94 [00:13<00:00,  7.12it/s]\n",
      "[Train-ACC] Model10 Epoch47: 100%|██████████| 94/94 [00:03<00:00, 26.05it/s]\n",
      "[Val-ACC] Model10 Epoch47: 100%|██████████| 46/46 [00:01<00:00, 26.22it/s]\n"
     ]
    },
    {
     "name": "stdout",
     "output_type": "stream",
     "text": [
      "[Model : 10, Epoch : 47/50] TrainLoss=0.0025 TrainAcc=100.00% ValAcc=27.86%\n",
      "-----------------------------\n"
     ]
    },
    {
     "name": "stderr",
     "output_type": "stream",
     "text": [
      "[Train] Model10 Epoch48: 100%|██████████| 94/94 [00:13<00:00,  7.15it/s]\n",
      "[Train-ACC] Model10 Epoch48: 100%|██████████| 94/94 [00:03<00:00, 25.87it/s]\n",
      "[Val-ACC] Model10 Epoch48: 100%|██████████| 46/46 [00:01<00:00, 26.06it/s]\n"
     ]
    },
    {
     "name": "stdout",
     "output_type": "stream",
     "text": [
      "[Model : 10, Epoch : 48/50] TrainLoss=0.0022 TrainAcc=100.00% ValAcc=28.65%\n",
      "-----------------------------\n"
     ]
    },
    {
     "name": "stderr",
     "output_type": "stream",
     "text": [
      "[Train] Model10 Epoch49: 100%|██████████| 94/94 [00:13<00:00,  7.11it/s]\n",
      "[Train-ACC] Model10 Epoch49: 100%|██████████| 94/94 [00:03<00:00, 25.62it/s]\n",
      "[Val-ACC] Model10 Epoch49: 100%|██████████| 46/46 [00:01<00:00, 25.21it/s]\n"
     ]
    },
    {
     "name": "stdout",
     "output_type": "stream",
     "text": [
      "[Model : 10, Epoch : 49/50] TrainLoss=0.0021 TrainAcc=100.00% ValAcc=27.99%\n",
      "-----------------------------\n"
     ]
    },
    {
     "name": "stderr",
     "output_type": "stream",
     "text": [
      "[Train] Model10 Epoch50: 100%|██████████| 94/94 [00:13<00:00,  7.09it/s]\n",
      "[Train-ACC] Model10 Epoch50: 100%|██████████| 94/94 [00:03<00:00, 26.11it/s]\n",
      "[Val-ACC] Model10 Epoch50: 100%|██████████| 46/46 [00:01<00:00, 26.19it/s]\n"
     ]
    },
    {
     "name": "stdout",
     "output_type": "stream",
     "text": [
      "[Model : 10, Epoch : 50/50] TrainLoss=0.0021 TrainAcc=100.00% ValAcc=27.75%\n",
      "-----------------------------\n"
     ]
    },
    {
     "name": "stderr",
     "output_type": "stream",
     "text": [
      "[Test-Single] Model10 (no label?): 100%|██████████| 12/12 [00:02<00:00,  5.80it/s]\n"
     ]
    },
    {
     "name": "stdout",
     "output_type": "stream",
     "text": [
      "./teachers/CUB/ResNet18_50\n"
     ]
    },
    {
     "name": "stderr",
     "output_type": "stream",
     "text": [
      "Ensemble Inference(val): 100%|██████████| 46/46 [00:12<00:00,  3.83it/s]\n"
     ]
    },
    {
     "name": "stdout",
     "output_type": "stream",
     "text": [
      "\n",
      "[Ensemble] Validation Accuracy = 36.76%\n"
     ]
    },
    {
     "name": "stderr",
     "output_type": "stream",
     "text": [
      "Ensemble Inference(no-label): 100%|██████████| 12/12 [00:12<00:00,  1.08s/it]"
     ]
    },
    {
     "name": "stdout",
     "output_type": "stream",
     "text": [
      "[Ensemble Inference] Test predictions saved to ./teachers/CUB/ResNet18_50/ensemble_predictions.npy (shape=(2897,))\n",
      "\n",
      "[Ensemble] Test predictions saved to ./teachers/CUB/ResNet18_50/ensemble_predictions.npy\n"
     ]
    },
    {
     "name": "stderr",
     "output_type": "stream",
     "text": [
      "\n"
     ]
    }
   ],
   "source": [
    "import time\n",
    "import os\n",
    "os.environ[\"MKL_NUM_THREADS\"] = \"4\" \n",
    "os.environ[\"NUMEXPR_NUM_THREADS\"] = \"1\"  \n",
    "os.environ[\"OMP_NUM_THREADS\"] = \"1\" \n",
    "import shutil\n",
    "import numpy as np\n",
    "import random\n",
    "import matplotlib.pyplot as plt\n",
    "from tqdm import tqdm\n",
    "import torch\n",
    "import torch.nn as nn\n",
    "import torch.nn.functional as F\n",
    "\n",
    "from copy import deepcopy\n",
    "from datetime import datetime\n",
    "\n",
    "import logging\n",
    "import argparse\n",
    "\n",
    "criterion = nn.CrossEntropyLoss()\n",
    "\n",
    "def inference_no_label_ensemble(model_list, test_loader, save_path=\"./Test_ensemble_results.npy\"):\n",
    "\n",
    "    for m in model_list:\n",
    "        m.eval()\n",
    "\n",
    "    all_preds = []\n",
    "    with torch.inference_mode():\n",
    "        for images in tqdm(test_loader, desc=\"Ensemble Inference(no-label)\"):\n",
    "            images = images.to(device)\n",
    "            if images.dim() == 3:\n",
    "                images = images.unsqueeze(1)\n",
    "            if images.shape[1] == 1:\n",
    "                images = images.repeat(1, 3, 1, 1)\n",
    "\n",
    "            prob_list = []\n",
    "            for m in model_list:\n",
    "                outputs = m(images)\n",
    "                probs = F.softmax(outputs, dim=1)\n",
    "                prob_list.append(probs)\n",
    "\n",
    "            avg_prob = torch.mean(torch.stack(prob_list, dim=0), dim=0) \n",
    "            _, preds = torch.max(avg_prob, 1)\n",
    "            all_preds.append(preds.cpu())\n",
    "\n",
    "    all_preds = torch.cat(all_preds, dim=0).numpy()\n",
    "    np.save(save_path, all_preds)\n",
    "    print(f\"[Ensemble Inference] Test predictions saved to {save_path} (shape={all_preds.shape})\")\n",
    "    \n",
    "def ensemble_inference_val(model_list, val_loader, device):\n",
    "\n",
    "    for m in model_list:\n",
    "        m.eval()\n",
    "\n",
    "    running_corrects = 0\n",
    "    total = 0\n",
    "\n",
    "    with torch.inference_mode():\n",
    "        for images, labels in tqdm(val_loader, desc=\"Ensemble Inference(val)\"):\n",
    "            images, labels = images.to(device), labels.to(device)\n",
    "            if images.dim() == 3:\n",
    "                images = images.unsqueeze(1) \n",
    "            if images.shape[1] == 1:\n",
    "                images = images.repeat(1, 3, 1, 1) \n",
    "            prob_list = []\n",
    "            for m in model_list:\n",
    "                outputs = m(images)           \n",
    "                probs = F.softmax(outputs, dim=1)\n",
    "                prob_list.append(probs)\n",
    "\n",
    "            avg_prob = torch.mean(torch.stack(prob_list, dim=0), dim=0) \n",
    "            _, preds = torch.max(avg_prob, 1)\n",
    "            running_corrects += torch.sum(preds == labels.data)\n",
    "            total += labels.size(0)\n",
    "\n",
    "    val_acc = (running_corrects.double() / total).item() if total > 0 else 0.0\n",
    "    return val_acc\n",
    "\n",
    "\n",
    "class Reg_ho_ens(object):\n",
    "    def __init__(self, args, LOG, **kwargs):\n",
    "        self.args = args\n",
    "        self.LOG = LOG\n",
    "        self.measures_name = ['CrossEntropy', 'acc']\n",
    "        \n",
    "        for key, value in args.__dict__.items():\n",
    "            setattr(self, key, value)\n",
    "        for key, value in kwargs.items():\n",
    "            setattr(self, key, value)\n",
    "        \n",
    "        self.train_loader = None\n",
    "        self.valid_loader = None\n",
    "        self.test_loader = None\n",
    "        self.model_list = []\n",
    "        self.optimizer_list = []\n",
    "        self.scheduler_list = []\n",
    "        \n",
    "        self.best_state_dict_total = {}\n",
    "\n",
    "    def _fix_seed(self):\n",
    "        random.seed(self.seed)\n",
    "        np.random.seed(self.seed)\n",
    "        torch.manual_seed(self.seed)\n",
    "        torch.cuda.manual_seed(self.seed)\n",
    "        torch.backends.cudnn.deterministic = True\n",
    "\n",
    "    def _create_model(self, version=18):\n",
    "        \n",
    "        if version == 18:\n",
    "            model = torchvision.models.resnet18(pretrained=False).to(device)\n",
    "            model.fc = nn.Sequential(nn.Linear(512, 200)).to(device)\n",
    "            model = model.to(device)\n",
    "        else:\n",
    "            print(\"You can only use ResNet-18 in this code.\")\n",
    "            model = None\n",
    "        return model\n",
    "\n",
    "    def _make_loaders(self):\n",
    "        \"\"\"\n",
    "        train_loader: cub_train_loader (data, label)\n",
    "        valid_loader: cub_val_loader   (data, label)\n",
    "        test_loader : test_dataset     (data only, no label)\n",
    "        \"\"\"\n",
    "        self.train_loader = cub_train_loader\n",
    "        self.valid_loader = cub_val_loader\n",
    "        self.test_loader  = test_loader\n",
    "\n",
    "    def _define_model_and_optimizer(self, optim='adam'):\n",
    "        self.model_list = [self._create_model(version=18) for _ in range(self.n_ens)]\n",
    "        if optim == 'adam':\n",
    "            self.optimizer_list = [\n",
    "                torch.optim.Adam(model.parameters(), lr=self.lr, weight_decay=self.weight_decay)\n",
    "                for model in self.model_list\n",
    "            ]\n",
    "        else:\n",
    "            self.optimizer_list = [\n",
    "                torch.optim.SGD(model.parameters(), lr=self.lr, momentum=0.9, weight_decay=self.weight_decay)\n",
    "                for model in self.model_list\n",
    "            ]\n",
    "        self.scheduler_list = [\n",
    "            torch.optim.lr_scheduler.MultiStepLR(optimizer, milestones=self.lr_schedule, gamma=0.1)\n",
    "            for optimizer in self.optimizer_list\n",
    "        ]\n",
    "\n",
    "    def _train_one_epoch(self, model, optimizer, epoch_idx, model_idx):\n",
    "\n",
    "        model.train()\n",
    "        running_loss = 0.0\n",
    "        pbar = tqdm(self.train_loader, desc=f\"[Train] Model{model_idx + 1} Epoch{epoch_idx + 1}\")\n",
    "        for batch_data in pbar:\n",
    "            inputs, targets = batch_data\n",
    "            inputs, targets = inputs.to(device), targets.to(device)\n",
    "\n",
    "            if inputs.dim() == 3:\n",
    "                inputs = inputs.unsqueeze(1)   \n",
    "            if inputs.shape[1] == 1:\n",
    "                inputs = inputs.repeat(1,3,1,1)\n",
    "            \n",
    "            outputs = model(inputs)\n",
    "            loss = criterion(outputs, targets)\n",
    "            optimizer.zero_grad()\n",
    "            loss.backward()\n",
    "            optimizer.step()\n",
    "            running_loss += loss.item()\n",
    "\n",
    "        epoch_loss = running_loss / len(self.train_loader)\n",
    "        return epoch_loss\n",
    "\n",
    "    def _eval_accuracy(self, model, loader, desc=\"\"):\n",
    "\n",
    "        model.eval()\n",
    "        running_corrects = 0\n",
    "        total = 0\n",
    "        with torch.no_grad():\n",
    "            pbar = tqdm(loader, desc=desc)\n",
    "            for batch_data in pbar:\n",
    "                if len(batch_data) == 2:\n",
    "                    data, target = batch_data\n",
    "                    data, target = data.to(device), target.to(device)\n",
    "                    if data.dim() == 3:\n",
    "                        data = data.unsqueeze(1) \n",
    "                    if data.shape[1] == 1:\n",
    "                        data = data.repeat(1,3,1,1)\n",
    "                    \n",
    "                    outputs = model(data)\n",
    "                    _, preds = torch.max(outputs, 1)\n",
    "                    running_corrects += torch.sum(preds == target.data)\n",
    "                    total += target.size(0)\n",
    "                else:\n",
    "\n",
    "                    pass\n",
    "        if total == 0:\n",
    "            return 0.0\n",
    "        acc = (running_corrects.double() / total).item()\n",
    "        return acc\n",
    "    \n",
    "    def _train_ens(self):\n",
    "\n",
    "        self.train_losses = {}\n",
    "        self.val_accs = {}\n",
    "        self.test_single_acc = {}\n",
    "\n",
    "        for num, (model, optimizer, scheduler) in enumerate(zip(self.model_list, self.optimizer_list, self.scheduler_list)):\n",
    "            print(f\"====== Starting training for Model {num + 1} / n_ens={self.n_ens} ======\")\n",
    "            train_loss_list = []\n",
    "            val_acc_list = []\n",
    "\n",
    "            for epoch in range(self.epochs):\n",
    "                epoch_loss = self._train_one_epoch(model, optimizer, epoch, num)\n",
    "\n",
    "                # train acc\n",
    "                train_acc = self._eval_accuracy(model, self.train_loader, desc=f\"[Train-ACC] Model{num + 1} Epoch{epoch + 1}\")\n",
    "                # val acc\n",
    "                val_acc   = self._eval_accuracy(model, self.valid_loader, desc=f\"[Val-ACC] Model{num + 1} Epoch{epoch + 1}\")\n",
    "                \n",
    "                train_loss_list.append(epoch_loss)\n",
    "                val_acc_list.append(val_acc)\n",
    "\n",
    "                print(f\"[Model : {num + 1}, Epoch : {epoch+1}/{self.epochs}] TrainLoss={epoch_loss:.4f} TrainAcc={train_acc*100:.2f}% ValAcc={val_acc*100:.2f}%\")\n",
    "                print('-----------------------------')\n",
    "                \n",
    "                scheduler.step()\n",
    "\n",
    "            single_test_acc = self._eval_accuracy(model, self.test_loader)\n",
    "\n",
    "            self.train_losses[num] = train_loss_list\n",
    "            self.val_accs[num] = val_acc_list\n",
    "            self.test_single_acc[num] = single_test_acc\n",
    "\n",
    "    def plot_curve(self, save_dir):\n",
    "        \"\"\"\n",
    "        여기서는 train_losses와 val_accs를 각각 그려볼 수 있음.\n",
    "        \"\"\"\n",
    "        # Train Loss curve\n",
    "        title = 'loss curve of train'\n",
    "        dpi = 80\n",
    "        width, height = 1200, 800\n",
    "        figsize = width / float(dpi), height / float(dpi)\n",
    "\n",
    "        fig = plt.figure(figsize=figsize)\n",
    "        x_axis = np.array([i for i in range(self.epochs)])\n",
    "        plt.xlim(0, self.epochs)\n",
    "\n",
    "        if len(self.train_losses) > 0:\n",
    "            y_max = max([max(self.train_losses[k]) for k in self.train_losses])\n",
    "            plt.ylim(0, y_max*1.1)\n",
    "        plt.grid()\n",
    "        plt.title(title, fontsize=20)\n",
    "        plt.xlabel('Epoch', fontsize=16)\n",
    "        plt.ylabel('Train Loss', fontsize=16)\n",
    "\n",
    "        for e, losses in self.train_losses.items():\n",
    "            plt.plot(x_axis, losses, linestyle='-', label=f'Model-{e}', lw=2)\n",
    "        fig.savefig(os.path.join(save_dir, \"train_losses_plot.png\"), dpi=dpi, bbox_inches='tight')\n",
    "        plt.close(fig)\n",
    "\n",
    "        # Val ACC curve\n",
    "        title = 'Accuracy curve of validation'\n",
    "        fig = plt.figure(figsize=figsize)\n",
    "        x_axis = np.array([i for i in range(self.epochs)])\n",
    "        plt.xlim(0, self.epochs)\n",
    "        if len(self.val_accs) > 0:\n",
    "            y_max = max([max(self.val_accs[k]) for k in self.val_accs])\n",
    "            plt.ylim(0, y_max*1.1)\n",
    "        plt.grid()\n",
    "        plt.title(title, fontsize=20)\n",
    "        plt.xlabel('Epoch', fontsize=16)\n",
    "        plt.ylabel('Val ACC', fontsize=16)\n",
    "\n",
    "        for e, accs in self.val_accs.items():\n",
    "            plt.plot(x_axis, accs, linestyle='-', label=f'Model-{e}-valACC', lw=2)\n",
    "        fig.savefig(os.path.join(save_dir, \"val_acc_plot.png\"), dpi=dpi, bbox_inches='tight')\n",
    "        plt.close(fig)\n",
    "\n",
    "    def _save_checkpoint(self, state, name):\n",
    "        filename = 'checkpoint_{}.ckpt'.format(name)\n",
    "        checkpoint_path = os.path.join(self.save_dir, filename)\n",
    "        torch.save(state, checkpoint_path)\n",
    "\n",
    "\n",
    "def main(args):\n",
    "    main_category = 'teachers_best'\n",
    "    code_specified_dir = os.path.join(args.save_dir, main_category, args.dataset)\n",
    "    save_dir = os.path.join(code_specified_dir, '_'.join([args.arch]+ [str(x) for x in args.h_vec]))\n",
    "    args.save_dir = save_dir\n",
    "    shutil.rmtree(save_dir, ignore_errors=True)\n",
    "    os.makedirs(save_dir, exist_ok=True)\n",
    "\n",
    "    LOG = logging.getLogger('main')\n",
    "    LOG.setLevel(logging.INFO)\n",
    "    log_file = os.path.join(args.save_dir, 'log.txt')\n",
    "    file_handler = logging.FileHandler(log_file)\n",
    "    file_handler.setLevel(logging.INFO)\n",
    "    stream_handler = logging.StreamHandler()\n",
    "    stream_handler.setLevel(logging.WARNING)\n",
    "    LOG.addHandler(stream_handler)\n",
    "    LOG.addHandler(file_handler)\n",
    "\n",
    "    if torch.cuda.is_available():\n",
    "        torch.cuda.set_device(args.gpu_number)\n",
    "\n",
    "    random.seed(args.seed)\n",
    "    np.random.seed(args.seed)\n",
    "    torch.manual_seed(args.seed)\n",
    "    torch.cuda.manual_seed(args.seed)\n",
    "    torch.backends.cudnn.deterministic = True\n",
    "\n",
    "    reg = Reg_ho_ens(args, LOG)\n",
    "\n",
    "    reg.seed = args.data_seed\n",
    "    reg._fix_seed()\n",
    "    reg._make_loaders()\n",
    "    reg._define_model_and_optimizer(optim=args.sgd_methods)\n",
    "    reg._train_ens()\n",
    "    reg.plot_curve(save_dir)\n",
    "\n",
    "    LOG.info(\"Done training.\")\n",
    "    print(save_dir)\n",
    "\n",
    "\n",
    "    for idx, model in enumerate(reg.model_list):\n",
    "        best_ckpt_path = os.path.join(save_dir, f\"checkpoint_{idx}_best_acc.ckpt\")\n",
    "        if os.path.exists(best_ckpt_path):\n",
    "            best_ckpt = torch.load(best_ckpt_path)\n",
    "            model.load_state_dict(best_ckpt['state_dict'])\n",
    "            print(f\"Loaded best_acc checkpoint for model {idx} from {best_ckpt_path}\")\n",
    "        else:\n",
    "            print(f\"[Warning] Best checkpoint not found for model {idx}, using last epoch param.\")\n",
    "            \n",
    "    # ----- 앙상블 Validation Accuracy 계산 -----\n",
    "    val_acc = ensemble_inference_val(reg.model_list, reg.valid_loader, device)\n",
    "    print(f\"\\n[Ensemble] Validation Accuracy = {val_acc*100:.2f}%\")\n",
    "\n",
    "    ensemble_output_path = os.path.join(save_dir, \"ensemble_predictions_bestAcc.npy\")\n",
    "    inference_no_label_ensemble(reg.model_list, reg.test_loader, save_path=ensemble_output_path)\n",
    "    print(f\"Best checkpoint ensemble inference saved to {ensemble_output_path}\")\n",
    "\n",
    "\n",
    "if __name__ == '__main__':\n",
    "    \n",
    "    def create_parser():\n",
    "        parser = argparse.ArgumentParser(description='KD : teacher ensembles')\n",
    "        parser.add_argument('--explanation', default='', type=str)\n",
    "        parser.add_argument('--save_dir', default='.', type=str)\n",
    "        parser.add_argument('--data_dir', default='.', type=str)\n",
    "        parser.add_argument('--seed', default=1, type=int)\n",
    "        parser.add_argument('--data_seed', default=1, type=int)\n",
    "        parser.add_argument('--gpu_number', default=0, type=int)\n",
    "        parser.add_argument('--workers', default=0, type=int)\n",
    "        parser.add_argument('--batch_size', default=100, type=int)\n",
    "        parser.add_argument('--arch', default='ResNet18', type=str)\n",
    "        parser.add_argument('--activation', default='ReLU', type=str)\n",
    "        parser.add_argument('--sgd_methods', default='adam', type=str)\n",
    "        parser.add_argument('--n_ens', default=10, type=int)\n",
    "        parser.add_argument('--h_vec', nargs='*', type=int, default=[50])\n",
    "        parser.add_argument('--dataset', default='CUB', type=str)\n",
    "        parser.add_argument('--lr', default=1e-3, type=float)\n",
    "        parser.add_argument('--lr_schedule', nargs='*', type=int, default=[600])\n",
    "        parser.add_argument('--weight_decay', default=1e-4, type=float)\n",
    "        parser.add_argument('--epochs', default=50, type=int)\n",
    "        parser.add_argument('--evaluation_epochs', default=1, type=int)\n",
    "        parser.add_argument('--ratio_valid', default=0.0, type=float)\n",
    "        parser.add_argument('--print_freq', default=100, type=int)\n",
    "        return parser\n",
    "\n",
    "    for dataset in ['CUB']:\n",
    "        args = create_parser().parse_args([])\n",
    "        args.dataset = dataset\n",
    "        args.lr = 1e-3\n",
    "        args.epochs = 50\n",
    "        args.n_ens = 10\n",
    "        main(args)"
   ]
  },
  {
   "cell_type": "markdown",
   "metadata": {},
   "source": [
    "## ResNet 34 Ensemble"
   ]
  },
  {
   "cell_type": "code",
   "execution_count": null,
   "metadata": {},
   "outputs": [],
   "source": [
    "import time\n",
    "import os\n",
    "os.environ[\"MKL_NUM_THREADS\"] = \"4\" \n",
    "os.environ[\"NUMEXPR_NUM_THREADS\"] = \"1\"  \n",
    "os.environ[\"OMP_NUM_THREADS\"] = \"1\" \n",
    "import shutil\n",
    "import numpy as np\n",
    "import random\n",
    "import matplotlib.pyplot as plt\n",
    "from tqdm import tqdm\n",
    "import torch\n",
    "import torch.nn as nn\n",
    "import torch.nn.functional as F\n",
    "\n",
    "from copy import deepcopy\n",
    "from datetime import datetime\n",
    "\n",
    "import logging\n",
    "import argparse\n",
    "\n",
    "criterion = nn.CrossEntropyLoss()\n",
    "\n",
    "def inference_no_label_ensemble(model_list, test_loader, save_path=\"./Test_ensemble_results.npy\"):\n",
    "\n",
    "    for m in model_list:\n",
    "        m.eval()\n",
    "\n",
    "    all_preds = []\n",
    "    with torch.inference_mode():\n",
    "        for images in tqdm(test_loader, desc=\"Ensemble Inference(no-label)\"):\n",
    "            images = images.to(device)\n",
    "            if images.dim() == 3:\n",
    "                images = images.unsqueeze(1)\n",
    "            if images.shape[1] == 1:\n",
    "                images = images.repeat(1, 3, 1, 1)\n",
    "\n",
    "            prob_list = []\n",
    "            for m in model_list:\n",
    "                outputs = m(images)\n",
    "                probs = F.softmax(outputs, dim=1)\n",
    "                prob_list.append(probs)\n",
    "\n",
    "            avg_prob = torch.mean(torch.stack(prob_list, dim=0), dim=0) \n",
    "            _, preds = torch.max(avg_prob, 1)\n",
    "            all_preds.append(preds.cpu())\n",
    "\n",
    "    all_preds = torch.cat(all_preds, dim=0).numpy()\n",
    "    np.save(save_path, all_preds)\n",
    "    print(f\"[Ensemble Inference] Test predictions saved to {save_path} (shape={all_preds.shape})\")\n",
    "    \n",
    "def ensemble_inference_val(model_list, val_loader, device):\n",
    "\n",
    "    for m in model_list:\n",
    "        m.eval()\n",
    "\n",
    "    running_corrects = 0\n",
    "    total = 0\n",
    "\n",
    "    with torch.inference_mode():\n",
    "        for images, labels in tqdm(val_loader, desc=\"Ensemble Inference(val)\"):\n",
    "            images, labels = images.to(device), labels.to(device)\n",
    "            if images.dim() == 3:\n",
    "                images = images.unsqueeze(1) \n",
    "            if images.shape[1] == 1:\n",
    "                images = images.repeat(1, 3, 1, 1) \n",
    "            prob_list = []\n",
    "            for m in model_list:\n",
    "                outputs = m(images)           \n",
    "                probs = F.softmax(outputs, dim=1)\n",
    "                prob_list.append(probs)\n",
    "\n",
    "            avg_prob = torch.mean(torch.stack(prob_list, dim=0), dim=0) \n",
    "            _, preds = torch.max(avg_prob, 1)\n",
    "            running_corrects += torch.sum(preds == labels.data)\n",
    "            total += labels.size(0)\n",
    "\n",
    "    val_acc = (running_corrects.double() / total).item() if total > 0 else 0.0\n",
    "    return val_acc\n",
    "\n",
    "\n",
    "class Reg_ho_ens(object):\n",
    "    def __init__(self, args, LOG, **kwargs):\n",
    "        self.args = args\n",
    "        self.LOG = LOG\n",
    "        self.measures_name = ['CrossEntropy', 'acc']\n",
    "        \n",
    "        for key, value in args.__dict__.items():\n",
    "            setattr(self, key, value)\n",
    "        for key, value in kwargs.items():\n",
    "            setattr(self, key, value)\n",
    "        \n",
    "        self.train_loader = None\n",
    "        self.valid_loader = None\n",
    "        self.test_loader = None\n",
    "        self.model_list = []\n",
    "        self.optimizer_list = []\n",
    "        self.scheduler_list = []\n",
    "        \n",
    "        self.best_state_dict_total = {}\n",
    "\n",
    "    def _fix_seed(self):\n",
    "        random.seed(self.seed)\n",
    "        np.random.seed(self.seed)\n",
    "        torch.manual_seed(self.seed)\n",
    "        torch.cuda.manual_seed(self.seed)\n",
    "        torch.backends.cudnn.deterministic = True\n",
    "\n",
    "    def _create_model(self, version=34):\n",
    "        \n",
    "        if version == 34:\n",
    "            model = torchvision.models.resnet34(pretrained=False).to(device)\n",
    "            model.fc = nn.Sequential(nn.Linear(512, 200)).to(device)\n",
    "            model = model.to(device)\n",
    "        else:\n",
    "            print(\"You can only use ResNet-34 in this code.\")\n",
    "            model = None\n",
    "        return model\n",
    "\n",
    "    def _make_loaders(self):\n",
    "        \"\"\"\n",
    "        train_loader: cub_train_loader (data, label)\n",
    "        valid_loader: cub_val_loader   (data, label)\n",
    "        test_loader : test_dataset     (data only, no label)\n",
    "        \"\"\"\n",
    "        self.train_loader = cub_train_loader\n",
    "        self.valid_loader = cub_val_loader\n",
    "        self.test_loader  = test_loader\n",
    "\n",
    "    def _define_model_and_optimizer(self, optim='adam'):\n",
    "        self.model_list = [self._create_model(version=34) for _ in range(self.n_ens)]\n",
    "        if optim == 'adam':\n",
    "            self.optimizer_list = [\n",
    "                torch.optim.Adam(model.parameters(), lr=self.lr, weight_decay=self.weight_decay)\n",
    "                for model in self.model_list\n",
    "            ]\n",
    "        else:\n",
    "            self.optimizer_list = [\n",
    "                torch.optim.SGD(model.parameters(), lr=self.lr, momentum=0.9, weight_decay=self.weight_decay)\n",
    "                for model in self.model_list\n",
    "            ]\n",
    "        self.scheduler_list = [\n",
    "            torch.optim.lr_scheduler.MultiStepLR(optimizer, milestones=self.lr_schedule, gamma=0.1)\n",
    "            for optimizer in self.optimizer_list\n",
    "        ]\n",
    "\n",
    "    def _train_one_epoch(self, model, optimizer, epoch_idx, model_idx):\n",
    "\n",
    "        model.train()\n",
    "        running_loss = 0.0\n",
    "        pbar = tqdm(self.train_loader, desc=f\"[Train] Model{model_idx + 1} Epoch{epoch_idx + 1}\")\n",
    "        for batch_data in pbar:\n",
    "            inputs, targets = batch_data\n",
    "            inputs, targets = inputs.to(device), targets.to(device)\n",
    "\n",
    "            if inputs.dim() == 3:\n",
    "                inputs = inputs.unsqueeze(1)   \n",
    "            if inputs.shape[1] == 1:\n",
    "                inputs = inputs.repeat(1,3,1,1)\n",
    "            \n",
    "            outputs = model(inputs)\n",
    "            loss = criterion(outputs, targets)\n",
    "            optimizer.zero_grad()\n",
    "            loss.backward()\n",
    "            optimizer.step()\n",
    "            running_loss += loss.item()\n",
    "\n",
    "        epoch_loss = running_loss / len(self.train_loader)\n",
    "        return epoch_loss\n",
    "\n",
    "    def _eval_accuracy(self, model, loader, desc=\"\"):\n",
    "\n",
    "        model.eval()\n",
    "        running_corrects = 0\n",
    "        total = 0\n",
    "        with torch.no_grad():\n",
    "            pbar = tqdm(loader, desc=desc)\n",
    "            for batch_data in pbar:\n",
    "                if len(batch_data) == 2:\n",
    "                    data, target = batch_data\n",
    "                    data, target = data.to(device), target.to(device)\n",
    "                    if data.dim() == 3:\n",
    "                        data = data.unsqueeze(1) \n",
    "                    if data.shape[1] == 1:\n",
    "                        data = data.repeat(1,3,1,1)\n",
    "                    \n",
    "                    outputs = model(data)\n",
    "                    _, preds = torch.max(outputs, 1)\n",
    "                    running_corrects += torch.sum(preds == target.data)\n",
    "                    total += target.size(0)\n",
    "                else:\n",
    "\n",
    "                    pass\n",
    "        if total == 0:\n",
    "            return 0.0\n",
    "        acc = (running_corrects.double() / total).item()\n",
    "        return acc\n",
    "    \n",
    "    def _train_ens(self):\n",
    "\n",
    "        self.train_losses = {}\n",
    "        self.val_accs = {}\n",
    "        self.test_single_acc = {}\n",
    "\n",
    "        for num, (model, optimizer, scheduler) in enumerate(zip(self.model_list, self.optimizer_list, self.scheduler_list)):\n",
    "            print(f\"====== Starting training for Model {num + 1} / n_ens={self.n_ens} ======\")\n",
    "            train_loss_list = []\n",
    "            val_acc_list = []\n",
    "\n",
    "            for epoch in range(self.epochs):\n",
    "                epoch_loss = self._train_one_epoch(model, optimizer, epoch, num)\n",
    "\n",
    "                # train acc\n",
    "                train_acc = self._eval_accuracy(model, self.train_loader, desc=f\"[Train-ACC] Model{num + 1} Epoch{epoch + 1}\")\n",
    "                # val acc\n",
    "                val_acc   = self._eval_accuracy(model, self.valid_loader, desc=f\"[Val-ACC] Model{num + 1} Epoch{epoch + 1}\")\n",
    "                \n",
    "                train_loss_list.append(epoch_loss)\n",
    "                val_acc_list.append(val_acc)\n",
    "\n",
    "                print(f\"[Model : {num + 1}, Epoch : {epoch+1}/{self.epochs}] TrainLoss={epoch_loss:.4f} TrainAcc={train_acc*100:.2f}% ValAcc={val_acc*100:.2f}%\")\n",
    "                print('-----------------------------')\n",
    "                \n",
    "                scheduler.step()\n",
    "\n",
    "            single_test_acc = self._eval_accuracy(model, self.test_loader)\n",
    "\n",
    "            self.train_losses[num] = train_loss_list\n",
    "            self.val_accs[num] = val_acc_list\n",
    "            self.test_single_acc[num] = single_test_acc\n",
    "\n",
    "    def plot_curve(self, save_dir):\n",
    "        \"\"\"\n",
    "        여기서는 train_losses와 val_accs를 각각 그려볼 수 있음.\n",
    "        \"\"\"\n",
    "        # Train Loss curve\n",
    "        title = 'loss curve of train'\n",
    "        dpi = 80\n",
    "        width, height = 1200, 800\n",
    "        figsize = width / float(dpi), height / float(dpi)\n",
    "\n",
    "        fig = plt.figure(figsize=figsize)\n",
    "        x_axis = np.array([i for i in range(self.epochs)])\n",
    "        plt.xlim(0, self.epochs)\n",
    "\n",
    "        if len(self.train_losses) > 0:\n",
    "            y_max = max([max(self.train_losses[k]) for k in self.train_losses])\n",
    "            plt.ylim(0, y_max*1.1)\n",
    "        plt.grid()\n",
    "        plt.title(title, fontsize=20)\n",
    "        plt.xlabel('Epoch', fontsize=16)\n",
    "        plt.ylabel('Train Loss', fontsize=16)\n",
    "\n",
    "        for e, losses in self.train_losses.items():\n",
    "            plt.plot(x_axis, losses, linestyle='-', label=f'Model-{e}', lw=2)\n",
    "        fig.savefig(os.path.join(save_dir, \"train_losses_plot.png\"), dpi=dpi, bbox_inches='tight')\n",
    "        plt.close(fig)\n",
    "\n",
    "        # Val ACC curve\n",
    "        title = 'Accuracy curve of validation'\n",
    "        fig = plt.figure(figsize=figsize)\n",
    "        x_axis = np.array([i for i in range(self.epochs)])\n",
    "        plt.xlim(0, self.epochs)\n",
    "        if len(self.val_accs) > 0:\n",
    "            y_max = max([max(self.val_accs[k]) for k in self.val_accs])\n",
    "            plt.ylim(0, y_max*1.1)\n",
    "        plt.grid()\n",
    "        plt.title(title, fontsize=20)\n",
    "        plt.xlabel('Epoch', fontsize=16)\n",
    "        plt.ylabel('Val ACC', fontsize=16)\n",
    "\n",
    "        for e, accs in self.val_accs.items():\n",
    "            plt.plot(x_axis, accs, linestyle='-', label=f'Model-{e}-valACC', lw=2)\n",
    "        fig.savefig(os.path.join(save_dir, \"val_acc_plot.png\"), dpi=dpi, bbox_inches='tight')\n",
    "        plt.close(fig)\n",
    "\n",
    "    def _save_checkpoint(self, state, name):\n",
    "        filename = 'checkpoint_{}.ckpt'.format(name)\n",
    "        checkpoint_path = os.path.join(self.save_dir, filename)\n",
    "        torch.save(state, checkpoint_path)\n",
    "\n",
    "\n",
    "def main(args):\n",
    "    main_category = 'teachers_best'\n",
    "    code_specified_dir = os.path.join(args.save_dir, main_category, args.dataset)\n",
    "    save_dir = os.path.join(code_specified_dir, '_'.join([args.arch]+ [str(x) for x in args.h_vec]))\n",
    "    args.save_dir = save_dir\n",
    "    shutil.rmtree(save_dir, ignore_errors=True)\n",
    "    os.makedirs(save_dir, exist_ok=True)\n",
    "\n",
    "    LOG = logging.getLogger('main')\n",
    "    LOG.setLevel(logging.INFO)\n",
    "    log_file = os.path.join(args.save_dir, 'log.txt')\n",
    "    file_handler = logging.FileHandler(log_file)\n",
    "    file_handler.setLevel(logging.INFO)\n",
    "    stream_handler = logging.StreamHandler()\n",
    "    stream_handler.setLevel(logging.WARNING)\n",
    "    LOG.addHandler(stream_handler)\n",
    "    LOG.addHandler(file_handler)\n",
    "\n",
    "    if torch.cuda.is_available():\n",
    "        torch.cuda.set_device(args.gpu_number)\n",
    "\n",
    "    random.seed(args.seed)\n",
    "    np.random.seed(args.seed)\n",
    "    torch.manual_seed(args.seed)\n",
    "    torch.cuda.manual_seed(args.seed)\n",
    "    torch.backends.cudnn.deterministic = True\n",
    "\n",
    "    reg = Reg_ho_ens(args, LOG)\n",
    "\n",
    "    reg.seed = args.data_seed\n",
    "    reg._fix_seed()\n",
    "    reg._make_loaders()\n",
    "    reg._define_model_and_optimizer(optim=args.sgd_methods)\n",
    "    reg._train_ens()\n",
    "    reg.plot_curve(save_dir)\n",
    "\n",
    "    LOG.info(\"Done training.\")\n",
    "    print(save_dir)\n",
    "\n",
    "\n",
    "    for idx, model in enumerate(reg.model_list):\n",
    "        best_ckpt_path = os.path.join(save_dir, f\"checkpoint_{idx}_best_acc.ckpt\")\n",
    "        if os.path.exists(best_ckpt_path):\n",
    "            best_ckpt = torch.load(best_ckpt_path)\n",
    "            model.load_state_dict(best_ckpt['state_dict'])\n",
    "            print(f\"Loaded best_acc checkpoint for model {idx} from {best_ckpt_path}\")\n",
    "        else:\n",
    "            print(f\"[Warning] Best checkpoint not found for model {idx}, using last epoch param.\")\n",
    "            \n",
    "    # ----- 앙상블 Validation Accuracy 계산 -----\n",
    "    val_acc = ensemble_inference_val(reg.model_list, reg.valid_loader, device)\n",
    "    print(f\"\\n[Ensemble] Validation Accuracy = {val_acc*100:.2f}%\")\n",
    "\n",
    "    ensemble_output_path = os.path.join(save_dir, \"ensemble_predictions_bestAcc.npy\")\n",
    "    inference_no_label_ensemble(reg.model_list, reg.test_loader, save_path=ensemble_output_path)\n",
    "    print(f\"Best checkpoint ensemble inference saved to {ensemble_output_path}\")\n",
    "\n",
    "\n",
    "if __name__ == '__main__':\n",
    "    \n",
    "    def create_parser():\n",
    "        parser = argparse.ArgumentParser(description='KD : teacher ensembles')\n",
    "        parser.add_argument('--explanation', default='', type=str)\n",
    "        parser.add_argument('--save_dir', default='.', type=str)\n",
    "        parser.add_argument('--data_dir', default='.', type=str)\n",
    "        parser.add_argument('--seed', default=1, type=int)\n",
    "        parser.add_argument('--data_seed', default=1, type=int)\n",
    "        parser.add_argument('--gpu_number', default=0, type=int)\n",
    "        parser.add_argument('--workers', default=0, type=int)\n",
    "        parser.add_argument('--batch_size', default=64, type=int)\n",
    "        parser.add_argument('--arch', default='ResNet18', type=str)\n",
    "        parser.add_argument('--activation', default='ReLU', type=str)\n",
    "        parser.add_argument('--sgd_methods', default='adam', type=str)\n",
    "        parser.add_argument('--n_ens', default=10, type=int)\n",
    "        parser.add_argument('--h_vec', nargs='*', type=int, default=[50])\n",
    "        parser.add_argument('--dataset', default='CUB', type=str)\n",
    "        parser.add_argument('--lr', default=1e-3, type=float)\n",
    "        parser.add_argument('--lr_schedule', nargs='*', type=int, default=[600])\n",
    "        parser.add_argument('--weight_decay', default=1e-4, type=float)\n",
    "        parser.add_argument('--epochs', default=50, type=int)\n",
    "        parser.add_argument('--evaluation_epochs', default=1, type=int)\n",
    "        parser.add_argument('--ratio_valid', default=0.0, type=float)\n",
    "        parser.add_argument('--print_freq', default=100, type=int)\n",
    "        return parser\n",
    "\n",
    "    for dataset in ['CUB']:\n",
    "        args = create_parser().parse_args([])\n",
    "        args.dataset = dataset\n",
    "        args.lr = 1e-3\n",
    "        args.epochs = 50\n",
    "        args.n_ens = 10\n",
    "        main(args)"
   ]
  },
  {
   "cell_type": "markdown",
   "metadata": {
    "id": "KmvIfjVcdAEA"
   },
   "source": [
    "# Test and Submit"
   ]
  },
  {
   "cell_type": "markdown",
   "metadata": {
    "id": "XyX--vszdIJg"
   },
   "source": [
    "You can modify your TestDataset, but you should be mindful to align it with the training dataset and its transformations."
   ]
  },
  {
   "cell_type": "code",
   "execution_count": 29,
   "metadata": {
    "id": "ykaPM2xucE4T"
   },
   "outputs": [],
   "source": [
    "class TestDataset(Dataset):\n",
    "    def __init__(self, img_file, transform=None):\n",
    "        self.img = np.load(img_file)\n",
    "        self.transform = transform\n",
    "\n",
    "    def __len__(self):\n",
    "        return len(self.img)\n",
    "\n",
    "    def __getitem__(self, idx):\n",
    "        image = self.img[idx]\n",
    "        if self.transform is not None:\n",
    "            image = self.transform(image)\n",
    "        return image\n",
    "\n",
    "test_transform = transforms.Compose([\n",
    "    transforms.ToTensor(),\n",
    "    transforms.Normalize((0.485, 0.456, 0.406), (0.229, 0.224, 0.225))\n",
    "])\n",
    "\n",
    "test_dataset = TestDataset(img_file=\"./CUB_test_images.npy\", transform=test_transform)\n",
    "test_loader = torch.utils.data.DataLoader(test_dataset, batch_size=BATCH_SIZE, shuffle=False, num_workers=2)\n",
    "\n",
    "model.eval()\n",
    "test_predictions = []\n",
    "with torch.no_grad():\n",
    "    for images in test_loader:\n",
    "        images = images.to(device)\n",
    "        outputs = model(images)\n",
    "        _, preds = torch.max(outputs.data, 1)\n",
    "        test_predictions.extend(preds.cpu().numpy())\n",
    "        \n",
    "# #### The ''test_predictions'' list stores the predicted class indices for each test image."
   ]
  },
  {
   "cell_type": "code",
   "execution_count": null,
   "metadata": {},
   "outputs": [
    {
     "data": {
      "text/plain": [
       "array([198,  48,  19, ..., 104, 181, 124])"
      ]
     },
     "execution_count": 34,
     "metadata": {},
     "output_type": "execute_result"
    }
   ],
   "source": [
    "test_predictions = np.load('./teachers/CUB/ResNet18_50/ensemble_predictions.npy')\n",
    "test_predictions\n",
    "\n",
    "# --------------------------------------------------\n",
    "# If you are to load the test_predictions here, you will need to use 202422105_이성은_HW3.npy.\n",
    "# --------------------------------------------------"
   ]
  },
  {
   "cell_type": "markdown",
   "metadata": {
    "id": "bziuPRznkj6q"
   },
   "source": [
    "## **Do not modify the cell below!!!!**\n"
   ]
  },
  {
   "cell_type": "code",
   "execution_count": null,
   "metadata": {
    "id": "oi9xht3BbHzi"
   },
   "outputs": [],
   "source": [
    "def test(model, test_loader):\n",
    "  model.eval()\n",
    "  test_predictions = []\n",
    "\n",
    "  with torch.inference_mode():\n",
    "      for i, data in enumerate(tqdm(test_loader)):\n",
    "          data = data.float().to(device)\n",
    "          output = model(data)\n",
    "          test_predictions.append(output.cpu())\n",
    "\n",
    "  return torch.cat(test_predictions, dim=0)"
   ]
  },
  {
   "cell_type": "code",
   "execution_count": null,
   "metadata": {
    "id": "iS8MQAgucE61"
   },
   "outputs": [],
   "source": [
    "# Save test output npy file\n",
    "predictions = test(model, test_loader)\n",
    "np.save('./Test_results', predictions.numpy())"
   ]
  },
  {
   "cell_type": "code",
   "execution_count": null,
   "metadata": {},
   "outputs": [],
   "source": []
  }
 ],
 "metadata": {
  "accelerator": "GPU",
  "colab": {
   "gpuType": "T4",
   "provenance": []
  },
  "kernelspec": {
   "display_name": "base",
   "language": "python",
   "name": "python3"
  },
  "language_info": {
   "codemirror_mode": {
    "name": "ipython",
    "version": 3
   },
   "file_extension": ".py",
   "mimetype": "text/x-python",
   "name": "python",
   "nbconvert_exporter": "python",
   "pygments_lexer": "ipython3",
   "version": "3.9.16"
  }
 },
 "nbformat": 4,
 "nbformat_minor": 0
}
